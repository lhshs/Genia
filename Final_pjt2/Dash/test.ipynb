{
 "cells": [
  {
   "cell_type": "code",
   "execution_count": null,
   "metadata": {},
   "outputs": [],
   "source": [
    "import s3\n",
    "lecture_bottom = s3.extract('dev/Top_Lecture/', 'SON', 'ALL')"
   ]
  },
  {
   "cell_type": "code",
   "execution_count": null,
   "metadata": {},
   "outputs": [],
   "source": [
    "tt = '의,가,이,은,들,는 안녕하세요 김민수입니다.' \n",
    "dp = DataProcessor()\n",
    "' '.join(dp.text_preprocess(tt))"
   ]
  },
  {
   "cell_type": "markdown",
   "metadata": {},
   "source": [
    "### Input Video -> S3 -> Video -> Audio -> Text -> Preprocess"
   ]
  },
  {
   "cell_type": "code",
   "execution_count": 1,
   "metadata": {},
   "outputs": [
    {
     "data": {
      "text/html": [
       "\n",
       "        <iframe\n",
       "            width=\"100%\"\n",
       "            height=\"650\"\n",
       "            src=\"http://127.0.0.1:8050/\"\n",
       "            frameborder=\"0\"\n",
       "            allowfullscreen\n",
       "            \n",
       "        ></iframe>\n",
       "        "
      ],
      "text/plain": [
       "<IPython.lib.display.IFrame at 0x2276768e8e0>"
      ]
     },
     "metadata": {},
     "output_type": "display_data"
    }
   ],
   "source": [
    "import dash\n",
    "from dash import dcc\n",
    "from dash import html\n",
    "from dash.dependencies import Input, Output\n",
    "\n",
    "import boto3\n",
    "import base64\n",
    "import io\n",
    "from datetime import datetime\n",
    "from moviepy.editor import VideoFileClip\n",
    "import speech_recognition as sr\n",
    "\n",
    "import settings\n",
    "from data import DataProcessor\n",
    "\n",
    "# Initialize\n",
    "data_processor = DataProcessor()\n",
    "\n",
    "# AWS S3 credentials\n",
    "s3 = boto3.client('s3', \n",
    "                  aws_access_key_id=settings.DB_SETTINGS['_s3']['ACCESS_KEY_ID'],\n",
    "                  aws_secret_access_key=settings.DB_SETTINGS['_s3']['ACCESS_SECRET_KEY'])\n",
    "transcribe = boto3.client('transcribe', \n",
    "                          aws_access_key_id=settings.DB_SETTINGS['_s3']['ACCESS_KEY_ID'],\n",
    "                          aws_secret_access_key=settings.DB_SETTINGS['_s3']['ACCESS_SECRET_KEY'])\n",
    "bucket_name = settings.DB_SETTINGS['_s3']['BUCKET_NAME']\n",
    "\n",
    "# Create a Dash app\n",
    "app = dash.Dash(__name__)\n",
    "\n",
    "# Define layout\n",
    "app.layout = html.Div([\n",
    "    dcc.Upload(\n",
    "        id='upload-video',\n",
    "        children=html.Div([\n",
    "            'Drag and Drop or ',\n",
    "            html.A('Select a Video')\n",
    "        ]),\n",
    "        style={\n",
    "            'width': '100%',\n",
    "            'height': '60px',\n",
    "            'lineHeight': '60px',\n",
    "            'borderWidth': '1px',\n",
    "            'borderStyle': 'dashed',\n",
    "            'borderRadius': '5px',\n",
    "            'textAlign': 'center',\n",
    "            'margin': '10px'\n",
    "        },\n",
    "        multiple=False\n",
    "    ),\n",
    "    html.Div(id='output-upload')\n",
    "])\n",
    "\n",
    "# Define callback\n",
    "@app.callback(Output('output-upload', 'children'),\n",
    "              Input('upload-video', 'contents'))\n",
    "def upload_video(contents):\n",
    "    if contents is not None:\n",
    "        content_type, content_string = contents.split(',')\n",
    "        decoded = base64.b64decode(content_string)\n",
    "        # Get current time and format it as a string\n",
    "        path = 'user/video/'\n",
    "        current_time = datetime.now().strftime(\"%Y%m%d%H%M%S\")\n",
    "        filename = f'{current_time[:8]}_{current_time[8:]}_user_video.mp4'\n",
    "        s3.upload_fileobj(io.BytesIO(decoded), bucket_name, path + filename)\n",
    "        \n",
    "        # Download the video from S3\n",
    "        s3.download_file(bucket_name, path + filename, 'extracted_video.mp4')\n",
    "        \n",
    "        # Extract audio from video\n",
    "        video = VideoFileClip('extracted_video.mp4')\n",
    "        video.audio.write_audiofile('extracted_audio.wav')\n",
    "        \n",
    "        # Transcribe audio file into text\n",
    "        r = sr.Recognizer() \n",
    "        with sr.AudioFile('extracted_audio.wav') as source: \n",
    "            audio = r.record(source) \n",
    "            text = r.recognize_google(audio, language=\"ko-KR\") \n",
    "            # preprocess text\n",
    "            text = data_processor.text_preprocess(text)\n",
    "\n",
    "        # Save the transcript to a .txt file and upload it to S3\n",
    "        transcript_file = io.BytesIO(' '.join(text).encode())\n",
    "        print(transcript_file.getvalue().decode('utf-8')) # 적재된 데이터 확인\n",
    "        s3.upload_fileobj(transcript_file, bucket_name, f'user/transcript/{current_time[:8]}_{current_time[8:]}_transcript.txt')\n",
    "        \n",
    "        return html.Div([\n",
    "            'Video and transcript successfully uploaded to S3'\n",
    "        ])\n",
    "\n",
    "# Run app\n",
    "if __name__ == '__main__':\n",
    "    app.run_server(debug=True)"
   ]
  },
  {
   "cell_type": "markdown",
   "metadata": {},
   "source": [
    "### "
   ]
  },
  {
   "cell_type": "markdown",
   "metadata": {},
   "source": [
    "### S3 -> Dash"
   ]
  },
  {
   "cell_type": "code",
   "execution_count": 1,
   "metadata": {},
   "outputs": [
    {
     "name": "stderr",
     "output_type": "stream",
     "text": [
      "[nltk_data] Downloading package vader_lexicon to\n",
      "[nltk_data]     C:\\Users\\hslio\\AppData\\Roaming\\nltk_data...\n",
      "[nltk_data]   Package vader_lexicon is already up-to-date!\n"
     ]
    },
    {
     "name": "stdout",
     "output_type": "stream",
     "text": [
      "<<<<< Txt List >>>>>\n",
      "['dev/Top_Lecture/중학뉴런수학2학년(상)_SON_GPT_41672.txt']\n",
      "<<<<< Txt List >>>>>\n",
      "['dev/Other_Lecture/중학뉴런수학2학년(상)_BYUN_GPT_62031.txt']\n",
      "<<<<< Txt List >>>>>\n",
      "['user/transcript/20231219173149_transcript.txt']\n"
     ]
    }
   ],
   "source": [
    "from data import DataProcessor\n",
    "from figure import FigureGenerator\n",
    "\n",
    "\n",
    "# Initialize DataProcessor and FigureGenerator\n",
    "data_processor = DataProcessor()\n",
    "figure_generator = FigureGenerator('dev/Top_Lecture/', 'SON', \n",
    "                                   'dev/Other_Lecture/', 'BYUN',\n",
    "                                   'user/transcript/', '20231219173149')"
   ]
  },
  {
   "cell_type": "code",
   "execution_count": 3,
   "metadata": {},
   "outputs": [
    {
     "name": "stdout",
     "output_type": "stream",
     "text": [
      "user/transcript/20231219_173850_transcript.txt\n"
     ]
    }
   ],
   "source": [
    "import s3\n",
    "\n",
    "ss = \n",
    "print(ss)"
   ]
  }
 ],
 "metadata": {
  "kernelspec": {
   "display_name": "lhs_3.9",
   "language": "python",
   "name": "python3"
  },
  "language_info": {
   "codemirror_mode": {
    "name": "ipython",
    "version": 3
   },
   "file_extension": ".py",
   "mimetype": "text/x-python",
   "name": "python",
   "nbconvert_exporter": "python",
   "pygments_lexer": "ipython3",
   "version": "3.9.18"
  }
 },
 "nbformat": 4,
 "nbformat_minor": 2
}
