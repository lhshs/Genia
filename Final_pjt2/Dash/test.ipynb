{
 "cells": [
  {
   "cell_type": "code",
   "execution_count": null,
   "metadata": {},
   "outputs": [],
   "source": [
    "import s3\n",
    "lecture_bottom = s3.extract('dev/Top_Lecture/', 'SON', 'ALL')"
   ]
  },
  {
   "cell_type": "markdown",
   "metadata": {},
   "source": [
    "### Input Video -> S3"
   ]
  },
  {
   "cell_type": "code",
   "execution_count": 2,
   "metadata": {},
   "outputs": [
    {
     "data": {
      "text/html": [
       "\n",
       "        <iframe\n",
       "            width=\"100%\"\n",
       "            height=\"650\"\n",
       "            src=\"http://127.0.0.1:8050/\"\n",
       "            frameborder=\"0\"\n",
       "            allowfullscreen\n",
       "            \n",
       "        ></iframe>\n",
       "        "
      ],
      "text/plain": [
       "<IPython.lib.display.IFrame at 0x139b2883fd0>"
      ]
     },
     "metadata": {},
     "output_type": "display_data"
    },
    {
     "name": "stdout",
     "output_type": "stream",
     "text": [
      "MoviePy - Writing audio in extracted_audio.wav\n"
     ]
    },
    {
     "name": "stderr",
     "output_type": "stream",
     "text": [
      "                                                        "
     ]
    },
    {
     "name": "stdout",
     "output_type": "stream",
     "text": [
      "MoviePy - Done.\n"
     ]
    },
    {
     "name": "stderr",
     "output_type": "stream",
     "text": [
      "\r"
     ]
    }
   ],
   "source": [
    "import dash\n",
    "import dash_core_components as dcc\n",
    "import dash_html_components as html\n",
    "from dash.dependencies import Input, Output\n",
    "\n",
    "import boto3\n",
    "import base64\n",
    "import io\n",
    "from datetime import datetime\n",
    "import json\n",
    "import time\n",
    "from moviepy.editor import VideoFileClip\n",
    "from pydub import AudioSegment\n",
    "import speech_recognition as sr\n",
    "\n",
    "import settings\n",
    "\n",
    "# AWS S3 credentials\n",
    "s3 = boto3.client('s3', \n",
    "                  aws_access_key_id=settings.DB_SETTINGS['_s3']['ACCESS_KEY_ID'],\n",
    "                  aws_secret_access_key=settings.DB_SETTINGS['_s3']['ACCESS_SECRET_KEY'])\n",
    "transcribe = boto3.client('transcribe', \n",
    "                          aws_access_key_id=settings.DB_SETTINGS['_s3']['ACCESS_KEY_ID'],\n",
    "                          aws_secret_access_key=settings.DB_SETTINGS['_s3']['ACCESS_SECRET_KEY'])\n",
    "bucket_name = settings.DB_SETTINGS['_s3']['BUCKET_NAME']\n",
    "\n",
    "# Create a Dash app\n",
    "app = dash.Dash(__name__)\n",
    "\n",
    "# Define layout\n",
    "app.layout = html.Div([\n",
    "    dcc.Upload(\n",
    "        id='upload-video',\n",
    "        children=html.Div([\n",
    "            'Drag and Drop or ',\n",
    "            html.A('Select a Video')\n",
    "        ]),\n",
    "        style={\n",
    "            'width': '100%',\n",
    "            'height': '60px',\n",
    "            'lineHeight': '60px',\n",
    "            'borderWidth': '1px',\n",
    "            'borderStyle': 'dashed',\n",
    "            'borderRadius': '5px',\n",
    "            'textAlign': 'center',\n",
    "            'margin': '10px'\n",
    "        },\n",
    "        multiple=False\n",
    "    ),\n",
    "    html.Div(id='output-upload')\n",
    "])\n",
    "\n",
    "# Define callback\n",
    "@app.callback(Output('output-upload', 'children'),\n",
    "              Input('upload-video', 'contents'))\n",
    "def upload_video(contents):\n",
    "    if contents is not None:\n",
    "        content_type, content_string = contents.split(',')\n",
    "        decoded = base64.b64decode(content_string)\n",
    "        # Get current time and format it as a string\n",
    "        path = 'user/video/'\n",
    "        current_time = datetime.now().strftime(\"%Y%m%d%H%M%S\")\n",
    "        filename = f'{current_time[:8]}_{current_time[8:]}_user_video.mp4'\n",
    "        s3.upload_fileobj(io.BytesIO(decoded), bucket_name, path + filename)\n",
    "        \n",
    "        # Download the video from S3\n",
    "        s3.download_file(bucket_name, path + filename, 'local_video.mp4')\n",
    "        \n",
    "        # Extract audio from video\n",
    "        video = VideoFileClip('local_video.mp4')\n",
    "        video.audio.write_audiofile('extracted_audio.wav')\n",
    "        \n",
    "        # Transcribe audio file into text\n",
    "        r = sr.Recognizer() \n",
    "        with sr.AudioFile('extracted_audio.wav') as source: \n",
    "            audio = r.record(source) \n",
    "            text = r.recognize_google(audio, language=\"ko-KR\") \n",
    "        \n",
    "        # Save the transcript to a .txt file and upload it to S3\n",
    "        transcript_file = io.BytesIO(text.encode())\n",
    "        s3.upload_fileobj(transcript_file, bucket_name, f'user/transcript/{current_time}_transcript.txt')\n",
    "        \n",
    "        return html.Div([\n",
    "            'Video and transcript successfully uploaded to S3'\n",
    "        ])\n",
    "\n",
    "# Run app\n",
    "if __name__ == '__main__':\n",
    "    app.run_server(debug=True)"
   ]
  },
  {
   "cell_type": "markdown",
   "metadata": {},
   "source": [
    "### Video -> Audio -> Text "
   ]
  },
  {
   "cell_type": "code",
   "execution_count": null,
   "metadata": {},
   "outputs": [],
   "source": [
    "from moviepy.editor import VideoFileClip\n",
    "from pydub import AudioSegment\n",
    "import speech_recognition as sr\n",
    "\n",
    "# Extract audio from video\n",
    "video = VideoFileClip(\"../Input_Video.mp4\")\n",
    "video.audio.write_audiofile(\"extracted_audio.wav\")\n",
    "\n",
    "# Transcribe audio file into text\n",
    "r = sr.Recognizer()\n",
    "audio_file = sr.AudioFile(\"extracted_audio.wav\")\n",
    "\n",
    "with audio_file as source:\n",
    "    audio = r.record(source)\n",
    "    text = r.recognize_google(audio, language=\"ko-KR\")\n",
    "\n",
    "print(text)"
   ]
  },
  {
   "cell_type": "markdown",
   "metadata": {},
   "source": [
    "### Text -> Preprocess"
   ]
  },
  {
   "cell_type": "code",
   "execution_count": null,
   "metadata": {},
   "outputs": [],
   "source": []
  },
  {
   "cell_type": "markdown",
   "metadata": {},
   "source": [
    "### Preprocess Text -> S3"
   ]
  },
  {
   "cell_type": "code",
   "execution_count": null,
   "metadata": {},
   "outputs": [],
   "source": []
  },
  {
   "cell_type": "markdown",
   "metadata": {},
   "source": [
    "### S3 -> Dash"
   ]
  },
  {
   "cell_type": "code",
   "execution_count": null,
   "metadata": {},
   "outputs": [],
   "source": []
  }
 ],
 "metadata": {
  "kernelspec": {
   "display_name": "lhs_3.9",
   "language": "python",
   "name": "python3"
  },
  "language_info": {
   "codemirror_mode": {
    "name": "ipython",
    "version": 3
   },
   "file_extension": ".py",
   "mimetype": "text/x-python",
   "name": "python",
   "nbconvert_exporter": "python",
   "pygments_lexer": "ipython3",
   "version": "3.9.18"
  }
 },
 "nbformat": 4,
 "nbformat_minor": 2
}
