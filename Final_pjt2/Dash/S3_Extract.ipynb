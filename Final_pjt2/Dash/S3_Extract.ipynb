{
 "cells": [
  {
   "cell_type": "code",
   "execution_count": 11,
   "metadata": {},
   "outputs": [],
   "source": [
    "import boto3\n",
    "import settings\n",
    "\n",
    "settings.DB_SETTINGS['_s3']['ACCESS_KEY_ID']\n",
    "settings.DB_SETTINGS['_s3']['ACCESS_SECRET_KEY']\n",
    "settings.DB_SETTINGS['_s3']['BUCKET_NAME']\n",
    "\n",
    "s3 = boto3.client('s3', aws_access_key_id=settings.DB_SETTINGS['_s3']['ACCESS_KEY_ID'],\n",
    "                  aws_secret_access_key=settings.DB_SETTINGS['_s3']['ACCESS_SECRET_KEY'])\n",
    "bucket_name = settings.DB_SETTINGS['_s3']['BUCKET_NAME']"
   ]
  },
  {
   "cell_type": "markdown",
   "metadata": {},
   "source": [
    "### Extract"
   ]
  },
  {
   "cell_type": "markdown",
   "metadata": {},
   "source": [
    "S3 Extract All Files"
   ]
  },
  {
   "cell_type": "code",
   "execution_count": 2,
   "metadata": {},
   "outputs": [
    {
     "name": "stdout",
     "output_type": "stream",
     "text": [
      "dev/\n",
      "dev/NCIC/NCIC_ALL_GPT_KOR_957.txt\n",
      "dev/NCIC/수학목표_중학수학성취기준.txt\n",
      "dev/Other_Lecture/중학뉴런수학2학년(상)_변창현_GPT_ALL_62031.txt\n",
      "dev/Other_Lecture/중학뉴런수학2학년(상)_변창현_all_685813.txt\n",
      "dev/Other_Lecture/중학뉴런수학2학년(상)_서채은_all_831545.txt\n",
      "dev/Top_Lecture/중학뉴런수학2학년(상)_손석민_GPT_ALL_KOR_41672.txt\n",
      "dev/Top_Lecture/중학뉴런수학2학년(상)_손석민_all_805141.txt\n"
     ]
    }
   ],
   "source": [
    "# List all files\n",
    "response = s3.list_objects_v2(Bucket=bucket_name)\n",
    "\n",
    "# Print all file names\n",
    "for obj in response['Contents']:\n",
    "    print(obj['Key'])"
   ]
  },
  {
   "cell_type": "markdown",
   "metadata": {},
   "source": [
    "S3 Extract File Name In 'dev/Top_Lecture/'"
   ]
  },
  {
   "cell_type": "code",
   "execution_count": 43,
   "metadata": {},
   "outputs": [
    {
     "name": "stdout",
     "output_type": "stream",
     "text": [
      "dev/Top_Lecture/중학뉴런수학2학년(상)_손석민_all_805141.txt\n"
     ]
    }
   ],
   "source": [
    "# List all files\n",
    "response = s3.list_objects_v2(Bucket=bucket_name, Prefix='dev/Top_Lecture/')\n",
    "\n",
    "# Print file names that contain 'GPT'\n",
    "for obj in response['Contents']:\n",
    "    if '손석민' in obj['Key']:\n",
    "        print(obj['Key'])\n",
    "        file_key = obj['Key'] # Make Variable For Get Text\n",
    "print(file_key)"
   ]
  },
  {
   "cell_type": "markdown",
   "metadata": {},
   "source": [
    "Get Text"
   ]
  },
  {
   "cell_type": "code",
   "execution_count": 31,
   "metadata": {},
   "outputs": [
    {
     "name": "stdout",
     "output_type": "stream",
     "text": [
      "반갑습니다, EBS 친구 여러분들. 중학 뉴런 수학 2학년 (상)의 손석민입니다. 여러분들과 함께 새로운 강좌로 만나게 되었습니다. 일단 반갑다는 인사를 드리고 싶고요.우리 교재 \n"
     ]
    }
   ],
   "source": [
    "response = s3.get_object(Bucket=bucket_name, Key=file_key)\n",
    "file_content = response['Body'].read().decode('utf-8')\n",
    "\n",
    "print(file_content[:100])"
   ]
  },
  {
   "cell_type": "code",
   "execution_count": 4,
   "metadata": {},
   "outputs": [
    {
     "name": "stdout",
     "output_type": "stream",
     "text": [
      "<<<<< Txt List >>>>>\n",
      "['dev/Top_Lecture/중학뉴런수학2학년(상)_SON_GPT_41672.txt']\n",
      "다음 텍스트는 중학교 학생들을 위한 뉴런 수학 과정에서 유리수와 소수에 대해 다룹니다. 이 텍스트는 유리수가 분수로 표현될 수 있으며 유한한지 무한한지에 따라 분류될 수 있다고 설\n"
     ]
    }
   ],
   "source": [
    "import settings\n",
    "import boto3\n",
    "\n",
    "settings.DB_SETTINGS['_s3']['ACCESS_KEY_ID']\n",
    "settings.DB_SETTINGS['_s3']['ACCESS_SECRET_KEY']\n",
    "settings.DB_SETTINGS['_s3']['BUCKET_NAME']\n",
    "\n",
    "s3 = boto3.client('s3', aws_access_key_id=settings.DB_SETTINGS['_s3']['ACCESS_KEY_ID'],\n",
    "                  aws_secret_access_key=settings.DB_SETTINGS['_s3']['ACCESS_SECRET_KEY'])\n",
    "bucket_name = settings.DB_SETTINGS['_s3']['BUCKET_NAME']\n",
    "\n",
    "response = s3.list_objects_v2(Bucket=bucket_name, Prefix='dev/Top_Lecture/')\n",
    "\n",
    "txt_lst = []\n",
    "for obj in response['Contents']:\n",
    "    if 'SON' in obj['Key'] and ('GPT' in obj['Key'] if 'GPT' else True):\n",
    "        file_key = obj['Key'] # Make Variable For Get Text\n",
    "    \n",
    "        txt_lst.append(file_key)\n",
    "print('<<<<< Txt List >>>>>')\n",
    "print(txt_lst)\n",
    "\n",
    "response = s3.get_object(Bucket=bucket_name, Key=file_key)\n",
    "result = response['Body'].read().decode('utf-8')\n",
    "print(result[:100])"
   ]
  }
 ],
 "metadata": {
  "kernelspec": {
   "display_name": "lhs_3.9",
   "language": "python",
   "name": "python3"
  },
  "language_info": {
   "codemirror_mode": {
    "name": "ipython",
    "version": 3
   },
   "file_extension": ".py",
   "mimetype": "text/x-python",
   "name": "python",
   "nbconvert_exporter": "python",
   "pygments_lexer": "ipython3",
   "version": "3.9.18"
  }
 },
 "nbformat": 4,
 "nbformat_minor": 2
}
