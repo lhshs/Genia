{
 "cells": [
  {
   "cell_type": "code",
   "execution_count": 10,
   "metadata": {},
   "outputs": [],
   "source": [
    "import dash\n",
    "from dash import dcc, html\n",
    "from dash.dependencies import Input, Output\n",
    "import base64\n",
    "import io\n",
    "import psycopg2\n",
    "from moviepy.editor import VideoFileClip"
   ]
  },
  {
   "cell_type": "code",
   "execution_count": 12,
   "metadata": {},
   "outputs": [
    {
     "data": {
      "text/html": [
       "\n",
       "        <iframe\n",
       "            width=\"100%\"\n",
       "            height=\"650\"\n",
       "            src=\"http://127.0.0.1:8050/\"\n",
       "            frameborder=\"0\"\n",
       "            allowfullscreen\n",
       "            \n",
       "        ></iframe>\n",
       "        "
      ],
      "text/plain": [
       "<IPython.lib.display.IFrame at 0x1a5a0d8f430>"
      ]
     },
     "metadata": {},
     "output_type": "display_data"
    }
   ],
   "source": [
    "app = dash.Dash()\n",
    "\n",
    "app.layout = html.Div([\n",
    "    # Title\n",
    "    html.Div(\n",
    "        children=[\n",
    "            html.H1('Video Analysis',\n",
    "                    style={'textAlign': 'center'}),\n",
    "        ]),\n",
    "\n",
    "    # Upload Video\n",
    "    html.Div(\n",
    "        dcc.Upload(\n",
    "            id='upload-video',\n",
    "            children=html.Div([\n",
    "                'Drag and Drop or Select a Video',\n",
    "            ]),\n",
    "            style={\n",
    "                'width': '100%',\n",
    "                'height': '60px',\n",
    "                'lineHeight': '60px',\n",
    "                'borderWidth': '1px',\n",
    "                'borderStyle': 'dashed',\n",
    "                'borderRadius': '5px',\n",
    "                'textAlign': 'center',\n",
    "                'margin': '10px'\n",
    "            },\n",
    "            # Allow multiple files to be uploaded        \n",
    "            multiple=True,\n",
    "        ),\n",
    "        style={'display': 'flex', 'justifyContent': 'center', 'alignItems': 'center'}\n",
    "    ),\n",
    "\n",
    "    # Output Video\n",
    "    html.Div(id='output-video',\n",
    "             style={'display': 'flex', 'justifyContent': 'center', 'alignItems': 'center'})\n",
    "])\n",
    "\n",
    "@app.callback(\n",
    "    Output('output-video', 'children'),\n",
    "    Input('upload-video', 'contents'),\n",
    "    prevent_initial_call=True\n",
    ")\n",
    "def update_output(list_of_contents):\n",
    "    if list_of_contents is not None:\n",
    "\n",
    "        # Connect to your postgres DB\n",
    "        conn = psycopg2.connect(\"dbname=VideoWeb user=postgres password=1q2w3e\")\n",
    "\n",
    "        # Open a cursor to perform database operations\n",
    "        cur = conn.cursor()\n",
    "\n",
    "        # Create table if it doesn't exist\n",
    "        cur.execute(\"CREATE TABLE IF NOT EXISTS video_metadata (id serial PRIMARY KEY, duration REAL, fps REAL, size TEXT, audio_fps REAL);\")\n",
    "\n",
    "        for contents in list_of_contents:\n",
    "            # The contents are base64 encoded, so we must decode them\n",
    "            decoded = base64.b64decode(contents.split(',')[1])\n",
    "\n",
    "            # Write the binary data to a file\n",
    "            with open('temp.mp4', 'wb') as f:\n",
    "                f.write(decoded)\n",
    "\n",
    "            # Read the video file and extract metadata\n",
    "            clip = VideoFileClip('temp.mp4')\n",
    "            duration = clip.duration\n",
    "            fps = clip.fps\n",
    "            size = str(clip.size)\n",
    "            audio_fps = clip.audio.fps if clip.audio is not None else None\n",
    "\n",
    "            # Insert the metadata into the database\n",
    "            cur.execute(\"INSERT INTO video_metadata (duration, fps, size, audio_fps) VALUES (%s, %s, %s, %s);\", (duration, fps, size, audio_fps))\n",
    "\n",
    "        # Commit changes and close resources\n",
    "        conn.commit()\n",
    "        cur.close()\n",
    "        conn.close()       \n",
    "\n",
    "        children = [\n",
    "            html.Video(src=contents, \n",
    "                       controls=True, \n",
    "                       style={'width': '50%'}) for contents in list_of_contents\n",
    "        ]\n",
    "        return children\n",
    "\n",
    "if __name__ == '__main__':\n",
    "    app.run_server(debug=True)"
   ]
  },
  {
   "cell_type": "code",
   "execution_count": null,
   "metadata": {},
   "outputs": [],
   "source": []
  }
 ],
 "metadata": {
  "kernelspec": {
   "display_name": "lhs_3.10",
   "language": "python",
   "name": "python3"
  },
  "language_info": {
   "codemirror_mode": {
    "name": "ipython",
    "version": 3
   },
   "file_extension": ".py",
   "mimetype": "text/x-python",
   "name": "python",
   "nbconvert_exporter": "python",
   "pygments_lexer": "ipython3",
   "version": "3.9.18"
  }
 },
 "nbformat": 4,
 "nbformat_minor": 2
}
