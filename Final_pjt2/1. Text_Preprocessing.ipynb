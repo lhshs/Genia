{
 "cells": [
  {
   "cell_type": "markdown",
   "metadata": {},
   "source": [
    "#### 1. smi file -> txt "
   ]
  },
  {
   "cell_type": "code",
   "execution_count": 2,
   "metadata": {},
   "outputs": [],
   "source": [
    "import pandas as pd\n",
    "import pysubs2 # srt, ass 자막에서 텍스트 뽑아내는 모듈\n",
    "import re # smi 파일에서 텍스트를 뽑아내기 위해 사용하는 모듈\n",
    "import os"
   ]
  },
  {
   "cell_type": "code",
   "execution_count": null,
   "metadata": {},
   "outputs": [],
   "source": [
    "# Define the directory where the .smi files are located\n",
    "smi_dir = './smi_text'\n",
    "\n",
    "# Get a list of all .smi files in the directory\n",
    "smi_files = [f for f in os.listdir(smi_dir) if f.endswith('.smi')]\n",
    "\n",
    "for smi_file in smi_files:\n",
    "    with open(os.path.join(smi_dir, smi_file), 'r', encoding='utf-8') as file:\n",
    "        wholefile = file.readlines()\n",
    "\n",
    "    text = []\n",
    "    for line in wholefile:\n",
    "        line = line.strip()\n",
    "        mod_line = re.sub(r\"\\<[^()]*\\>\", \"\", line)  # regular expression: remove <> part \n",
    "        if mod_line != '':  # mod_line에 내용이 없을 때 즉, ''인 경우는 패스\n",
    "            text.append(mod_line)\n",
    "\n",
    "    text_pd = pd.DataFrame(text[13:], columns=['Text'])  # pandas dataframe으로 변환\n",
    "    text_pd.to_csv(os.path.join(smi_dir, smi_file.replace('.smi', '.txt')), index=False)  # index=False 은 pandas dataframe에서 index를 제거하여 csv 파일 만들어 줌"
   ]
  },
  {
   "cell_type": "markdown",
   "metadata": {},
   "source": [
    "#### 2. Integration"
   ]
  },
  {
   "cell_type": "code",
   "execution_count": null,
   "metadata": {},
   "outputs": [],
   "source": [
    "pwd"
   ]
  },
  {
   "cell_type": "code",
   "execution_count": null,
   "metadata": {},
   "outputs": [],
   "source": [
    "import glob\n",
    "\n",
    "# Change the working directory\n",
    "os.chdir('./Lecture_Text')\n",
    "\n",
    "# Get a list of all txt files\n",
    "txt_files = glob.glob('./txt/*.txt')\n",
    "\n",
    "# Open the consolidated file in write mode\n",
    "with open('./all.txt', 'w') as outfile:\n",
    "    # Loop through each file\n",
    "    for filename in txt_files:\n",
    "        # Open each file in read mode\n",
    "        with open(filename, 'r') as infile:\n",
    "            # Read the content of the file\n",
    "            content = infile.read()\n",
    "            # Write the content to consolidated.txt\n",
    "            outfile.write(content)\n",
    "            # Add a newline character to separate the content of different files\n",
    "            outfile.write(\"\\n\")"
   ]
  }
 ],
 "metadata": {
  "kernelspec": {
   "display_name": "lhs_3.9",
   "language": "python",
   "name": "python3"
  },
  "language_info": {
   "codemirror_mode": {
    "name": "ipython",
    "version": 3
   },
   "file_extension": ".py",
   "mimetype": "text/x-python",
   "name": "python",
   "nbconvert_exporter": "python",
   "pygments_lexer": "ipython3",
   "version": "3.9.18"
  }
 },
 "nbformat": 4,
 "nbformat_minor": 2
}
