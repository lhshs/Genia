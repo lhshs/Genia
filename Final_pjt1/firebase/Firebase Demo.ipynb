{
 "cells": [
  {
   "cell_type": "code",
   "execution_count": 1,
   "metadata": {},
   "outputs": [],
   "source": [
    "import firebase_admin\n",
    "from firebase_admin import credentials\n",
    "from firebase_admin import firestore"
   ]
  },
  {
   "cell_type": "code",
   "execution_count": 2,
   "metadata": {},
   "outputs": [
    {
     "data": {
      "text/plain": [
       "<firebase_admin.App at 0x23b63adfca0>"
      ]
     },
     "execution_count": 2,
     "metadata": {},
     "output_type": "execute_result"
    }
   ],
   "source": [
    "# Use a service account\n",
    "cred = credentials.Certificate('./firstline-17bda-firebase-adminsdk-o6qrq-ed49df137a.json')\n",
    "firebase_admin.initialize_app(cred)\n",
    "\n",
    "# Get a reference to the Firestore database\n",
    "db = firestore.client()\n",
    "\n",
    "# Query the database to retrieve the data\n",
    "docs = db.collection('user').get()"
   ]
  },
  {
   "cell_type": "code",
   "execution_count": 20,
   "metadata": {},
   "outputs": [
    {
     "name": "stdout",
     "output_type": "stream",
     "text": [
      "(\"VjRakTNiYSdwQTqtQtIK => {'image': \"\n",
      " \"'https://firebasestorage.googleapis.com/v0/b/firstline-17bda.appspot.com/o/images%2F1699598516716769?alt=media&token=2d258c3e-ceaa-4b42-8891-dbf7acffcd4b', \"\n",
      " \"'time': DatetimeWithNanoseconds(2023, 11, 10, 6, 41, 58, 507901, \"\n",
      " 'tzinfo=datetime.timezone.utc)}')\n",
      "(\"e1A11WQrJGRqbJEDnk3d => {'image': \"\n",
      " \"'https://firebasestorage.googleapis.com/v0/b/firstline-17bda.appspot.com/o/images%2F1699598592351353?alt=media&token=3a9398f1-7207-4193-a950-06aa38edf8f8', \"\n",
      " \"'time': DatetimeWithNanoseconds(2023, 11, 10, 6, 43, 13, 621543, \"\n",
      " 'tzinfo=datetime.timezone.utc)}')\n",
      "\"l639zsFwsGPmJDiI2ZKa => {'image': 'sample', 'time': 'sample'}\"\n"
     ]
    }
   ],
   "source": [
    "import pprint\n",
    "\n",
    "for doc in docs:\n",
    "    pprint.pprint(f'{doc.id} => {doc.to_dict()}')"
   ]
  },
  {
   "cell_type": "code",
   "execution_count": 39,
   "metadata": {},
   "outputs": [
    {
     "data": {
      "text/plain": [
       "'https://firebasestorage.googleapis.com/v0/b/firstline-17bda.appspot.com/o/images%2F1699598516716769?alt=media&token=2d258c3e-ceaa-4b42-8891-dbf7acffcd4b.jpg'"
      ]
     },
     "execution_count": 39,
     "metadata": {},
     "output_type": "execute_result"
    }
   ],
   "source": [
    "image_name = docs[0].to_dict()['image']\n",
    "image_name += '.jpg'\n",
    "image_name"
   ]
  },
  {
   "cell_type": "code",
   "execution_count": null,
   "metadata": {},
   "outputs": [],
   "source": []
  }
 ],
 "metadata": {
  "kernelspec": {
   "display_name": "Python 3 (ipykernel)",
   "language": "python",
   "name": "python3"
  },
  "language_info": {
   "codemirror_mode": {
    "name": "ipython",
    "version": 3
   },
   "file_extension": ".py",
   "mimetype": "text/x-python",
   "name": "python",
   "nbconvert_exporter": "python",
   "pygments_lexer": "ipython3",
   "version": "3.10.13"
  }
 },
 "nbformat": 4,
 "nbformat_minor": 5
}
