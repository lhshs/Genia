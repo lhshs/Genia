{
 "cells": [
  {
   "cell_type": "code",
   "execution_count": 2,
   "metadata": {},
   "outputs": [],
   "source": [
    "import firebase_admin\n",
    "from firebase_admin import messaging\n",
    "\n",
    "def handle_signal():\n",
    "    # Initialize the Firebase app\n",
    "    firebase_admin.initialize_app()\n",
    "\n",
    "    # Subscribe to the topic\n",
    "    topic = 'signal'\n",
    "\n",
    "    # Define the message handler\n",
    "    def on_message(message):\n",
    "        print(f\"Received signal: {message.data['signal']}\")\n",
    "\n",
    "    # Start listening for messages\n",
    "    messaging.subscribe(topic, on_message)"
   ]
  },
  {
   "cell_type": "code",
   "execution_count": null,
   "metadata": {},
   "outputs": [],
   "source": []
  }
 ],
 "metadata": {
  "kernelspec": {
   "display_name": "f_pjt1",
   "language": "python",
   "name": "python3"
  },
  "language_info": {
   "codemirror_mode": {
    "name": "ipython",
    "version": 3
   },
   "file_extension": ".py",
   "mimetype": "text/x-python",
   "name": "python",
   "nbconvert_exporter": "python",
   "pygments_lexer": "ipython3",
   "version": "3.10.13"
  }
 },
 "nbformat": 4,
 "nbformat_minor": 2
}
