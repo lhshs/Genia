{
 "cells": [
  {
   "cell_type": "markdown",
   "metadata": {},
   "source": [
    "### KDT\n",
    "#### 1. Python 데이터분석: 예측모델 개발\n",
    "\n",
    "- 강사: 최가람, 천재교육 AI센터 데이터기획분석팀원\n",
    "- 주요 업무: 이탈 예측, 추천 (도서, 콘텐츠) 모델 개발 및 운영, 데이터 분석 업무\n",
    "\n",
    "- 일정: 2023.8.07 ~ 8.08\n",
    "<p>\n",
    "\n",
    "- 교육내용\n",
    "    - <b>이탈 예측 모델 개념 및 활용 데이터 설명</b>\n",
    "    - <b>데이터 전처리 모듈 개발</b>\n",
    "    - <b>분석 모델링 개발 실습 1 (Logistic Regression, LGBM)</b>\n",
    "    - 분석 모델링 개발 실습 2 (Logistic Regression, LGBM)\n",
    "    - 성능 지표 개념 (Confusion Matrix)\n",
    "    - 모델 성능 결과 분석\n",
    "    - 모델 최적화\n",
    "<p>\n",
    "\n",
    "- 교육목표\n",
    "    - 온라인 교육 서비스를 이용하고 있는 유저들의 이력을 바탕으로 이탈 여부를 예측할 수 있는 모델을 개발해보자\n",
    "    - 통합학년 이탈 예측 모델 구성\n",
    "    - 학년 별 이탈 예측 모델 구성\n",
    "    - 구매/재구매 별 이탈 예측 모델 구성\n",
    "    - 과제) 이탈 예측 모델 개발: 활용 데이터 간략 설명, 예측 모델(logistic, DCT, Xgboost, LGBM 등등) 구성, ** 성능 지표를 통한 결과 설명 **"
   ]
  },
  {
   "cell_type": "markdown",
   "metadata": {},
   "source": [
    "#### 2. 이탈예측 데이터 분석"
   ]
  },
  {
   "cell_type": "code",
   "execution_count": 1,
   "metadata": {},
   "outputs": [],
   "source": [
    "import pandas as pd"
   ]
  },
  {
   "cell_type": "code",
   "execution_count": 3,
   "metadata": {},
   "outputs": [],
   "source": [
    "# 데이터 읽어 오기\n",
    "# 파일명: churn_data.csv\n",
    "df = pd.read_csv('C:/Users/hslio/Desktop/Github/Genia/Study/data/churn_data.csv')"
   ]
  },
  {
   "cell_type": "code",
   "execution_count": 7,
   "metadata": {},
   "outputs": [],
   "source": [
    "# 데이터 기본 확인 (전체 레코드 수, 컬럼명 등)\n",
    "df.drop('number', axis=1, inplace=True)"
   ]
  },
  {
   "cell_type": "markdown",
   "metadata": {},
   "source": [
    "컬럼 설명\n",
    "\n",
    "- system_id\t: system 상 id\n",
    "- grade_sect_cd\t: 학년 (1~6학년)\n",
    "- mbr_sex_cd : 성별\n",
    "- tmon_pchrg_lrn_dcnt : 당월 유료 학습 일 수\n",
    "- acmlt_pchrg_lrn_dcnt : 누적 유료 학습 일 수 (성숙도)\n",
    "- acmlt_bilclct_amt\t: 누적 수금액\n",
    "- correct_rate_avg\t: 당월 획득 점수 평균\n",
    "- learning_time_avg\t: 당월 학습 시간 평균\n",
    "- media_action_cnt_sum : 미디어 콘텐츠 내 동영상 행동 횟수 (총합)\n",
    "- non_video_viewed_cnt_sum : 미디어 콘텐츠 미시청 행동 횟수 (총합)\n",
    "- get_mm_point_sum : 당월 획득 포인트 합 (사용 x)\n",
    "- label\t: 이탈, 미이탈 여부 (0 - 미이탈, 1 - 이탈)\n",
    "- re_purch : 구매, 재구매 여부 (False - 신규, True - 재구매)"
   ]
  },
  {
   "cell_type": "code",
   "execution_count": 8,
   "metadata": {},
   "outputs": [
    {
     "data": {
      "text/html": [
       "<div>\n",
       "<style scoped>\n",
       "    .dataframe tbody tr th:only-of-type {\n",
       "        vertical-align: middle;\n",
       "    }\n",
       "\n",
       "    .dataframe tbody tr th {\n",
       "        vertical-align: top;\n",
       "    }\n",
       "\n",
       "    .dataframe thead th {\n",
       "        text-align: right;\n",
       "    }\n",
       "</style>\n",
       "<table border=\"1\" class=\"dataframe\">\n",
       "  <thead>\n",
       "    <tr style=\"text-align: right;\">\n",
       "      <th></th>\n",
       "      <th>system_id</th>\n",
       "      <th>grade_sect_cd</th>\n",
       "      <th>mbr_sex_cd</th>\n",
       "      <th>tmon_pchrg_lrn_dcnt</th>\n",
       "      <th>acmlt_pchrg_lrn_dcnt</th>\n",
       "      <th>acmlt_bilclct_amt</th>\n",
       "      <th>correct_rate_avg</th>\n",
       "      <th>learning_time_avg</th>\n",
       "      <th>media_action_cnt_sum</th>\n",
       "      <th>non_video_viewed_cnt_sum</th>\n",
       "      <th>get_mm_point_sum</th>\n",
       "      <th>label</th>\n",
       "      <th>re_purch</th>\n",
       "    </tr>\n",
       "  </thead>\n",
       "  <tbody>\n",
       "    <tr>\n",
       "      <th>0</th>\n",
       "      <td>87ee0282-ece5-4491-bb07-be93854750ac</td>\n",
       "      <td>G011</td>\n",
       "      <td>M</td>\n",
       "      <td>31.0</td>\n",
       "      <td>247.0</td>\n",
       "      <td>952000.0</td>\n",
       "      <td>0.59</td>\n",
       "      <td>670.48</td>\n",
       "      <td>673.0</td>\n",
       "      <td>306.0</td>\n",
       "      <td>1377.0</td>\n",
       "      <td>0</td>\n",
       "      <td>False</td>\n",
       "    </tr>\n",
       "    <tr>\n",
       "      <th>1</th>\n",
       "      <td>8817ada1-b7ad-4713-b041-ee180540cb87</td>\n",
       "      <td>G011</td>\n",
       "      <td>M</td>\n",
       "      <td>31.0</td>\n",
       "      <td>238.0</td>\n",
       "      <td>1071000.0</td>\n",
       "      <td>0.00</td>\n",
       "      <td>0.00</td>\n",
       "      <td>0.0</td>\n",
       "      <td>0.0</td>\n",
       "      <td>0.0</td>\n",
       "      <td>0</td>\n",
       "      <td>False</td>\n",
       "    </tr>\n",
       "    <tr>\n",
       "      <th>2</th>\n",
       "      <td>884cddf4-bda5-4d81-960c-b9a4892645f0</td>\n",
       "      <td>G011</td>\n",
       "      <td>F</td>\n",
       "      <td>31.0</td>\n",
       "      <td>92.0</td>\n",
       "      <td>436000.0</td>\n",
       "      <td>0.70</td>\n",
       "      <td>400.44</td>\n",
       "      <td>1067.0</td>\n",
       "      <td>468.0</td>\n",
       "      <td>6289.0</td>\n",
       "      <td>0</td>\n",
       "      <td>False</td>\n",
       "    </tr>\n",
       "    <tr>\n",
       "      <th>3</th>\n",
       "      <td>8a58832b-592b-4b33-b05e-0e11422d73d5</td>\n",
       "      <td>G011</td>\n",
       "      <td>M</td>\n",
       "      <td>31.0</td>\n",
       "      <td>370.0</td>\n",
       "      <td>1417000.0</td>\n",
       "      <td>0.81</td>\n",
       "      <td>914.47</td>\n",
       "      <td>840.0</td>\n",
       "      <td>212.0</td>\n",
       "      <td>1714.0</td>\n",
       "      <td>0</td>\n",
       "      <td>False</td>\n",
       "    </tr>\n",
       "    <tr>\n",
       "      <th>4</th>\n",
       "      <td>8af8f516-a9f0-4b6a-a27f-fc77ba51f708</td>\n",
       "      <td>G011</td>\n",
       "      <td>M</td>\n",
       "      <td>1.0</td>\n",
       "      <td>1.0</td>\n",
       "      <td>109000.0</td>\n",
       "      <td>0.00</td>\n",
       "      <td>0.00</td>\n",
       "      <td>0.0</td>\n",
       "      <td>0.0</td>\n",
       "      <td>0.0</td>\n",
       "      <td>0</td>\n",
       "      <td>False</td>\n",
       "    </tr>\n",
       "    <tr>\n",
       "      <th>...</th>\n",
       "      <td>...</td>\n",
       "      <td>...</td>\n",
       "      <td>...</td>\n",
       "      <td>...</td>\n",
       "      <td>...</td>\n",
       "      <td>...</td>\n",
       "      <td>...</td>\n",
       "      <td>...</td>\n",
       "      <td>...</td>\n",
       "      <td>...</td>\n",
       "      <td>...</td>\n",
       "      <td>...</td>\n",
       "      <td>...</td>\n",
       "    </tr>\n",
       "    <tr>\n",
       "      <th>59995</th>\n",
       "      <td>3d97d2c6-50dd-4c12-9fee-01578d691b0d</td>\n",
       "      <td>G016</td>\n",
       "      <td>F</td>\n",
       "      <td>31.0</td>\n",
       "      <td>613.0</td>\n",
       "      <td>1180000.0</td>\n",
       "      <td>0.69</td>\n",
       "      <td>262.33</td>\n",
       "      <td>41.0</td>\n",
       "      <td>26.0</td>\n",
       "      <td>590.0</td>\n",
       "      <td>0</td>\n",
       "      <td>True</td>\n",
       "    </tr>\n",
       "    <tr>\n",
       "      <th>59996</th>\n",
       "      <td>41258431-f36d-46e7-a0d4-43f98edafd21</td>\n",
       "      <td>G016</td>\n",
       "      <td>M</td>\n",
       "      <td>31.0</td>\n",
       "      <td>62.0</td>\n",
       "      <td>178000.0</td>\n",
       "      <td>0.69</td>\n",
       "      <td>164.69</td>\n",
       "      <td>429.0</td>\n",
       "      <td>187.0</td>\n",
       "      <td>812.0</td>\n",
       "      <td>0</td>\n",
       "      <td>True</td>\n",
       "    </tr>\n",
       "    <tr>\n",
       "      <th>59997</th>\n",
       "      <td>4157bf9d-92ea-4656-a2f6-9ac53ced8328</td>\n",
       "      <td>G016</td>\n",
       "      <td>F</td>\n",
       "      <td>31.0</td>\n",
       "      <td>217.0</td>\n",
       "      <td>872000.0</td>\n",
       "      <td>0.43</td>\n",
       "      <td>353.55</td>\n",
       "      <td>853.0</td>\n",
       "      <td>417.0</td>\n",
       "      <td>3064.0</td>\n",
       "      <td>0</td>\n",
       "      <td>False</td>\n",
       "    </tr>\n",
       "    <tr>\n",
       "      <th>59998</th>\n",
       "      <td>416c8ba3-330b-45fc-aae8-91b548c28b3d</td>\n",
       "      <td>G016</td>\n",
       "      <td>M</td>\n",
       "      <td>31.0</td>\n",
       "      <td>312.0</td>\n",
       "      <td>869000.0</td>\n",
       "      <td>0.68</td>\n",
       "      <td>172.41</td>\n",
       "      <td>930.0</td>\n",
       "      <td>234.0</td>\n",
       "      <td>1092.0</td>\n",
       "      <td>0</td>\n",
       "      <td>True</td>\n",
       "    </tr>\n",
       "    <tr>\n",
       "      <th>59999</th>\n",
       "      <td>423b5121-b5e9-4a2c-ab53-2c06c21baf62</td>\n",
       "      <td>G016</td>\n",
       "      <td>M</td>\n",
       "      <td>31.0</td>\n",
       "      <td>723.0</td>\n",
       "      <td>1896000.0</td>\n",
       "      <td>0.59</td>\n",
       "      <td>383.88</td>\n",
       "      <td>623.0</td>\n",
       "      <td>391.0</td>\n",
       "      <td>1283.0</td>\n",
       "      <td>0</td>\n",
       "      <td>True</td>\n",
       "    </tr>\n",
       "  </tbody>\n",
       "</table>\n",
       "<p>60000 rows × 13 columns</p>\n",
       "</div>"
      ],
      "text/plain": [
       "                                  system_id grade_sect_cd mbr_sex_cd  \\\n",
       "0      87ee0282-ece5-4491-bb07-be93854750ac          G011          M   \n",
       "1      8817ada1-b7ad-4713-b041-ee180540cb87          G011          M   \n",
       "2      884cddf4-bda5-4d81-960c-b9a4892645f0          G011          F   \n",
       "3      8a58832b-592b-4b33-b05e-0e11422d73d5          G011          M   \n",
       "4      8af8f516-a9f0-4b6a-a27f-fc77ba51f708          G011          M   \n",
       "...                                     ...           ...        ...   \n",
       "59995  3d97d2c6-50dd-4c12-9fee-01578d691b0d          G016          F   \n",
       "59996  41258431-f36d-46e7-a0d4-43f98edafd21          G016          M   \n",
       "59997  4157bf9d-92ea-4656-a2f6-9ac53ced8328          G016          F   \n",
       "59998  416c8ba3-330b-45fc-aae8-91b548c28b3d          G016          M   \n",
       "59999  423b5121-b5e9-4a2c-ab53-2c06c21baf62          G016          M   \n",
       "\n",
       "       tmon_pchrg_lrn_dcnt  acmlt_pchrg_lrn_dcnt  acmlt_bilclct_amt  \\\n",
       "0                     31.0                 247.0           952000.0   \n",
       "1                     31.0                 238.0          1071000.0   \n",
       "2                     31.0                  92.0           436000.0   \n",
       "3                     31.0                 370.0          1417000.0   \n",
       "4                      1.0                   1.0           109000.0   \n",
       "...                    ...                   ...                ...   \n",
       "59995                 31.0                 613.0          1180000.0   \n",
       "59996                 31.0                  62.0           178000.0   \n",
       "59997                 31.0                 217.0           872000.0   \n",
       "59998                 31.0                 312.0           869000.0   \n",
       "59999                 31.0                 723.0          1896000.0   \n",
       "\n",
       "       correct_rate_avg  learning_time_avg  media_action_cnt_sum  \\\n",
       "0                  0.59             670.48                 673.0   \n",
       "1                  0.00               0.00                   0.0   \n",
       "2                  0.70             400.44                1067.0   \n",
       "3                  0.81             914.47                 840.0   \n",
       "4                  0.00               0.00                   0.0   \n",
       "...                 ...                ...                   ...   \n",
       "59995              0.69             262.33                  41.0   \n",
       "59996              0.69             164.69                 429.0   \n",
       "59997              0.43             353.55                 853.0   \n",
       "59998              0.68             172.41                 930.0   \n",
       "59999              0.59             383.88                 623.0   \n",
       "\n",
       "       non_video_viewed_cnt_sum  get_mm_point_sum  label  re_purch  \n",
       "0                         306.0            1377.0      0     False  \n",
       "1                           0.0               0.0      0     False  \n",
       "2                         468.0            6289.0      0     False  \n",
       "3                         212.0            1714.0      0     False  \n",
       "4                           0.0               0.0      0     False  \n",
       "...                         ...               ...    ...       ...  \n",
       "59995                      26.0             590.0      0      True  \n",
       "59996                     187.0             812.0      0      True  \n",
       "59997                     417.0            3064.0      0     False  \n",
       "59998                     234.0            1092.0      0      True  \n",
       "59999                     391.0            1283.0      0      True  \n",
       "\n",
       "[60000 rows x 13 columns]"
      ]
     },
     "execution_count": 8,
     "metadata": {},
     "output_type": "execute_result"
    }
   ],
   "source": [
    "df"
   ]
  },
  {
   "cell_type": "code",
   "execution_count": 9,
   "metadata": {},
   "outputs": [
    {
     "name": "stdout",
     "output_type": "stream",
     "text": [
      "<class 'pandas.core.frame.DataFrame'>\n",
      "RangeIndex: 60000 entries, 0 to 59999\n",
      "Data columns (total 13 columns):\n",
      " #   Column                    Non-Null Count  Dtype  \n",
      "---  ------                    --------------  -----  \n",
      " 0   system_id                 60000 non-null  object \n",
      " 1   grade_sect_cd             60000 non-null  object \n",
      " 2   mbr_sex_cd                60000 non-null  object \n",
      " 3   tmon_pchrg_lrn_dcnt       60000 non-null  float64\n",
      " 4   acmlt_pchrg_lrn_dcnt      60000 non-null  float64\n",
      " 5   acmlt_bilclct_amt         60000 non-null  float64\n",
      " 6   correct_rate_avg          60000 non-null  float64\n",
      " 7   learning_time_avg         60000 non-null  float64\n",
      " 8   media_action_cnt_sum      60000 non-null  float64\n",
      " 9   non_video_viewed_cnt_sum  60000 non-null  float64\n",
      " 10  get_mm_point_sum          60000 non-null  float64\n",
      " 11  label                     60000 non-null  int64  \n",
      " 12  re_purch                  60000 non-null  bool   \n",
      "dtypes: bool(1), float64(8), int64(1), object(3)\n",
      "memory usage: 5.6+ MB\n"
     ]
    }
   ],
   "source": [
    "# 컬럼 별 값 확인 (범주형)\n",
    "# grade_sect_cd, mbr_sex_cd, label, re_purch\n",
    "df.info()"
   ]
  },
  {
   "cell_type": "code",
   "execution_count": null,
   "metadata": {},
   "outputs": [],
   "source": [
    "# 컬럼 별 값 확인 (수치형)\n"
   ]
  },
  {
   "cell_type": "code",
   "execution_count": null,
   "metadata": {},
   "outputs": [],
   "source": [
    "# 전반적인 분포도 확인\n"
   ]
  },
  {
   "cell_type": "markdown",
   "metadata": {},
   "source": [
    "#### 3. 이탈예측 모델\n",
    "\n",
    "[데이터 - 컨셉]\n",
    "- 결과 : 이탈 or 미이탈\n",
    "- 학년 이력 : 전체 학년 통합 or 학년 별 분리\n",
    "- 구매, 재구매 이력: Feature 사용 or 모델 분리\n",
    "- 성별 이력 등등..\n",
    "\n",
    "[모델]\n",
    "- 데이터 처리 : DB 사용 -> SQL 처리\n",
    "- 모델 구현 (Logistic Regression, LGBM)\n",
    "- 실행부\n",
    "- 최적화 (Optimizing)"
   ]
  },
  {
   "cell_type": "markdown",
   "metadata": {},
   "source": [
    "##### 3-1 데이터 전처리"
   ]
  },
  {
   "cell_type": "code",
   "execution_count": null,
   "metadata": {},
   "outputs": [],
   "source": [
    "# 데이터 읽어오기"
   ]
  },
  {
   "cell_type": "code",
   "execution_count": null,
   "metadata": {},
   "outputs": [],
   "source": [
    "# 학습 데이터, 레이블 (label) 분리\n",
    "\n",
    "# 'grade_sect_cd' 값 -> 1, 2, 3, 4, 5, 6 으로 치환 -> 'grade' 컬럼 구성\n",
    "\n",
    "# 필요 컬럼만 가져오기 (X : 학습 데이터, y: 레이블)"
   ]
  },
  {
   "cell_type": "code",
   "execution_count": null,
   "metadata": {},
   "outputs": [],
   "source": [
    "# Train, Test 데이터 분리 (이탈 미이탈 값 확인)\n",
    "from sklearn.model_selection import train_test_split"
   ]
  },
  {
   "cell_type": "markdown",
   "metadata": {},
   "source": [
    "##### 3-2 Logistic regression 모델"
   ]
  },
  {
   "cell_type": "code",
   "execution_count": null,
   "metadata": {},
   "outputs": [],
   "source": [
    "from sklearn.linear_model import LogisticRegression\n",
    "# Logistic 모델 학습"
   ]
  },
  {
   "cell_type": "code",
   "execution_count": null,
   "metadata": {},
   "outputs": [],
   "source": [
    "# 예측 및 결과"
   ]
  },
  {
   "cell_type": "code",
   "execution_count": null,
   "metadata": {},
   "outputs": [],
   "source": [
    "# 예측 데이터와 실제 데이터의 차이 살펴보기 (True or False)"
   ]
  },
  {
   "cell_type": "code",
   "execution_count": null,
   "metadata": {},
   "outputs": [],
   "source": [
    "# Accuracy 측정\n",
    "from sklearn.metrics import accuracy_score"
   ]
  },
  {
   "cell_type": "code",
   "execution_count": null,
   "metadata": {},
   "outputs": [],
   "source": [
    "# precision, recall, f1 score 측정\n",
    "from sklearn.metrics import precision_recall_fscore_support"
   ]
  },
  {
   "cell_type": "markdown",
   "metadata": {},
   "source": [
    "##### 3-3 LGBM 모델"
   ]
  },
  {
   "cell_type": "code",
   "execution_count": null,
   "metadata": {},
   "outputs": [],
   "source": [
    "# Train, Test 데이터 분리\n",
    "from sklearn.model_selection import train_test_split"
   ]
  },
  {
   "cell_type": "code",
   "execution_count": null,
   "metadata": {},
   "outputs": [],
   "source": [
    "# LGBM 모델 학습\n",
    "from lightgbm import LGBMClassifier"
   ]
  },
  {
   "cell_type": "code",
   "execution_count": null,
   "metadata": {},
   "outputs": [],
   "source": [
    "# 예측 결과"
   ]
  },
  {
   "cell_type": "code",
   "execution_count": null,
   "metadata": {},
   "outputs": [],
   "source": [
    "# Accuracy 측정\n",
    "from sklearn.metrics import accuracy_score"
   ]
  },
  {
   "cell_type": "code",
   "execution_count": null,
   "metadata": {},
   "outputs": [],
   "source": [
    "# precision, recall, f1 score 측정\n",
    "from sklearn.metrics import precision_recall_fscore_support"
   ]
  },
  {
   "cell_type": "code",
   "execution_count": null,
   "metadata": {},
   "outputs": [],
   "source": [
    "# Logistic LGBM precision, recall, f1 score 비교"
   ]
  },
  {
   "cell_type": "code",
   "execution_count": null,
   "metadata": {},
   "outputs": [],
   "source": [
    "# 영향도 (주요 변수 시각화)\n",
    "from lightgbm import plot_importance\n",
    "import matplotlib.pyplot as plt\n",
    "%matplotlib inline"
   ]
  },
  {
   "cell_type": "markdown",
   "metadata": {},
   "source": [
    "#### 실습 : 학년 별로 이탈 예측 모델을 구성해본 뒤, 성능 결과를 확인해 보자"
   ]
  },
  {
   "cell_type": "code",
   "execution_count": null,
   "metadata": {},
   "outputs": [],
   "source": [
    "# 데이터 읽어오기\n",
    "import pandas as pd"
   ]
  },
  {
   "cell_type": "code",
   "execution_count": null,
   "metadata": {},
   "outputs": [],
   "source": [
    "# 학년 치환 (숫자로)"
   ]
  },
  {
   "cell_type": "code",
   "execution_count": null,
   "metadata": {},
   "outputs": [],
   "source": [
    "from sklearn.model_selection import train_test_split\n",
    "from lightgbm import LGBMClassifier\n",
    "from sklearn.metrics import accuracy_score\n",
    "from lightgbm import plot_importance\n",
    "import matplotlib.pyplot as plt"
   ]
  },
  {
   "cell_type": "code",
   "execution_count": null,
   "metadata": {},
   "outputs": [],
   "source": [
    "# 모델 구성"
   ]
  },
  {
   "cell_type": "code",
   "execution_count": null,
   "metadata": {},
   "outputs": [],
   "source": [
    "# 실행부 구성"
   ]
  },
  {
   "cell_type": "markdown",
   "metadata": {},
   "source": [
    "#### 4. 성능 지표 (Confusion Matrix) : Precision, Recall, F1 score"
   ]
  },
  {
   "cell_type": "code",
   "execution_count": null,
   "metadata": {},
   "outputs": [],
   "source": [
    "# 데이터 읽어오기\n",
    "import pandas as pd"
   ]
  },
  {
   "cell_type": "code",
   "execution_count": null,
   "metadata": {},
   "outputs": [],
   "source": [
    "# 학년 치환 전처리, 1학년 데이터만 가져오기"
   ]
  },
  {
   "cell_type": "code",
   "execution_count": null,
   "metadata": {},
   "outputs": [],
   "source": [
    "# 필요 컬럼만 가져오기"
   ]
  },
  {
   "cell_type": "code",
   "execution_count": null,
   "metadata": {},
   "outputs": [],
   "source": [
    "# 데이터 분할하기"
   ]
  },
  {
   "cell_type": "code",
   "execution_count": null,
   "metadata": {},
   "outputs": [],
   "source": [
    "# LGBM 모델 학습\n",
    "from lightgbm import LGBMClassifier"
   ]
  },
  {
   "cell_type": "code",
   "execution_count": null,
   "metadata": {},
   "outputs": [],
   "source": [
    "# 예측"
   ]
  },
  {
   "cell_type": "code",
   "execution_count": null,
   "metadata": {},
   "outputs": [],
   "source": [
    "# Accuracy 측정\n",
    "from sklearn.metrics import accuracy_score"
   ]
  },
  {
   "cell_type": "code",
   "execution_count": null,
   "metadata": {},
   "outputs": [],
   "source": [
    "# precision, recall, f1 score 측정\n",
    "from sklearn.metrics import precision_recall_fscore_support"
   ]
  },
  {
   "cell_type": "code",
   "execution_count": null,
   "metadata": {},
   "outputs": [],
   "source": [
    "from sklearn.metrics import confusion_matrix"
   ]
  },
  {
   "cell_type": "code",
   "execution_count": null,
   "metadata": {},
   "outputs": [],
   "source": [
    "# Confusion Matrix 양식\n",
    "from IPython.display import Image\n",
    "Image('./data/confusion_matrix.png')"
   ]
  },
  {
   "cell_type": "code",
   "execution_count": null,
   "metadata": {},
   "outputs": [],
   "source": [
    "from IPython.display import Image\n",
    "Image('./data/error_type.jpg')"
   ]
  },
  {
   "cell_type": "code",
   "execution_count": null,
   "metadata": {},
   "outputs": [],
   "source": [
    "# cmtx 구성"
   ]
  },
  {
   "cell_type": "code",
   "execution_count": null,
   "metadata": {},
   "outputs": [],
   "source": [
    "# cmtx 시각화\n",
    "import matplotlib.pyplot as plt\n",
    "import seaborn as sns\n",
    "import koreanize_matplotlib # 한글 폰트 안 깨지고 사용 가능\n",
    "# pip install koreanize-matplotlib"
   ]
  },
  {
   "cell_type": "code",
   "execution_count": null,
   "metadata": {},
   "outputs": [],
   "source": [
    "# Precision\n",
    "# TP / (TP+FP)\n",
    "\n",
    "# Recall\n",
    "# TP /(TP+FN)\n",
    "\n",
    "# F1 Score\n",
    "# 2 * (Prescion * Recall)/(Presicion + Recall)"
   ]
  }
 ],
 "metadata": {
  "kernelspec": {
   "display_name": "Python 3.8.15 ('genie_market')",
   "language": "python",
   "name": "python3"
  },
  "language_info": {
   "codemirror_mode": {
    "name": "ipython",
    "version": 3
   },
   "file_extension": ".py",
   "mimetype": "text/x-python",
   "name": "python",
   "nbconvert_exporter": "python",
   "pygments_lexer": "ipython3",
   "version": "3.11.3"
  },
  "orig_nbformat": 4,
  "vscode": {
   "interpreter": {
    "hash": "4e3525f6e1cc47164cfc06d7ee23635cf7d41bbfc83074fa39d2bdc746050ae0"
   }
  }
 },
 "nbformat": 4,
 "nbformat_minor": 2
}
