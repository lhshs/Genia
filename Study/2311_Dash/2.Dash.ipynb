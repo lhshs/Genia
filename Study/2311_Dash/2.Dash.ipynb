{
 "cells": [
  {
   "cell_type": "markdown",
   "metadata": {},
   "source": [
    "## Dash-html-components"
   ]
  },
  {
   "cell_type": "markdown",
   "metadata": {},
   "source": [
    "### Div 1"
   ]
  },
  {
   "cell_type": "code",
   "execution_count": 1,
   "metadata": {},
   "outputs": [],
   "source": [
    "import dash\n",
    "from dash import html"
   ]
  },
  {
   "cell_type": "code",
   "execution_count": 8,
   "metadata": {},
   "outputs": [
    {
     "data": {
      "text/html": [
       "\n",
       "        <iframe\n",
       "            width=\"100%\"\n",
       "            height=\"650\"\n",
       "            src=\"http://127.0.0.1:8050/\"\n",
       "            frameborder=\"0\"\n",
       "            allowfullscreen\n",
       "            \n",
       "        ></iframe>\n",
       "        "
      ],
      "text/plain": [
       "<IPython.lib.display.IFrame at 0x24c993ff340>"
      ]
     },
     "metadata": {},
     "output_type": "display_data"
    }
   ],
   "source": [
    "# app 객체 생성\n",
    "app = dash.Dash()\n",
    "\n",
    "# app layout 정의\n",
    "app.layout = html.Div(id = 'main_div', children = [\n",
    "\n",
    "    html.Div(id = 'layout1', children = ['hellow dash!!']),\n",
    "    html.Div(id = 'layout2', children = ['안녕 대시!!!']),\n",
    "\n",
    "])\n",
    "\n",
    "# app 실행\n",
    "if __name__ == '__main__':\n",
    "    app.run_server()    \n",
    "    # http://127.0.0.1:8050/"
   ]
  },
  {
   "cell_type": "markdown",
   "metadata": {},
   "source": [
    "### Div 2 (style)"
   ]
  },
  {
   "cell_type": "code",
   "execution_count": 40,
   "metadata": {},
   "outputs": [
    {
     "data": {
      "text/html": [
       "\n",
       "        <iframe\n",
       "            width=\"100%\"\n",
       "            height=\"650\"\n",
       "            src=\"http://127.0.0.1:8050/\"\n",
       "            frameborder=\"0\"\n",
       "            allowfullscreen\n",
       "            \n",
       "        ></iframe>\n",
       "        "
      ],
      "text/plain": [
       "<IPython.lib.display.IFrame at 0x24c99535f00>"
      ]
     },
     "metadata": {},
     "output_type": "display_data"
    }
   ],
   "source": [
    "# app 객체 생성\n",
    "app = dash.Dash()\n",
    "\n",
    "# app layout 정의\n",
    "app.layout = html.Div(id = 'main_div', children = [\n",
    "\n",
    "    html.Div(id = 'layout1', children = ['Hello Dash!!'], style={'border':'red solid', \n",
    "                                                                 'textAlign':'center',\n",
    "                                                                 'width':'49%',\n",
    "                                                                 'display':'inline-block'}),\n",
    "    html.Div(id = 'layout2', children = ['안녕 대시!!!'], style={'border':'blue solid',\n",
    "                                                                'textAlign':'center',\n",
    "                                                                'width':'49%',\n",
    "                                                                'display':'inline-block'}),\n",
    "    html.Div(id = 'layout3', children = ['Python & Web'], style={'border':'black solid',\n",
    "                                                                'textAlign':'center',\n",
    "                                                                'width':'98.6%',}),                                                                \n",
    "\n",
    "])\n",
    "\n",
    "# app 실행\n",
    "if __name__ == '__main__':\n",
    "    app.run_server()    "
   ]
  },
  {
   "cell_type": "markdown",
   "metadata": {},
   "source": [
    "### H1 ~ H6 & Br"
   ]
  },
  {
   "cell_type": "code",
   "execution_count": 50,
   "metadata": {},
   "outputs": [
    {
     "data": {
      "text/html": [
       "\n",
       "        <iframe\n",
       "            width=\"100%\"\n",
       "            height=\"650\"\n",
       "            src=\"http://127.0.0.1:8050/\"\n",
       "            frameborder=\"0\"\n",
       "            allowfullscreen\n",
       "            \n",
       "        ></iframe>\n",
       "        "
      ],
      "text/plain": [
       "<IPython.lib.display.IFrame at 0x24c9963feb0>"
      ]
     },
     "metadata": {},
     "output_type": "display_data"
    }
   ],
   "source": [
    "import dash\n",
    "from dash import html\n",
    "\n",
    "app = dash.Dash()\n",
    "\n",
    "app.layout = html.Div(id='main_div', children=[\n",
    "    \n",
    "    html.Div(children='This is div', style={'textAlign':'center'}),\n",
    "    html.Div(children='This is div', style={'textAlign':'center'}),\n",
    "    html.Br(), # 줄바꿈\n",
    "    html.Div(children='This is div', style={'textAlign':'center'}),\n",
    "    html.Br(),\n",
    "    html.Br(),\n",
    "    html.H1(children='This is H1', style={'textAlign':'center'}),\n",
    "    html.H2(children='This is H2', style={'textAlign':'center'}),\n",
    "    html.H3(children='This is H3', style={'textAlign':'center'}),\n",
    "    html.H4(children='This is H4', style={'textAlign':'center'}),\n",
    "    html.H5(children='This is H5', style={'textAlign':'center'}),\n",
    "    html.H6(children='This is H6', style={'textAlign':'center'}), \n",
    "\n",
    "])\n",
    "\n",
    "if __name__ == '__main__':\n",
    "    app.run_server()"
   ]
  },
  {
   "cell_type": "markdown",
   "metadata": {},
   "source": [
    "### Button"
   ]
  },
  {
   "cell_type": "code",
   "execution_count": 54,
   "metadata": {},
   "outputs": [
    {
     "data": {
      "text/html": [
       "\n",
       "        <iframe\n",
       "            width=\"100%\"\n",
       "            height=\"650\"\n",
       "            src=\"http://127.0.0.1:8050/\"\n",
       "            frameborder=\"0\"\n",
       "            allowfullscreen\n",
       "            \n",
       "        ></iframe>\n",
       "        "
      ],
      "text/plain": [
       "<IPython.lib.display.IFrame at 0x24c996d6dd0>"
      ]
     },
     "metadata": {},
     "output_type": "display_data"
    }
   ],
   "source": [
    "import dash\n",
    "from dash import html\n",
    "\n",
    "app = dash.Dash()\n",
    "app.layout = html.Div([\n",
    "\n",
    "    html.Div(children=['Button']),\n",
    "    html.Button(children=['Button']),\n",
    "\n",
    "])\n",
    "\n",
    "if __name__ == '__main__':\n",
    "    app.run_server()"
   ]
  },
  {
   "cell_type": "markdown",
   "metadata": {},
   "source": [
    "## Dash-Core-Component (dcc)"
   ]
  },
  {
   "cell_type": "markdown",
   "metadata": {},
   "source": [
    "### Graph|"
   ]
  },
  {
   "cell_type": "code",
   "execution_count": 59,
   "metadata": {},
   "outputs": [],
   "source": [
    "import dash\n",
    "from dash import html\n",
    "from dash import dcc\n",
    "import plotly.graph_objects as go\n",
    "import pandas as pd\n",
    "import numpy as np"
   ]
  },
  {
   "cell_type": "code",
   "execution_count": 92,
   "metadata": {},
   "outputs": [
    {
     "data": {
      "text/html": [
       "\n",
       "        <iframe\n",
       "            width=\"100%\"\n",
       "            height=\"650\"\n",
       "            src=\"http://127.0.0.1:8050/\"\n",
       "            frameborder=\"0\"\n",
       "            allowfullscreen\n",
       "            \n",
       "        ></iframe>\n",
       "        "
      ],
      "text/plain": [
       "<IPython.lib.display.IFrame at 0x24cd8a67ee0>"
      ]
     },
     "metadata": {},
     "output_type": "display_data"
    }
   ],
   "source": [
    "num = 100\n",
    "date = pd.date_range('2023-01-01', periods=num)\n",
    "\n",
    "# 0~250 사이 num 만큼으로 나눠 줌 -> random_2에 더해줌으로써 그래프 우상향\n",
    "trend = np.linspace(0, 250, num)\n",
    "\n",
    "random_1 = np.random.randint(0, 200, num)\n",
    "random_2 = np.random.randint(0, 200, num) + trend\n",
    "\n",
    "df = pd.DataFrame([random_1, random_2]).T\n",
    "df.index = date\n",
    "df.columns = ['random_1', 'random_2']\n",
    "\n",
    "trace1 = go.Scatter(x=df.index, y=df['random_1'], name='random_1', mode='markers')\n",
    "trace2 = go.Scatter(x=df.index, y=df['random_2'], name='random_2')\n",
    "\n",
    "layout = go.Layout(title='Random Data')\n",
    "\n",
    "fig = go.Figure(data=[trace1, trace2], layout=layout)\n",
    "# fig.show()\n",
    "\n",
    "app = dash.Dash()\n",
    "app.layout = html.Div([\n",
    "\n",
    "    html.H1(id='H1', \n",
    "            children='Dash Core Components Practice',\n",
    "            style={'textAlign':'center'}),\n",
    "            \n",
    "    html.Div(id='Div1',\n",
    "             children=[\n",
    "                 html.H3(id='H3',\n",
    "                         children='Random Number Fiture'),\n",
    "                 dcc.Graph(id='graph', \n",
    "                           figure=fig),                        \n",
    "             ])\n",
    "    \n",
    "    \n",
    "\n",
    "])\n",
    "if __name__ == '__main__':\n",
    "    app.run_server()\n"
   ]
  },
  {
   "cell_type": "markdown",
   "metadata": {},
   "source": [
    "### DropDown"
   ]
  },
  {
   "cell_type": "code",
   "execution_count": 107,
   "metadata": {},
   "outputs": [
    {
     "data": {
      "text/html": [
       "\n",
       "        <iframe\n",
       "            width=\"100%\"\n",
       "            height=\"650\"\n",
       "            src=\"http://127.0.0.1:8050/\"\n",
       "            frameborder=\"0\"\n",
       "            allowfullscreen\n",
       "            \n",
       "        ></iframe>\n",
       "        "
      ],
      "text/plain": [
       "<IPython.lib.display.IFrame at 0x24cd8adfc10>"
      ]
     },
     "metadata": {},
     "output_type": "display_data"
    }
   ],
   "source": [
    "import dash\n",
    "from dash import html, dcc\n",
    "\n",
    "app = dash.Dash()  \n",
    "app.layout = html.Div([\n",
    "    \n",
    "    html.H1(id='H1',\n",
    "            children=['Dash Core Components Practice']),\n",
    "    \n",
    "    dcc.Dropdown(id='dropdown',\n",
    "                 options=[\n",
    "                     {'label':'New York City', 'value':'NYC'},\n",
    "                     {'label':'San Francisco', 'value':'SF'}\n",
    "                     ],\n",
    "                     placeholder='Select a city', # selectbox text\n",
    "                     multi=True), # multi select\n",
    "])\n",
    "\n",
    "if __name__ == '__main__':\n",
    "    app.run_server()    \n"
   ]
  },
  {
   "cell_type": "markdown",
   "metadata": {},
   "source": [
    "### Slider & RangeSlider"
   ]
  },
  {
   "cell_type": "code",
   "execution_count": 115,
   "metadata": {},
   "outputs": [
    {
     "data": {
      "text/html": [
       "\n",
       "        <iframe\n",
       "            width=\"100%\"\n",
       "            height=\"650\"\n",
       "            src=\"http://127.0.0.1:8050/\"\n",
       "            frameborder=\"0\"\n",
       "            allowfullscreen\n",
       "            \n",
       "        ></iframe>\n",
       "        "
      ],
      "text/plain": [
       "<IPython.lib.display.IFrame at 0x24cd8aeefe0>"
      ]
     },
     "metadata": {},
     "output_type": "display_data"
    }
   ],
   "source": [
    "import dash\n",
    "from dash import html, dcc\n",
    "\n",
    "app = dash.Dash()\n",
    "app.layout = html.Div([\n",
    "\n",
    "    html.H2(id='H2_Slider',\n",
    "            children=['Slider Example']),\n",
    "    # max 값만 조절 가능\n",
    "    dcc.Slider(id='slider', \n",
    "               min = -5,\n",
    "               step = 1,\n",
    "               marks={i : str(i) for i in range(-10, 11)},\n",
    "               value = 3),\n",
    "    html.Br(),\n",
    "\n",
    "    html.H2(id='H2_RangeSlider',\n",
    "            children=['RangeSlider Example']),\n",
    "    # min, max 범위 둘 다 조절 가능\n",
    "    dcc.RangeSlider(id='range_slider',\n",
    "                    min = -5,\n",
    "                    max = 10,\n",
    "                    step = 1,\n",
    "                    value = [-2, 4],\n",
    "                    marks = {i : str(i) for i in range(-5, 11)}),\n",
    "\n",
    "])\n",
    "\n",
    "if __name__ == '__main__':\n",
    "    app.run_server()"
   ]
  },
  {
   "cell_type": "markdown",
   "metadata": {},
   "source": [
    "### Input"
   ]
  },
  {
   "cell_type": "code",
   "execution_count": 120,
   "metadata": {},
   "outputs": [
    {
     "data": {
      "text/html": [
       "\n",
       "        <iframe\n",
       "            width=\"100%\"\n",
       "            height=\"650\"\n",
       "            src=\"http://127.0.0.1:8050/\"\n",
       "            frameborder=\"0\"\n",
       "            allowfullscreen\n",
       "            \n",
       "        ></iframe>\n",
       "        "
      ],
      "text/plain": [
       "<IPython.lib.display.IFrame at 0x24c996980a0>"
      ]
     },
     "metadata": {},
     "output_type": "display_data"
    }
   ],
   "source": [
    "import dash\n",
    "from dash import html, dcc\n",
    "\n",
    "app = dash.Dash()\n",
    "app.layout = html.Div([\n",
    "\n",
    "    html.H3(id='H3',\n",
    "            children=['Input Example']),\n",
    "    dcc.Input(id='input', \n",
    "              value='Input Start Date', \n",
    "              type='date'),\n",
    "    dcc.Input(id='input2', \n",
    "              value='Input End Date', \n",
    "              type='text'),\n",
    "\n",
    "])\n",
    "\n",
    "if __name__ == '__main__':\n",
    "    app.run_server()"
   ]
  },
  {
   "cell_type": "markdown",
   "metadata": {},
   "source": [
    "### RadioItems & CheckList"
   ]
  },
  {
   "cell_type": "code",
   "execution_count": 133,
   "metadata": {},
   "outputs": [
    {
     "data": {
      "text/html": [
       "\n",
       "        <iframe\n",
       "            width=\"100%\"\n",
       "            height=\"650\"\n",
       "            src=\"http://127.0.0.1:8050/\"\n",
       "            frameborder=\"0\"\n",
       "            allowfullscreen\n",
       "            \n",
       "        ></iframe>\n",
       "        "
      ],
      "text/plain": [
       "<IPython.lib.display.IFrame at 0x24cd8953c70>"
      ]
     },
     "metadata": {},
     "output_type": "display_data"
    }
   ],
   "source": [
    "import dash\n",
    "from dash import html, dcc\n",
    "\n",
    "options = [{'label':'New York City', 'value':'NYC'},\n",
    "           {'label':'San Francisco', 'value':'SF'},\n",
    "           {'label':'Korea', 'value':'KOR'},\n",
    "           ]\n",
    "\n",
    "\n",
    "app = dash.Dash()\n",
    "app.layout = html.Div([\n",
    "\n",
    "    html.H3(id='H3_1',\n",
    "            children=['RadioItems Example']),\n",
    "    dcc.RadioItems(id='radio_items',\n",
    "                   options=options,\n",
    "                       value='SF'), # default value\n",
    "    html.Br(),\n",
    "    html.H3(id='H3_2',\n",
    "            children=['CheckList Example']),\n",
    "    dcc.Checklist(id='checklist',\n",
    "                   options=options,\n",
    "                       value='KOR'), # default value\n",
    "\n",
    "])\n",
    "\n",
    "if __name__ == '__main__':\n",
    "    app.run_server()    "
   ]
  },
  {
   "cell_type": "markdown",
   "metadata": {},
   "source": [
    "### DatePickerRange"
   ]
  },
  {
   "cell_type": "code",
   "execution_count": 140,
   "metadata": {},
   "outputs": [
    {
     "data": {
      "text/html": [
       "\n",
       "        <iframe\n",
       "            width=\"100%\"\n",
       "            height=\"650\"\n",
       "            src=\"http://127.0.0.1:8050/\"\n",
       "            frameborder=\"0\"\n",
       "            allowfullscreen\n",
       "            \n",
       "        ></iframe>\n",
       "        "
      ],
      "text/plain": [
       "<IPython.lib.display.IFrame at 0x24cd85daf80>"
      ]
     },
     "metadata": {},
     "output_type": "display_data"
    }
   ],
   "source": [
    "import dash\n",
    "from dash import html, dcc \n",
    "\n",
    "app = dash.Dash()\n",
    "app.layout = html.Div([\n",
    "\n",
    "    html.H3(id='H3',\n",
    "            children=['DataPickerRange Example']),\n",
    "    dcc.DatePickerRange(id='date_picker_range',\n",
    "                        start_date='2023-11-01',\n",
    "                        end_date='2021-01-31',\n",
    "                        display_format='YYYY-MM-DD',\n",
    "                        min_date_allowed='2023-10-01',), \n",
    "\n",
    "])\n",
    "if __name__ == '__main__':\n",
    "    app.run_server() "
   ]
  },
  {
   "cell_type": "code",
   "execution_count": 137,
   "metadata": {},
   "outputs": [
    {
     "data": {
      "text/plain": [
       "datetime.datetime"
      ]
     },
     "execution_count": 137,
     "metadata": {},
     "output_type": "execute_result"
    }
   ],
   "source": [
    "from datetime import datetime\n",
    "type(datetime(2021, 1, 1))"
   ]
  }
 ],
 "metadata": {
  "kernelspec": {
   "display_name": "lhs_3.10",
   "language": "python",
   "name": "python3"
  },
  "language_info": {
   "codemirror_mode": {
    "name": "ipython",
    "version": 3
   },
   "file_extension": ".py",
   "mimetype": "text/x-python",
   "name": "python",
   "nbconvert_exporter": "python",
   "pygments_lexer": "ipython3",
   "version": "3.10.13"
  }
 },
 "nbformat": 4,
 "nbformat_minor": 2
}
