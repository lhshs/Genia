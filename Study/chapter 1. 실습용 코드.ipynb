{
 "cells": [
  {
   "cell_type": "markdown",
   "id": "f4a7e881",
   "metadata": {},
   "source": [
    "### Chapter 1. 데이터 전처리"
   ]
  },
  {
   "cell_type": "markdown",
   "id": "6a815ff8",
   "metadata": {},
   "source": [
    "1. 데이터 불러오기\n",
    "2. 데이터 타입 확인\n",
    "3. 데이터 결측치 확인 (데이터 정제 I)\n",
    "4. 데이터 결측치 대체 (데이터 정제 II)\n",
    "5. 데이터 합치기\n",
    "6. 데이터 인덱싱\n",
    "7. 이탈 데이터 전처리 : 일별 데이터 -> 월별 데이터"
   ]
  },
  {
   "cell_type": "code",
   "execution_count": 1,
   "id": "c3a57417",
   "metadata": {},
   "outputs": [],
   "source": [
    "import pandas as pd\n",
    "import numpy as np\n",
    "from pprint import pprint\n",
    "\n",
    "import os"
   ]
  },
  {
   "cell_type": "markdown",
   "id": "56d7a5c3",
   "metadata": {},
   "source": [
    "### 경로 관련"
   ]
  },
  {
   "cell_type": "code",
   "execution_count": 2,
   "id": "64f602c8",
   "metadata": {
    "scrolled": true
   },
   "outputs": [
    {
     "name": "stdout",
     "output_type": "stream",
     "text": [
      "d:\\천재교육\\2308_실무자특강_실습\n",
      "['1일차.pdf', 'chapter 1. 실습용 코드.ipynb', 'Dropout', 'penguin']\n",
      "d:\\천재교육\\2308_실무자특강_실습 \n",
      " ['Dropout', 'penguin'] \n",
      " ['1일차.pdf', 'chapter 1. 실습용 코드.ipynb']\n",
      "d:\\천재교육\\2308_실무자특강_실습\\Dropout \n",
      " [] \n",
      " ['df1.csv', 'df2.csv', 'df3.csv', 'df4.csv', 'Dropout.csv', 'member.csv', '테이블명세서_dropout.csv']\n",
      "d:\\천재교육\\2308_실무자특강_실습\\penguin \n",
      " [] \n",
      " ['penguins_lter.csv', 'penguins_size.csv', '테이블명세서_penguin.csv']\n"
     ]
    }
   ],
   "source": [
    "# 현재 프로세스의 작업 디렉토리 확인\n",
    "cur_dir = os.getcwd()\n",
    "print(cur_dir)\n",
    "\n",
    "# 현재 작업파일의 경로에 있는 리스트 확인 -> 리스트로 반환\n",
    "dir_list = os.listdir(cur_dir)\n",
    "print(dir_list)\n",
    "\n",
    "# 특정 경로의 폴더(디렉토리) 생성\n",
    "# os.mkdir('test2')\n",
    "\n",
    "# os.mkdir(cur_dir + '/tt')\n",
    "\n",
    "# 지정한 파일의 이름을 변경\n",
    "# os.rename('test33333333', 'test2')\n",
    "\n",
    "# 지정된 경로의 디렉토리를 순차적으로 탐색 -> 주로 for문과 활용\n",
    "# 경로, 폴더, 파일 형식으로 출력됨\n",
    "for dirpath, folder, file in os.walk(cur_dir):\n",
    "    print(dirpath, '\\n', folder, '\\n', file)"
   ]
  },
  {
   "cell_type": "markdown",
   "id": "14191848",
   "metadata": {},
   "source": [
    "### 특정 경로의 파일 리스트 확인"
   ]
  },
  {
   "cell_type": "code",
   "execution_count": 3,
   "id": "6bc0e526",
   "metadata": {},
   "outputs": [
    {
     "name": "stdout",
     "output_type": "stream",
     "text": [
      "데이터셋 목록(data_list) :  ['df1.csv', 'df2.csv', 'df3.csv', 'df4.csv', 'Dropout.csv', 'member.csv']\n"
     ]
    }
   ],
   "source": [
    "data_list = os.listdir('Dropout')[0:-1]\n",
    "print(\"데이터셋 목록(data_list) : \", data_list)"
   ]
  },
  {
   "cell_type": "markdown",
   "id": "ccff7d31",
   "metadata": {},
   "source": [
    "### 데이터 불러오기 type 1 -> dict 형태로 반환"
   ]
  },
  {
   "cell_type": "code",
   "execution_count": 4,
   "id": "28340adf",
   "metadata": {},
   "outputs": [
    {
     "data": {
      "text/plain": [
       "'d:\\\\천재교육\\\\2308_실무자특강_실습'"
      ]
     },
     "execution_count": 4,
     "metadata": {},
     "output_type": "execute_result"
    }
   ],
   "source": [
    "cur_dir"
   ]
  },
  {
   "cell_type": "code",
   "execution_count": 5,
   "id": "88ee1135",
   "metadata": {},
   "outputs": [],
   "source": [
    "dataset = dict()\n",
    "\n",
    "for data in data_list:\n",
    "    dataset[data[0:-4]] = pd.read_csv(cur_dir + f'\\\\Dropout\\\\{data}', encoding='cp949')"
   ]
  },
  {
   "cell_type": "code",
   "execution_count": null,
   "id": "64a41001",
   "metadata": {},
   "outputs": [],
   "source": [
    "dataset.keys()"
   ]
  },
  {
   "cell_type": "markdown",
   "id": "21187d0a",
   "metadata": {},
   "source": [
    "### 데이터 불러오기 type 2 -> dataframe 형태로 각각 반환"
   ]
  },
  {
   "cell_type": "code",
   "execution_count": null,
   "id": "dea265bc",
   "metadata": {},
   "outputs": [],
   "source": [
    "for i in dataset.keys():\n",
    "    print(f'{i}😗')\n",
    "    display(dataset[i])"
   ]
  },
  {
   "cell_type": "markdown",
   "id": "ca55386f",
   "metadata": {},
   "source": [
    "### 데이터 합치기"
   ]
  },
  {
   "cell_type": "code",
   "execution_count": 6,
   "id": "93d32d55",
   "metadata": {},
   "outputs": [],
   "source": [
    "dropout = pd.merge(dataset['member'], dataset['df1'], right_on='ID', left_on='ID')\n",
    "dropout = pd.merge(dropout, dataset['df2'], right_on='ID', left_on='ID')\n",
    "dropout = pd.merge(dropout, dataset['df3'], right_on='ID', left_on='ID')\n",
    "dropout = pd.merge(dropout, dataset['df4'], right_on='ID', left_on='ID') "
   ]
  },
  {
   "cell_type": "markdown",
   "id": "b4db0b0a",
   "metadata": {},
   "source": [
    "### 테이블 컬럼 타입 확인"
   ]
  },
  {
   "cell_type": "code",
   "execution_count": 7,
   "id": "53a74445",
   "metadata": {
    "scrolled": true
   },
   "outputs": [
    {
     "data": {
      "text/plain": [
       "ID                                                 object\n",
       "Nacionality                                        object\n",
       "Gender                                             object\n",
       "Target                                             object\n",
       "Marital status                                    float64\n",
       "Application mode                                  float64\n",
       "Application order                                 float64\n",
       "Course                                            float64\n",
       "Daytime/evening attendance                        float64\n",
       "Previous qualification                            float64\n",
       "Mother's qualification                            float64\n",
       "Father's qualification                            float64\n",
       "Mother's occupation                               float64\n",
       "Father's occupation                               float64\n",
       "Displaced                                         float64\n",
       "Educational special needs                         float64\n",
       "Debtor                                            float64\n",
       "Tuition fees up to date                           float64\n",
       "Scholarship holder                                float64\n",
       "Age at enrollment                                 float64\n",
       "International                                     float64\n",
       "Education                                         float64\n",
       "Curricular units 1st sem (credited)               float64\n",
       "Curricular units 1st sem (enrolled)               float64\n",
       "Curricular units 1st sem (evaluations)            float64\n",
       "Curricular units 1st sem (approved)               float64\n",
       "Curricular units 1st sem (grade)                  float64\n",
       "Curricular units 1st sem (without evaluations)    float64\n",
       "Curricular units 2nd sem (credited)               float64\n",
       "Curricular units 2nd sem (enrolled)               float64\n",
       "Curricular units 2nd sem (evaluations)            float64\n",
       "Curricular units 2nd sem (approved)               float64\n",
       "Curricular units 2nd sem (grade)                  float64\n",
       "Curricular units 2nd sem (without evaluations)    float64\n",
       "Unemployment rate                                 float64\n",
       "Inflation rate                                    float64\n",
       "GDP                                               float64\n",
       "dtype: object"
      ]
     },
     "execution_count": 7,
     "metadata": {},
     "output_type": "execute_result"
    }
   ],
   "source": [
    "dropout.dtypes"
   ]
  },
  {
   "cell_type": "markdown",
   "id": "e267bad7",
   "metadata": {},
   "source": [
    "### 데이터프레임 내의 값 변경"
   ]
  },
  {
   "cell_type": "code",
   "execution_count": 8,
   "id": "4ef188d5",
   "metadata": {},
   "outputs": [],
   "source": [
    "def change_value(values):\n",
    "    if values == 'Portuguese':\n",
    "        return 1\n",
    "    elif values == 'German':\n",
    "        return 2\n",
    "    elif values == 'Spanish':\n",
    "        return 3\n",
    "    elif values == 'Italian':\n",
    "        return 4\n",
    "    elif values == 'Dutch':\n",
    "        return 5\n",
    "    elif values == 'English':\n",
    "        return 6\n",
    "    elif values == 'Lithuanian':\n",
    "        return 7\n",
    "    elif values == 'Angolan':\n",
    "        return 8\n",
    "    elif values == 'Cape Verdean':\n",
    "        return 9\n",
    "    elif values == 'Guinean':\n",
    "        return 10\n",
    "    elif values == 'Mozambican':\n",
    "        return 11\n",
    "    elif values == 'Santomean':\n",
    "        return 12\n",
    "    elif values == 'Turkish':\n",
    "        return 13\n",
    "    elif values == 'Brazilian':\n",
    "        return 14\n",
    "    elif values == 'Romanian':\n",
    "        return 15\n",
    "    elif values == 'Moldova':\n",
    "        return 16\n",
    "    elif values == 'Mexican':\n",
    "        return 17\n",
    "    elif values == 'Ukrainian':\n",
    "        return 18\n",
    "    elif values == 'Russian':\n",
    "        return 19\n",
    "    elif values == 'Cuban':\n",
    "        return 20\n",
    "    elif values == 'Colombian':\n",
    "        return 21"
   ]
  },
  {
   "cell_type": "markdown",
   "id": "cf60633b",
   "metadata": {},
   "source": [
    "### 데이터 값 변경 version 1 -> 함수/apply 사용"
   ]
  },
  {
   "cell_type": "code",
   "execution_count": null,
   "id": "96e00af8",
   "metadata": {},
   "outputs": [],
   "source": [
    "# dropout['Nacionality'] = dropout['Nacionality'].apply(change_value)\n",
    "# dropout"
   ]
  },
  {
   "cell_type": "markdown",
   "id": "0293a1d2",
   "metadata": {},
   "source": [
    "### 데이터 컬럼 추가"
   ]
  },
  {
   "cell_type": "markdown",
   "id": "4d0a47d8",
   "metadata": {},
   "source": [
    "#### - 빈 컬럼 생성 version 1\n",
    "-> DataFrame['추가하고 싶은 컬럼명'] = '컬럼값'"
   ]
  },
  {
   "cell_type": "code",
   "execution_count": null,
   "id": "a3e92eca",
   "metadata": {},
   "outputs": [],
   "source": [
    "# dropout['Nationality'] = 0"
   ]
  },
  {
   "cell_type": "markdown",
   "id": "ca4185df",
   "metadata": {},
   "source": [
    "#### - 빈 컬럼 생성 version 2\n",
    "-> insert(loc = 넣고 싶은 새로운 컬럼의 위치, column = 추가하고 싶은 새로운 컬럼명, value = 새로운 컬럼의 값)"
   ]
  },
  {
   "cell_type": "code",
   "execution_count": null,
   "id": "69d0b2a1",
   "metadata": {},
   "outputs": [],
   "source": [
    "# dropout.insert(loc = 2, column = 'Nationality_re', value = 999)\n",
    "# dropout.drop(['Nationality_re', 'Nationality'], axis=1, inplace=True)"
   ]
  },
  {
   "cell_type": "code",
   "execution_count": 9,
   "id": "c1da763e",
   "metadata": {},
   "outputs": [],
   "source": [
    "dropout.insert(loc = 2, column = 'Nationality', value = dropout['Nacionality'].apply(change_value))\n",
    "dropout.drop(['Nacionality'], axis=1, inplace=True)"
   ]
  },
  {
   "cell_type": "markdown",
   "id": "fdf58b04",
   "metadata": {},
   "source": [
    "### 데이터 값 변경 version 2 -> loc 사용"
   ]
  },
  {
   "cell_type": "code",
   "execution_count": null,
   "id": "01d523fe",
   "metadata": {},
   "outputs": [],
   "source": [
    "# dropout.loc[dropout['Nationality'] == 'Portuguese', 'Nationality'] = 1"
   ]
  },
  {
   "cell_type": "code",
   "execution_count": 12,
   "id": "c921c2c3",
   "metadata": {},
   "outputs": [
    {
     "data": {
      "text/html": [
       "<div>\n",
       "<style scoped>\n",
       "    .dataframe tbody tr th:only-of-type {\n",
       "        vertical-align: middle;\n",
       "    }\n",
       "\n",
       "    .dataframe tbody tr th {\n",
       "        vertical-align: top;\n",
       "    }\n",
       "\n",
       "    .dataframe thead th {\n",
       "        text-align: right;\n",
       "    }\n",
       "</style>\n",
       "<table border=\"1\" class=\"dataframe\">\n",
       "  <thead>\n",
       "    <tr style=\"text-align: right;\">\n",
       "      <th></th>\n",
       "      <th>ID</th>\n",
       "      <th>Nationality</th>\n",
       "      <th>Gender</th>\n",
       "      <th>Target</th>\n",
       "      <th>Marital status</th>\n",
       "      <th>Application mode</th>\n",
       "      <th>Application order</th>\n",
       "      <th>Course</th>\n",
       "      <th>Daytime/evening attendance</th>\n",
       "      <th>Previous qualification</th>\n",
       "      <th>...</th>\n",
       "      <th>Curricular units 1st sem (without evaluations)</th>\n",
       "      <th>Curricular units 2nd sem (credited)</th>\n",
       "      <th>Curricular units 2nd sem (enrolled)</th>\n",
       "      <th>Curricular units 2nd sem (evaluations)</th>\n",
       "      <th>Curricular units 2nd sem (approved)</th>\n",
       "      <th>Curricular units 2nd sem (grade)</th>\n",
       "      <th>Curricular units 2nd sem (without evaluations)</th>\n",
       "      <th>Unemployment rate</th>\n",
       "      <th>Inflation rate</th>\n",
       "      <th>GDP</th>\n",
       "    </tr>\n",
       "  </thead>\n",
       "  <tbody>\n",
       "    <tr>\n",
       "      <th>0</th>\n",
       "      <td>37c5fefa-df8e-4dcc-aec7-60000f2198e4</td>\n",
       "      <td>1.0</td>\n",
       "      <td>Male</td>\n",
       "      <td>Dropout</td>\n",
       "      <td>1.0</td>\n",
       "      <td>8.0</td>\n",
       "      <td>5.0</td>\n",
       "      <td>2.0</td>\n",
       "      <td>1.0</td>\n",
       "      <td>1.0</td>\n",
       "      <td>...</td>\n",
       "      <td>0.0</td>\n",
       "      <td>0.0</td>\n",
       "      <td>0.0</td>\n",
       "      <td>0.0</td>\n",
       "      <td>0.0</td>\n",
       "      <td>0.000000</td>\n",
       "      <td>0.0</td>\n",
       "      <td>10.8</td>\n",
       "      <td>1.4</td>\n",
       "      <td>1.74</td>\n",
       "    </tr>\n",
       "    <tr>\n",
       "      <th>1</th>\n",
       "      <td>37cf2ef2-2a6f-466a-a8cf-56a753bd8e71</td>\n",
       "      <td>1.0</td>\n",
       "      <td>Male</td>\n",
       "      <td>Graduate</td>\n",
       "      <td>1.0</td>\n",
       "      <td>6.0</td>\n",
       "      <td>1.0</td>\n",
       "      <td>11.0</td>\n",
       "      <td>1.0</td>\n",
       "      <td>1.0</td>\n",
       "      <td>...</td>\n",
       "      <td>0.0</td>\n",
       "      <td>0.0</td>\n",
       "      <td>6.0</td>\n",
       "      <td>6.0</td>\n",
       "      <td>6.0</td>\n",
       "      <td>13.666667</td>\n",
       "      <td>0.0</td>\n",
       "      <td>13.9</td>\n",
       "      <td>-0.3</td>\n",
       "      <td>0.79</td>\n",
       "    </tr>\n",
       "    <tr>\n",
       "      <th>2</th>\n",
       "      <td>37ddd4c5-ab63-4b43-8df7-24e98f39f25b</td>\n",
       "      <td>1.0</td>\n",
       "      <td>Male</td>\n",
       "      <td>Dropout</td>\n",
       "      <td>1.0</td>\n",
       "      <td>1.0</td>\n",
       "      <td>5.0</td>\n",
       "      <td>5.0</td>\n",
       "      <td>1.0</td>\n",
       "      <td>1.0</td>\n",
       "      <td>...</td>\n",
       "      <td>0.0</td>\n",
       "      <td>0.0</td>\n",
       "      <td>6.0</td>\n",
       "      <td>0.0</td>\n",
       "      <td>0.0</td>\n",
       "      <td>0.000000</td>\n",
       "      <td>0.0</td>\n",
       "      <td>10.8</td>\n",
       "      <td>1.4</td>\n",
       "      <td>1.74</td>\n",
       "    </tr>\n",
       "    <tr>\n",
       "      <th>3</th>\n",
       "      <td>37fafa03-d77a-4723-89aa-84a8277379c5</td>\n",
       "      <td>1.0</td>\n",
       "      <td>Female</td>\n",
       "      <td>Graduate</td>\n",
       "      <td>1.0</td>\n",
       "      <td>8.0</td>\n",
       "      <td>2.0</td>\n",
       "      <td>15.0</td>\n",
       "      <td>1.0</td>\n",
       "      <td>1.0</td>\n",
       "      <td>...</td>\n",
       "      <td>0.0</td>\n",
       "      <td>0.0</td>\n",
       "      <td>6.0</td>\n",
       "      <td>10.0</td>\n",
       "      <td>5.0</td>\n",
       "      <td>12.400000</td>\n",
       "      <td>0.0</td>\n",
       "      <td>9.4</td>\n",
       "      <td>-0.8</td>\n",
       "      <td>-3.12</td>\n",
       "    </tr>\n",
       "    <tr>\n",
       "      <th>4</th>\n",
       "      <td>382cc9e8-e885-4bcd-ae4d-a3846c35097b</td>\n",
       "      <td>1.0</td>\n",
       "      <td>Female</td>\n",
       "      <td>Graduate</td>\n",
       "      <td>2.0</td>\n",
       "      <td>12.0</td>\n",
       "      <td>1.0</td>\n",
       "      <td>3.0</td>\n",
       "      <td>0.0</td>\n",
       "      <td>1.0</td>\n",
       "      <td>...</td>\n",
       "      <td>0.0</td>\n",
       "      <td>0.0</td>\n",
       "      <td>6.0</td>\n",
       "      <td>6.0</td>\n",
       "      <td>6.0</td>\n",
       "      <td>13.000000</td>\n",
       "      <td>0.0</td>\n",
       "      <td>13.9</td>\n",
       "      <td>-0.3</td>\n",
       "      <td>0.79</td>\n",
       "    </tr>\n",
       "  </tbody>\n",
       "</table>\n",
       "<p>5 rows × 37 columns</p>\n",
       "</div>"
      ],
      "text/plain": [
       "                                     ID  Nationality  Gender    Target  \\\n",
       "0  37c5fefa-df8e-4dcc-aec7-60000f2198e4          1.0    Male   Dropout   \n",
       "1  37cf2ef2-2a6f-466a-a8cf-56a753bd8e71          1.0    Male  Graduate   \n",
       "2  37ddd4c5-ab63-4b43-8df7-24e98f39f25b          1.0    Male   Dropout   \n",
       "3  37fafa03-d77a-4723-89aa-84a8277379c5          1.0  Female  Graduate   \n",
       "4  382cc9e8-e885-4bcd-ae4d-a3846c35097b          1.0  Female  Graduate   \n",
       "\n",
       "   Marital status  Application mode  Application order  Course  \\\n",
       "0             1.0               8.0                5.0     2.0   \n",
       "1             1.0               6.0                1.0    11.0   \n",
       "2             1.0               1.0                5.0     5.0   \n",
       "3             1.0               8.0                2.0    15.0   \n",
       "4             2.0              12.0                1.0     3.0   \n",
       "\n",
       "   Daytime/evening attendance  Previous qualification  ...  \\\n",
       "0                         1.0                     1.0  ...   \n",
       "1                         1.0                     1.0  ...   \n",
       "2                         1.0                     1.0  ...   \n",
       "3                         1.0                     1.0  ...   \n",
       "4                         0.0                     1.0  ...   \n",
       "\n",
       "   Curricular units 1st sem (without evaluations)  \\\n",
       "0                                             0.0   \n",
       "1                                             0.0   \n",
       "2                                             0.0   \n",
       "3                                             0.0   \n",
       "4                                             0.0   \n",
       "\n",
       "   Curricular units 2nd sem (credited)  Curricular units 2nd sem (enrolled)  \\\n",
       "0                                  0.0                                  0.0   \n",
       "1                                  0.0                                  6.0   \n",
       "2                                  0.0                                  6.0   \n",
       "3                                  0.0                                  6.0   \n",
       "4                                  0.0                                  6.0   \n",
       "\n",
       "   Curricular units 2nd sem (evaluations)  \\\n",
       "0                                     0.0   \n",
       "1                                     6.0   \n",
       "2                                     0.0   \n",
       "3                                    10.0   \n",
       "4                                     6.0   \n",
       "\n",
       "   Curricular units 2nd sem (approved)  Curricular units 2nd sem (grade)  \\\n",
       "0                                  0.0                          0.000000   \n",
       "1                                  6.0                         13.666667   \n",
       "2                                  0.0                          0.000000   \n",
       "3                                  5.0                         12.400000   \n",
       "4                                  6.0                         13.000000   \n",
       "\n",
       "   Curricular units 2nd sem (without evaluations)  Unemployment rate  \\\n",
       "0                                             0.0               10.8   \n",
       "1                                             0.0               13.9   \n",
       "2                                             0.0               10.8   \n",
       "3                                             0.0                9.4   \n",
       "4                                             0.0               13.9   \n",
       "\n",
       "   Inflation rate   GDP  \n",
       "0             1.4  1.74  \n",
       "1            -0.3  0.79  \n",
       "2             1.4  1.74  \n",
       "3            -0.8 -3.12  \n",
       "4            -0.3  0.79  \n",
       "\n",
       "[5 rows x 37 columns]"
      ]
     },
     "execution_count": 12,
     "metadata": {},
     "output_type": "execute_result"
    }
   ],
   "source": [
    "dropout.head()"
   ]
  },
  {
   "cell_type": "markdown",
   "id": "68cda196",
   "metadata": {},
   "source": [
    "### 컬럼별 중복 제거 개수"
   ]
  },
  {
   "cell_type": "code",
   "execution_count": 13,
   "id": "18748d9e",
   "metadata": {},
   "outputs": [
    {
     "name": "stdout",
     "output_type": "stream",
     "text": [
      "{'ID': 4424,\n",
      " 'Nationality': 22,\n",
      " 'Gender': 3,\n",
      " 'Target': 4,\n",
      " 'Marital status': 7,\n",
      " 'Application mode': 19,\n",
      " 'Application order': 9,\n",
      " 'Course': 18,\n",
      " 'Daytime/evening attendance': 3,\n",
      " 'Previous qualification': 18,\n",
      " \"Mother's qualification\": 30,\n",
      " \"Father's qualification\": 35,\n",
      " \"Mother's occupation\": 33,\n",
      " \"Father's occupation\": 47,\n",
      " 'Displaced': 3,\n",
      " 'Educational special needs': 3,\n",
      " 'Debtor': 3,\n",
      " 'Tuition fees up to date': 3,\n",
      " 'Scholarship holder': 3,\n",
      " 'Age at enrollment': 47,\n",
      " 'International': 3,\n",
      " 'Education': 26,\n",
      " 'Curricular units 1st sem (credited)': 22,\n",
      " 'Curricular units 1st sem (enrolled)': 24,\n",
      " 'Curricular units 1st sem (evaluations)': 36,\n",
      " 'Curricular units 1st sem (approved)': 24,\n",
      " 'Curricular units 1st sem (grade)': 790,\n",
      " 'Curricular units 1st sem (without evaluations)': 12,\n",
      " 'Curricular units 2nd sem (credited)': 20,\n",
      " 'Curricular units 2nd sem (enrolled)': 23,\n",
      " 'Curricular units 2nd sem (evaluations)': 31,\n",
      " 'Curricular units 2nd sem (approved)': 21,\n",
      " 'Curricular units 2nd sem (grade)': 781,\n",
      " 'Curricular units 2nd sem (without evaluations)': 11,\n",
      " 'Unemployment rate': 11,\n",
      " 'Inflation rate': 10,\n",
      " 'GDP': 11}\n"
     ]
    }
   ],
   "source": [
    "columns_info = dict()\n",
    "columns = dropout.columns\n",
    "\n",
    "for col in columns:\n",
    "    columns_info[col] = len(dropout[col].unique())\n",
    "\n",
    "pprint(columns_info, sort_dicts=False)"
   ]
  },
  {
   "cell_type": "markdown",
   "id": "fcd2f97a",
   "metadata": {},
   "source": [
    "### 데이터 컬럼 탐색"
   ]
  },
  {
   "cell_type": "code",
   "execution_count": null,
   "id": "2b488844",
   "metadata": {},
   "outputs": [],
   "source": [
    "# dropout = dropout.rename(columns = {'Nacionality' : 'Nationality'})\n",
    "dropout_action_cnt = dropout.groupby(['Nationality', 'Target']).size().reset_index().pivot(columns='Target', index='Nationality', values=0)\n",
    "dropout_action_cnt = dropout_action_cnt.rename(index = {1:'포르투칼', 2:'독일'})"
   ]
  },
  {
   "cell_type": "code",
   "execution_count": null,
   "id": "f3f21a56",
   "metadata": {},
   "outputs": [],
   "source": [
    "dropout_action_cnt"
   ]
  },
  {
   "cell_type": "markdown",
   "id": "d2cde5fd",
   "metadata": {},
   "source": [
    "### 데이터 컬럼 타입 변경"
   ]
  },
  {
   "cell_type": "code",
   "execution_count": 14,
   "id": "a4e1e0d4",
   "metadata": {},
   "outputs": [
    {
     "name": "stdout",
     "output_type": "stream",
     "text": [
      "<class 'pandas.core.frame.DataFrame'>\n",
      "Int64Index: 4424 entries, 0 to 4423\n",
      "Data columns (total 37 columns):\n",
      " #   Column                                          Non-Null Count  Dtype  \n",
      "---  ------                                          --------------  -----  \n",
      " 0   ID                                              4424 non-null   object \n",
      " 1   Nationality                                     4397 non-null   float64\n",
      " 2   Gender                                          4397 non-null   object \n",
      " 3   Target                                          4416 non-null   object \n",
      " 4   Marital status                                  4405 non-null   object \n",
      " 5   Application mode                                4399 non-null   object \n",
      " 6   Application order                               4395 non-null   float64\n",
      " 7   Course                                          4403 non-null   object \n",
      " 8   Daytime/evening attendance                      4407 non-null   object \n",
      " 9   Previous qualification                          4403 non-null   object \n",
      " 10  Mother's qualification                          4399 non-null   object \n",
      " 11  Father's qualification                          4397 non-null   object \n",
      " 12  Mother's occupation                             4396 non-null   object \n",
      " 13  Father's occupation                             4399 non-null   object \n",
      " 14  Displaced                                       4397 non-null   object \n",
      " 15  Educational special needs                       4386 non-null   object \n",
      " 16  Debtor                                          4395 non-null   object \n",
      " 17  Tuition fees up to date                         4393 non-null   object \n",
      " 18  Scholarship holder                              4398 non-null   object \n",
      " 19  Age at enrollment                               4398 non-null   float64\n",
      " 20  International                                   4395 non-null   object \n",
      " 21  Education                                       111 non-null    float64\n",
      " 22  Curricular units 1st sem (credited)             4398 non-null   float64\n",
      " 23  Curricular units 1st sem (enrolled)             4387 non-null   float64\n",
      " 24  Curricular units 1st sem (evaluations)          4394 non-null   float64\n",
      " 25  Curricular units 1st sem (approved)             4396 non-null   float64\n",
      " 26  Curricular units 1st sem (grade)                4377 non-null   float64\n",
      " 27  Curricular units 1st sem (without evaluations)  4402 non-null   float64\n",
      " 28  Curricular units 2nd sem (credited)             4395 non-null   float64\n",
      " 29  Curricular units 2nd sem (enrolled)             4406 non-null   float64\n",
      " 30  Curricular units 2nd sem (evaluations)          4406 non-null   float64\n",
      " 31  Curricular units 2nd sem (approved)             4398 non-null   float64\n",
      " 32  Curricular units 2nd sem (grade)                4397 non-null   float64\n",
      " 33  Curricular units 2nd sem (without evaluations)  4402 non-null   float64\n",
      " 34  Unemployment rate                               4393 non-null   float64\n",
      " 35  Inflation rate                                  4389 non-null   float64\n",
      " 36  GDP                                             4377 non-null   float64\n",
      "dtypes: float64(19), object(18)\n",
      "memory usage: 1.3+ MB\n"
     ]
    }
   ],
   "source": [
    "dropout = dropout.astype({\"Marital status\" : 'object',\n",
    "                         \"Application mode\" : 'object',\n",
    "                         \"Course\" : 'object',\n",
    "                         \"Daytime/evening attendance\" : 'object',\n",
    "                         \"Previous qualification\" : 'object',\n",
    "                         \"Mother's qualification\" : 'object',\n",
    "                         \"Father's qualification\" : 'object',\n",
    "                         \"Mother's occupation\" : 'object',\n",
    "                         \"Father's occupation\" : 'object',\n",
    "                         \"Displaced\" : 'object',\n",
    "                         \"Educational special needs\" : 'object',\n",
    "                         \"Debtor\" : 'object',\n",
    "                         \"Tuition fees up to date\" : 'object',\n",
    "                         \"Scholarship holder\" : 'object',\n",
    "                         \"International\" : 'object'})\n",
    "dropout.info()"
   ]
  },
  {
   "cell_type": "markdown",
   "id": "39db7386",
   "metadata": {},
   "source": [
    "### 결측치 확인\n",
    "- 컬럼별 결측 비율 확인"
   ]
  },
  {
   "cell_type": "code",
   "execution_count": 15,
   "id": "e1002b19",
   "metadata": {},
   "outputs": [
    {
     "data": {
      "text/plain": [
       "ID                                                 0.00\n",
       "Nationality                                        0.61\n",
       "Gender                                             0.61\n",
       "Target                                             0.18\n",
       "Marital status                                     0.43\n",
       "Application mode                                   0.57\n",
       "Application order                                  0.66\n",
       "Course                                             0.47\n",
       "Daytime/evening attendance                         0.38\n",
       "Previous qualification                             0.47\n",
       "Mother's qualification                             0.57\n",
       "Father's qualification                             0.61\n",
       "Mother's occupation                                0.63\n",
       "Father's occupation                                0.57\n",
       "Displaced                                          0.61\n",
       "Educational special needs                          0.86\n",
       "Debtor                                             0.66\n",
       "Tuition fees up to date                            0.70\n",
       "Scholarship holder                                 0.59\n",
       "Age at enrollment                                  0.59\n",
       "International                                      0.66\n",
       "Education                                         97.49\n",
       "Curricular units 1st sem (credited)                0.59\n",
       "Curricular units 1st sem (enrolled)                0.84\n",
       "Curricular units 1st sem (evaluations)             0.68\n",
       "Curricular units 1st sem (approved)                0.63\n",
       "Curricular units 1st sem (grade)                   1.06\n",
       "Curricular units 1st sem (without evaluations)     0.50\n",
       "Curricular units 2nd sem (credited)                0.66\n",
       "Curricular units 2nd sem (enrolled)                0.41\n",
       "Curricular units 2nd sem (evaluations)             0.41\n",
       "Curricular units 2nd sem (approved)                0.59\n",
       "Curricular units 2nd sem (grade)                   0.61\n",
       "Curricular units 2nd sem (without evaluations)     0.50\n",
       "Unemployment rate                                  0.70\n",
       "Inflation rate                                     0.79\n",
       "GDP                                                1.06\n",
       "dtype: float64"
      ]
     },
     "execution_count": 15,
     "metadata": {},
     "output_type": "execute_result"
    }
   ],
   "source": [
    "round((dropout.isnull().sum()/len(dropout)) * 100, 2)"
   ]
  },
  {
   "cell_type": "markdown",
   "id": "7ec413a2",
   "metadata": {},
   "source": [
    "# ------------------------------------------------------------------------------------------------------------"
   ]
  },
  {
   "cell_type": "markdown",
   "id": "042097cb",
   "metadata": {},
   "source": [
    "## 결측치 처리\n",
    "\n",
    "###  머신러닝 및 데이터 분석에서 상황과 목적에 맞게 처리해야 하는 중요한 프로세스 중 하나\n",
    "\n",
    "\n",
    "\n",
    "1. 결측치 비율이 10% 미만인 경우\n",
    "- 삭제 가능\n",
    "<p>\n",
    "\n",
    "\n",
    "2. 결측치 비율이 30% ~ 50%인 경우\n",
    "- 삭제 위험\n",
    "<p>\n",
    "\n",
    "\n",
    "3. 결측치 비율이 50% 이상인 경우\n",
    "- 데이터 자체에 대한 추가 검증 필요 or 해당 컬럼의 제거 고려\n",
    "<p> \n",
    "    \n",
    "==============================\n",
    "### * 결측치를 처리하는 방법은 다양\n",
    "    \n",
    "1. 제거\n",
    "- 한개 이상의 결측치가 있는 모든 행 제거\n",
    "    \n",
    "2. 대치\n",
    "- 결측치를 특정값(평균, 최소, 최대, 최반값 등등)으로 대체\n",
    "    \n",
    "3. 보간법\n",
    "- 추세를 결측치 이외의 값들을 선형적으로 같은 간격으로 처리 (시계열 데이터에 적합)"
   ]
  },
  {
   "cell_type": "markdown",
   "id": "5cd34298",
   "metadata": {},
   "source": [
    "#### Target 변수에 결측치가 있는 행 일괄 제거\n",
    "- target 변수에는 결측치가 있어서는 안된다!!!"
   ]
  },
  {
   "cell_type": "code",
   "execution_count": 16,
   "id": "d73d189d",
   "metadata": {},
   "outputs": [
    {
     "data": {
      "text/html": [
       "<div>\n",
       "<style scoped>\n",
       "    .dataframe tbody tr th:only-of-type {\n",
       "        vertical-align: middle;\n",
       "    }\n",
       "\n",
       "    .dataframe tbody tr th {\n",
       "        vertical-align: top;\n",
       "    }\n",
       "\n",
       "    .dataframe thead th {\n",
       "        text-align: right;\n",
       "    }\n",
       "</style>\n",
       "<table border=\"1\" class=\"dataframe\">\n",
       "  <thead>\n",
       "    <tr style=\"text-align: right;\">\n",
       "      <th></th>\n",
       "      <th>index</th>\n",
       "      <th>null_count</th>\n",
       "      <th>null_ratio</th>\n",
       "    </tr>\n",
       "  </thead>\n",
       "  <tbody>\n",
       "    <tr>\n",
       "      <th>0</th>\n",
       "      <td>ID</td>\n",
       "      <td>0</td>\n",
       "      <td>0.00</td>\n",
       "    </tr>\n",
       "    <tr>\n",
       "      <th>1</th>\n",
       "      <td>Nationality</td>\n",
       "      <td>27</td>\n",
       "      <td>0.61</td>\n",
       "    </tr>\n",
       "    <tr>\n",
       "      <th>2</th>\n",
       "      <td>Gender</td>\n",
       "      <td>27</td>\n",
       "      <td>0.61</td>\n",
       "    </tr>\n",
       "    <tr>\n",
       "      <th>3</th>\n",
       "      <td>Target</td>\n",
       "      <td>8</td>\n",
       "      <td>0.18</td>\n",
       "    </tr>\n",
       "    <tr>\n",
       "      <th>4</th>\n",
       "      <td>Marital status</td>\n",
       "      <td>19</td>\n",
       "      <td>0.43</td>\n",
       "    </tr>\n",
       "    <tr>\n",
       "      <th>5</th>\n",
       "      <td>Application mode</td>\n",
       "      <td>25</td>\n",
       "      <td>0.57</td>\n",
       "    </tr>\n",
       "    <tr>\n",
       "      <th>6</th>\n",
       "      <td>Application order</td>\n",
       "      <td>29</td>\n",
       "      <td>0.66</td>\n",
       "    </tr>\n",
       "    <tr>\n",
       "      <th>7</th>\n",
       "      <td>Course</td>\n",
       "      <td>21</td>\n",
       "      <td>0.47</td>\n",
       "    </tr>\n",
       "    <tr>\n",
       "      <th>8</th>\n",
       "      <td>Daytime/evening attendance</td>\n",
       "      <td>17</td>\n",
       "      <td>0.38</td>\n",
       "    </tr>\n",
       "    <tr>\n",
       "      <th>9</th>\n",
       "      <td>Previous qualification</td>\n",
       "      <td>21</td>\n",
       "      <td>0.47</td>\n",
       "    </tr>\n",
       "    <tr>\n",
       "      <th>10</th>\n",
       "      <td>Mother's qualification</td>\n",
       "      <td>25</td>\n",
       "      <td>0.57</td>\n",
       "    </tr>\n",
       "    <tr>\n",
       "      <th>11</th>\n",
       "      <td>Father's qualification</td>\n",
       "      <td>27</td>\n",
       "      <td>0.61</td>\n",
       "    </tr>\n",
       "    <tr>\n",
       "      <th>12</th>\n",
       "      <td>Mother's occupation</td>\n",
       "      <td>28</td>\n",
       "      <td>0.63</td>\n",
       "    </tr>\n",
       "    <tr>\n",
       "      <th>13</th>\n",
       "      <td>Father's occupation</td>\n",
       "      <td>25</td>\n",
       "      <td>0.57</td>\n",
       "    </tr>\n",
       "    <tr>\n",
       "      <th>14</th>\n",
       "      <td>Displaced</td>\n",
       "      <td>27</td>\n",
       "      <td>0.61</td>\n",
       "    </tr>\n",
       "    <tr>\n",
       "      <th>15</th>\n",
       "      <td>Educational special needs</td>\n",
       "      <td>38</td>\n",
       "      <td>0.86</td>\n",
       "    </tr>\n",
       "    <tr>\n",
       "      <th>16</th>\n",
       "      <td>Debtor</td>\n",
       "      <td>29</td>\n",
       "      <td>0.66</td>\n",
       "    </tr>\n",
       "    <tr>\n",
       "      <th>17</th>\n",
       "      <td>Tuition fees up to date</td>\n",
       "      <td>31</td>\n",
       "      <td>0.70</td>\n",
       "    </tr>\n",
       "    <tr>\n",
       "      <th>18</th>\n",
       "      <td>Scholarship holder</td>\n",
       "      <td>26</td>\n",
       "      <td>0.59</td>\n",
       "    </tr>\n",
       "    <tr>\n",
       "      <th>19</th>\n",
       "      <td>Age at enrollment</td>\n",
       "      <td>26</td>\n",
       "      <td>0.59</td>\n",
       "    </tr>\n",
       "    <tr>\n",
       "      <th>20</th>\n",
       "      <td>International</td>\n",
       "      <td>29</td>\n",
       "      <td>0.66</td>\n",
       "    </tr>\n",
       "    <tr>\n",
       "      <th>21</th>\n",
       "      <td>Education</td>\n",
       "      <td>4313</td>\n",
       "      <td>97.49</td>\n",
       "    </tr>\n",
       "    <tr>\n",
       "      <th>22</th>\n",
       "      <td>Curricular units 1st sem (credited)</td>\n",
       "      <td>26</td>\n",
       "      <td>0.59</td>\n",
       "    </tr>\n",
       "    <tr>\n",
       "      <th>23</th>\n",
       "      <td>Curricular units 1st sem (enrolled)</td>\n",
       "      <td>37</td>\n",
       "      <td>0.84</td>\n",
       "    </tr>\n",
       "    <tr>\n",
       "      <th>24</th>\n",
       "      <td>Curricular units 1st sem (evaluations)</td>\n",
       "      <td>30</td>\n",
       "      <td>0.68</td>\n",
       "    </tr>\n",
       "    <tr>\n",
       "      <th>25</th>\n",
       "      <td>Curricular units 1st sem (approved)</td>\n",
       "      <td>28</td>\n",
       "      <td>0.63</td>\n",
       "    </tr>\n",
       "    <tr>\n",
       "      <th>26</th>\n",
       "      <td>Curricular units 1st sem (grade)</td>\n",
       "      <td>47</td>\n",
       "      <td>1.06</td>\n",
       "    </tr>\n",
       "    <tr>\n",
       "      <th>27</th>\n",
       "      <td>Curricular units 1st sem (without evaluations)</td>\n",
       "      <td>22</td>\n",
       "      <td>0.50</td>\n",
       "    </tr>\n",
       "    <tr>\n",
       "      <th>28</th>\n",
       "      <td>Curricular units 2nd sem (credited)</td>\n",
       "      <td>29</td>\n",
       "      <td>0.66</td>\n",
       "    </tr>\n",
       "    <tr>\n",
       "      <th>29</th>\n",
       "      <td>Curricular units 2nd sem (enrolled)</td>\n",
       "      <td>18</td>\n",
       "      <td>0.41</td>\n",
       "    </tr>\n",
       "    <tr>\n",
       "      <th>30</th>\n",
       "      <td>Curricular units 2nd sem (evaluations)</td>\n",
       "      <td>18</td>\n",
       "      <td>0.41</td>\n",
       "    </tr>\n",
       "    <tr>\n",
       "      <th>31</th>\n",
       "      <td>Curricular units 2nd sem (approved)</td>\n",
       "      <td>26</td>\n",
       "      <td>0.59</td>\n",
       "    </tr>\n",
       "    <tr>\n",
       "      <th>32</th>\n",
       "      <td>Curricular units 2nd sem (grade)</td>\n",
       "      <td>27</td>\n",
       "      <td>0.61</td>\n",
       "    </tr>\n",
       "    <tr>\n",
       "      <th>33</th>\n",
       "      <td>Curricular units 2nd sem (without evaluations)</td>\n",
       "      <td>22</td>\n",
       "      <td>0.50</td>\n",
       "    </tr>\n",
       "    <tr>\n",
       "      <th>34</th>\n",
       "      <td>Unemployment rate</td>\n",
       "      <td>31</td>\n",
       "      <td>0.70</td>\n",
       "    </tr>\n",
       "    <tr>\n",
       "      <th>35</th>\n",
       "      <td>Inflation rate</td>\n",
       "      <td>35</td>\n",
       "      <td>0.79</td>\n",
       "    </tr>\n",
       "    <tr>\n",
       "      <th>36</th>\n",
       "      <td>GDP</td>\n",
       "      <td>47</td>\n",
       "      <td>1.06</td>\n",
       "    </tr>\n",
       "  </tbody>\n",
       "</table>\n",
       "</div>"
      ],
      "text/plain": [
       "                                             index  null_count  null_ratio\n",
       "0                                               ID           0        0.00\n",
       "1                                      Nationality          27        0.61\n",
       "2                                           Gender          27        0.61\n",
       "3                                           Target           8        0.18\n",
       "4                                   Marital status          19        0.43\n",
       "5                                 Application mode          25        0.57\n",
       "6                                Application order          29        0.66\n",
       "7                                           Course          21        0.47\n",
       "8                       Daytime/evening attendance          17        0.38\n",
       "9                           Previous qualification          21        0.47\n",
       "10                          Mother's qualification          25        0.57\n",
       "11                          Father's qualification          27        0.61\n",
       "12                             Mother's occupation          28        0.63\n",
       "13                             Father's occupation          25        0.57\n",
       "14                                       Displaced          27        0.61\n",
       "15                       Educational special needs          38        0.86\n",
       "16                                          Debtor          29        0.66\n",
       "17                         Tuition fees up to date          31        0.70\n",
       "18                              Scholarship holder          26        0.59\n",
       "19                               Age at enrollment          26        0.59\n",
       "20                                   International          29        0.66\n",
       "21                                       Education        4313       97.49\n",
       "22             Curricular units 1st sem (credited)          26        0.59\n",
       "23             Curricular units 1st sem (enrolled)          37        0.84\n",
       "24          Curricular units 1st sem (evaluations)          30        0.68\n",
       "25             Curricular units 1st sem (approved)          28        0.63\n",
       "26                Curricular units 1st sem (grade)          47        1.06\n",
       "27  Curricular units 1st sem (without evaluations)          22        0.50\n",
       "28             Curricular units 2nd sem (credited)          29        0.66\n",
       "29             Curricular units 2nd sem (enrolled)          18        0.41\n",
       "30          Curricular units 2nd sem (evaluations)          18        0.41\n",
       "31             Curricular units 2nd sem (approved)          26        0.59\n",
       "32                Curricular units 2nd sem (grade)          27        0.61\n",
       "33  Curricular units 2nd sem (without evaluations)          22        0.50\n",
       "34                               Unemployment rate          31        0.70\n",
       "35                                  Inflation rate          35        0.79\n",
       "36                                             GDP          47        1.06"
      ]
     },
     "execution_count": 16,
     "metadata": {},
     "output_type": "execute_result"
    }
   ],
   "source": [
    "# target 변수의 결측치 유무 확인 -> 데이터프레임 형태로 번환 후 확인\n",
    "\n",
    "null_cnt_df = pd.DataFrame(dropout.isnull().sum()).rename(columns={0 : 'null_count'}).reset_index()\n",
    "null_cnt_df['null_ratio'] = round((null_cnt_df['null_count'] / len(dropout))*100 , 2)\n",
    "null_cnt_df"
   ]
  },
  {
   "cell_type": "code",
   "execution_count": 18,
   "id": "d7369ce6",
   "metadata": {},
   "outputs": [
    {
     "name": "stdout",
     "output_type": "stream",
     "text": [
      "Target 결측치 제거 전\n"
     ]
    },
    {
     "data": {
      "text/html": [
       "<div>\n",
       "<style scoped>\n",
       "    .dataframe tbody tr th:only-of-type {\n",
       "        vertical-align: middle;\n",
       "    }\n",
       "\n",
       "    .dataframe tbody tr th {\n",
       "        vertical-align: top;\n",
       "    }\n",
       "\n",
       "    .dataframe thead th {\n",
       "        text-align: right;\n",
       "    }\n",
       "</style>\n",
       "<table border=\"1\" class=\"dataframe\">\n",
       "  <thead>\n",
       "    <tr style=\"text-align: right;\">\n",
       "      <th></th>\n",
       "      <th>ID</th>\n",
       "      <th>Nationality</th>\n",
       "      <th>Gender</th>\n",
       "      <th>Target</th>\n",
       "      <th>Marital status</th>\n",
       "      <th>Application mode</th>\n",
       "      <th>Application order</th>\n",
       "      <th>Course</th>\n",
       "      <th>Daytime/evening attendance</th>\n",
       "      <th>Previous qualification</th>\n",
       "      <th>...</th>\n",
       "      <th>Curricular units 1st sem (without evaluations)</th>\n",
       "      <th>Curricular units 2nd sem (credited)</th>\n",
       "      <th>Curricular units 2nd sem (enrolled)</th>\n",
       "      <th>Curricular units 2nd sem (evaluations)</th>\n",
       "      <th>Curricular units 2nd sem (approved)</th>\n",
       "      <th>Curricular units 2nd sem (grade)</th>\n",
       "      <th>Curricular units 2nd sem (without evaluations)</th>\n",
       "      <th>Unemployment rate</th>\n",
       "      <th>Inflation rate</th>\n",
       "      <th>GDP</th>\n",
       "    </tr>\n",
       "  </thead>\n",
       "  <tbody>\n",
       "  </tbody>\n",
       "</table>\n",
       "<p>0 rows × 37 columns</p>\n",
       "</div>"
      ],
      "text/plain": [
       "Empty DataFrame\n",
       "Columns: [ID, Nationality, Gender, Target, Marital status, Application mode, Application order, Course, Daytime/evening attendance, Previous qualification, Mother's qualification, Father's qualification, Mother's occupation, Father's occupation, Displaced, Educational special needs, Debtor, Tuition fees up to date, Scholarship holder, Age at enrollment, International, Education, Curricular units 1st sem (credited), Curricular units 1st sem (enrolled), Curricular units 1st sem (evaluations), Curricular units 1st sem (approved), Curricular units 1st sem (grade), Curricular units 1st sem (without evaluations), Curricular units 2nd sem (credited), Curricular units 2nd sem (enrolled), Curricular units 2nd sem (evaluations), Curricular units 2nd sem (approved), Curricular units 2nd sem (grade), Curricular units 2nd sem (without evaluations), Unemployment rate, Inflation rate, GDP]\n",
       "Index: []\n",
       "\n",
       "[0 rows x 37 columns]"
      ]
     },
     "metadata": {},
     "output_type": "display_data"
    },
    {
     "name": "stdout",
     "output_type": "stream",
     "text": [
      "Target 결측치 제거 후\n"
     ]
    },
    {
     "data": {
      "text/html": [
       "<div>\n",
       "<style scoped>\n",
       "    .dataframe tbody tr th:only-of-type {\n",
       "        vertical-align: middle;\n",
       "    }\n",
       "\n",
       "    .dataframe tbody tr th {\n",
       "        vertical-align: top;\n",
       "    }\n",
       "\n",
       "    .dataframe thead th {\n",
       "        text-align: right;\n",
       "    }\n",
       "</style>\n",
       "<table border=\"1\" class=\"dataframe\">\n",
       "  <thead>\n",
       "    <tr style=\"text-align: right;\">\n",
       "      <th></th>\n",
       "      <th>ID</th>\n",
       "      <th>Nationality</th>\n",
       "      <th>Gender</th>\n",
       "      <th>Target</th>\n",
       "      <th>Marital status</th>\n",
       "      <th>Application mode</th>\n",
       "      <th>Application order</th>\n",
       "      <th>Course</th>\n",
       "      <th>Daytime/evening attendance</th>\n",
       "      <th>Previous qualification</th>\n",
       "      <th>...</th>\n",
       "      <th>Curricular units 1st sem (without evaluations)</th>\n",
       "      <th>Curricular units 2nd sem (credited)</th>\n",
       "      <th>Curricular units 2nd sem (enrolled)</th>\n",
       "      <th>Curricular units 2nd sem (evaluations)</th>\n",
       "      <th>Curricular units 2nd sem (approved)</th>\n",
       "      <th>Curricular units 2nd sem (grade)</th>\n",
       "      <th>Curricular units 2nd sem (without evaluations)</th>\n",
       "      <th>Unemployment rate</th>\n",
       "      <th>Inflation rate</th>\n",
       "      <th>GDP</th>\n",
       "    </tr>\n",
       "  </thead>\n",
       "  <tbody>\n",
       "  </tbody>\n",
       "</table>\n",
       "<p>0 rows × 37 columns</p>\n",
       "</div>"
      ],
      "text/plain": [
       "Empty DataFrame\n",
       "Columns: [ID, Nationality, Gender, Target, Marital status, Application mode, Application order, Course, Daytime/evening attendance, Previous qualification, Mother's qualification, Father's qualification, Mother's occupation, Father's occupation, Displaced, Educational special needs, Debtor, Tuition fees up to date, Scholarship holder, Age at enrollment, International, Education, Curricular units 1st sem (credited), Curricular units 1st sem (enrolled), Curricular units 1st sem (evaluations), Curricular units 1st sem (approved), Curricular units 1st sem (grade), Curricular units 1st sem (without evaluations), Curricular units 2nd sem (credited), Curricular units 2nd sem (enrolled), Curricular units 2nd sem (evaluations), Curricular units 2nd sem (approved), Curricular units 2nd sem (grade), Curricular units 2nd sem (without evaluations), Unemployment rate, Inflation rate, GDP]\n",
       "Index: []\n",
       "\n",
       "[0 rows x 37 columns]"
      ]
     },
     "metadata": {},
     "output_type": "display_data"
    },
    {
     "name": "stdout",
     "output_type": "stream",
     "text": [
      "(4416, 37)\n"
     ]
    }
   ],
   "source": [
    "print('Target 결측치 제거 전')\n",
    "display(dropout[dropout['Target'].isna()])\n",
    "\n",
    "# 결측치 제거\n",
    "dropout.dropna(subset='Target', inplace=True)\n",
    "\n",
    "print('Target 결측치 제거 후')\n",
    "display(dropout[dropout['Target'].isna()])\n",
    "print(dropout.shape)"
   ]
  },
  {
   "cell_type": "markdown",
   "id": "3e5d1ca9",
   "metadata": {},
   "source": [
    "## * 결측치 1차 제거 -> 행 제거\n",
    "\n",
    "- dropna() 함수 사용\n",
    "1. axis = 0/1 (0 : 행, 1 : 열)\n",
    "2. how = 'any' / 'all' (any : 행/열 중 하나라도 있는 경우 제거, all : 모든 행/열이 결측인 경우 제거)\n",
    "\n",
    "3. dropna(thresh = num) : 행의 결측치 개수가 num개 이상인 행 제거\n",
    "\n",
    "4. subset = 특정 변수 지정 / 지정하지 않을 경우 : 모든 columne & row에 적용"
   ]
  },
  {
   "cell_type": "code",
   "execution_count": 29,
   "id": "0b3ad087",
   "metadata": {},
   "outputs": [
    {
     "name": "stdout",
     "output_type": "stream",
     "text": [
      "행 기준 결측치 2개 이상인 row 개수 : 505\n",
      "결측치 제거 전 dropout shape : (4416, 37)\n",
      "결측치 제거 후 dropout shape : (3911, 37)\n"
     ]
    }
   ],
   "source": [
    "# 행을 기준으로 결측치가 2개 이상인 행 제거\n",
    "nu_2 = (dropout.isnull().sum(axis=1) >= 2).sum()\n",
    "print(f'행 기준 결측치 2개 이상인 row 개수 : {nu_2}')\n",
    "print(f'결측치 제거 전 dropout shape : {dropout.shape}')\n",
    "\n",
    "# 현재 비둘기 머리를 돌리기 위해 넘어가자\n",
    "# dropout = dropout.dropna(thresh=2)\n",
    "# print(f'결측치 제거 후 dropout shape : {dropout.shape}')\n",
    "\n",
    "dropout_ = dropout[~(dropout.isnull().sum(axis=1) >= 2)]\n",
    "print(f'결측치 제거 후 dropout shape : {dropout_.shape}')\n"
   ]
  },
  {
   "cell_type": "code",
   "execution_count": 31,
   "id": "1958bfec",
   "metadata": {},
   "outputs": [
    {
     "data": {
      "text/html": [
       "<div>\n",
       "<style scoped>\n",
       "    .dataframe tbody tr th:only-of-type {\n",
       "        vertical-align: middle;\n",
       "    }\n",
       "\n",
       "    .dataframe tbody tr th {\n",
       "        vertical-align: top;\n",
       "    }\n",
       "\n",
       "    .dataframe thead th {\n",
       "        text-align: right;\n",
       "    }\n",
       "</style>\n",
       "<table border=\"1\" class=\"dataframe\">\n",
       "  <thead>\n",
       "    <tr style=\"text-align: right;\">\n",
       "      <th></th>\n",
       "      <th>index</th>\n",
       "      <th>null_count</th>\n",
       "      <th>null_ratio</th>\n",
       "    </tr>\n",
       "  </thead>\n",
       "  <tbody>\n",
       "    <tr>\n",
       "      <th>0</th>\n",
       "      <td>ID</td>\n",
       "      <td>0</td>\n",
       "      <td>0.00</td>\n",
       "    </tr>\n",
       "    <tr>\n",
       "      <th>1</th>\n",
       "      <td>Nationality</td>\n",
       "      <td>0</td>\n",
       "      <td>0.00</td>\n",
       "    </tr>\n",
       "    <tr>\n",
       "      <th>2</th>\n",
       "      <td>Gender</td>\n",
       "      <td>0</td>\n",
       "      <td>0.00</td>\n",
       "    </tr>\n",
       "    <tr>\n",
       "      <th>3</th>\n",
       "      <td>Target</td>\n",
       "      <td>0</td>\n",
       "      <td>0.00</td>\n",
       "    </tr>\n",
       "    <tr>\n",
       "      <th>4</th>\n",
       "      <td>Marital status</td>\n",
       "      <td>1</td>\n",
       "      <td>0.03</td>\n",
       "    </tr>\n",
       "    <tr>\n",
       "      <th>5</th>\n",
       "      <td>Application mode</td>\n",
       "      <td>1</td>\n",
       "      <td>0.03</td>\n",
       "    </tr>\n",
       "    <tr>\n",
       "      <th>6</th>\n",
       "      <td>Application order</td>\n",
       "      <td>0</td>\n",
       "      <td>0.00</td>\n",
       "    </tr>\n",
       "    <tr>\n",
       "      <th>7</th>\n",
       "      <td>Course</td>\n",
       "      <td>0</td>\n",
       "      <td>0.00</td>\n",
       "    </tr>\n",
       "    <tr>\n",
       "      <th>8</th>\n",
       "      <td>Daytime/evening attendance</td>\n",
       "      <td>0</td>\n",
       "      <td>0.00</td>\n",
       "    </tr>\n",
       "    <tr>\n",
       "      <th>9</th>\n",
       "      <td>Previous qualification</td>\n",
       "      <td>1</td>\n",
       "      <td>0.03</td>\n",
       "    </tr>\n",
       "    <tr>\n",
       "      <th>10</th>\n",
       "      <td>Mother's qualification</td>\n",
       "      <td>0</td>\n",
       "      <td>0.00</td>\n",
       "    </tr>\n",
       "    <tr>\n",
       "      <th>11</th>\n",
       "      <td>Father's qualification</td>\n",
       "      <td>0</td>\n",
       "      <td>0.00</td>\n",
       "    </tr>\n",
       "    <tr>\n",
       "      <th>12</th>\n",
       "      <td>Mother's occupation</td>\n",
       "      <td>0</td>\n",
       "      <td>0.00</td>\n",
       "    </tr>\n",
       "    <tr>\n",
       "      <th>13</th>\n",
       "      <td>Father's occupation</td>\n",
       "      <td>0</td>\n",
       "      <td>0.00</td>\n",
       "    </tr>\n",
       "    <tr>\n",
       "      <th>14</th>\n",
       "      <td>Displaced</td>\n",
       "      <td>0</td>\n",
       "      <td>0.00</td>\n",
       "    </tr>\n",
       "    <tr>\n",
       "      <th>15</th>\n",
       "      <td>Educational special needs</td>\n",
       "      <td>0</td>\n",
       "      <td>0.00</td>\n",
       "    </tr>\n",
       "    <tr>\n",
       "      <th>16</th>\n",
       "      <td>Debtor</td>\n",
       "      <td>1</td>\n",
       "      <td>0.03</td>\n",
       "    </tr>\n",
       "    <tr>\n",
       "      <th>17</th>\n",
       "      <td>Tuition fees up to date</td>\n",
       "      <td>0</td>\n",
       "      <td>0.00</td>\n",
       "    </tr>\n",
       "    <tr>\n",
       "      <th>18</th>\n",
       "      <td>Scholarship holder</td>\n",
       "      <td>1</td>\n",
       "      <td>0.03</td>\n",
       "    </tr>\n",
       "    <tr>\n",
       "      <th>19</th>\n",
       "      <td>Age at enrollment</td>\n",
       "      <td>0</td>\n",
       "      <td>0.00</td>\n",
       "    </tr>\n",
       "    <tr>\n",
       "      <th>20</th>\n",
       "      <td>International</td>\n",
       "      <td>1</td>\n",
       "      <td>0.03</td>\n",
       "    </tr>\n",
       "    <tr>\n",
       "      <th>21</th>\n",
       "      <td>Education</td>\n",
       "      <td>3804</td>\n",
       "      <td>97.26</td>\n",
       "    </tr>\n",
       "    <tr>\n",
       "      <th>22</th>\n",
       "      <td>Curricular units 1st sem (credited)</td>\n",
       "      <td>0</td>\n",
       "      <td>0.00</td>\n",
       "    </tr>\n",
       "    <tr>\n",
       "      <th>23</th>\n",
       "      <td>Curricular units 1st sem (enrolled)</td>\n",
       "      <td>2</td>\n",
       "      <td>0.05</td>\n",
       "    </tr>\n",
       "    <tr>\n",
       "      <th>24</th>\n",
       "      <td>Curricular units 1st sem (evaluations)</td>\n",
       "      <td>1</td>\n",
       "      <td>0.03</td>\n",
       "    </tr>\n",
       "    <tr>\n",
       "      <th>25</th>\n",
       "      <td>Curricular units 1st sem (approved)</td>\n",
       "      <td>1</td>\n",
       "      <td>0.03</td>\n",
       "    </tr>\n",
       "    <tr>\n",
       "      <th>26</th>\n",
       "      <td>Curricular units 1st sem (grade)</td>\n",
       "      <td>1</td>\n",
       "      <td>0.03</td>\n",
       "    </tr>\n",
       "    <tr>\n",
       "      <th>27</th>\n",
       "      <td>Curricular units 1st sem (without evaluations)</td>\n",
       "      <td>0</td>\n",
       "      <td>0.00</td>\n",
       "    </tr>\n",
       "    <tr>\n",
       "      <th>28</th>\n",
       "      <td>Curricular units 2nd sem (credited)</td>\n",
       "      <td>1</td>\n",
       "      <td>0.03</td>\n",
       "    </tr>\n",
       "    <tr>\n",
       "      <th>29</th>\n",
       "      <td>Curricular units 2nd sem (enrolled)</td>\n",
       "      <td>0</td>\n",
       "      <td>0.00</td>\n",
       "    </tr>\n",
       "    <tr>\n",
       "      <th>30</th>\n",
       "      <td>Curricular units 2nd sem (evaluations)</td>\n",
       "      <td>0</td>\n",
       "      <td>0.00</td>\n",
       "    </tr>\n",
       "    <tr>\n",
       "      <th>31</th>\n",
       "      <td>Curricular units 2nd sem (approved)</td>\n",
       "      <td>0</td>\n",
       "      <td>0.00</td>\n",
       "    </tr>\n",
       "    <tr>\n",
       "      <th>32</th>\n",
       "      <td>Curricular units 2nd sem (grade)</td>\n",
       "      <td>1</td>\n",
       "      <td>0.03</td>\n",
       "    </tr>\n",
       "    <tr>\n",
       "      <th>33</th>\n",
       "      <td>Curricular units 2nd sem (without evaluations)</td>\n",
       "      <td>0</td>\n",
       "      <td>0.00</td>\n",
       "    </tr>\n",
       "    <tr>\n",
       "      <th>34</th>\n",
       "      <td>Unemployment rate</td>\n",
       "      <td>1</td>\n",
       "      <td>0.03</td>\n",
       "    </tr>\n",
       "    <tr>\n",
       "      <th>35</th>\n",
       "      <td>Inflation rate</td>\n",
       "      <td>0</td>\n",
       "      <td>0.00</td>\n",
       "    </tr>\n",
       "    <tr>\n",
       "      <th>36</th>\n",
       "      <td>GDP</td>\n",
       "      <td>1</td>\n",
       "      <td>0.03</td>\n",
       "    </tr>\n",
       "  </tbody>\n",
       "</table>\n",
       "</div>"
      ],
      "text/plain": [
       "                                             index  null_count  null_ratio\n",
       "0                                               ID           0        0.00\n",
       "1                                      Nationality           0        0.00\n",
       "2                                           Gender           0        0.00\n",
       "3                                           Target           0        0.00\n",
       "4                                   Marital status           1        0.03\n",
       "5                                 Application mode           1        0.03\n",
       "6                                Application order           0        0.00\n",
       "7                                           Course           0        0.00\n",
       "8                       Daytime/evening attendance           0        0.00\n",
       "9                           Previous qualification           1        0.03\n",
       "10                          Mother's qualification           0        0.00\n",
       "11                          Father's qualification           0        0.00\n",
       "12                             Mother's occupation           0        0.00\n",
       "13                             Father's occupation           0        0.00\n",
       "14                                       Displaced           0        0.00\n",
       "15                       Educational special needs           0        0.00\n",
       "16                                          Debtor           1        0.03\n",
       "17                         Tuition fees up to date           0        0.00\n",
       "18                              Scholarship holder           1        0.03\n",
       "19                               Age at enrollment           0        0.00\n",
       "20                                   International           1        0.03\n",
       "21                                       Education        3804       97.26\n",
       "22             Curricular units 1st sem (credited)           0        0.00\n",
       "23             Curricular units 1st sem (enrolled)           2        0.05\n",
       "24          Curricular units 1st sem (evaluations)           1        0.03\n",
       "25             Curricular units 1st sem (approved)           1        0.03\n",
       "26                Curricular units 1st sem (grade)           1        0.03\n",
       "27  Curricular units 1st sem (without evaluations)           0        0.00\n",
       "28             Curricular units 2nd sem (credited)           1        0.03\n",
       "29             Curricular units 2nd sem (enrolled)           0        0.00\n",
       "30          Curricular units 2nd sem (evaluations)           0        0.00\n",
       "31             Curricular units 2nd sem (approved)           0        0.00\n",
       "32                Curricular units 2nd sem (grade)           1        0.03\n",
       "33  Curricular units 2nd sem (without evaluations)           0        0.00\n",
       "34                               Unemployment rate           1        0.03\n",
       "35                                  Inflation rate           0        0.00\n",
       "36                                             GDP           1        0.03"
      ]
     },
     "execution_count": 31,
     "metadata": {},
     "output_type": "execute_result"
    }
   ],
   "source": [
    "null_cnt_df = pd.DataFrame(dropout_.isnull().sum()).rename(columns={0 : 'null_count'}).reset_index()\n",
    "null_cnt_df['null_ratio'] = round((null_cnt_df['null_count'] / len(dropout_))*100 , 2)\n",
    "null_cnt_df"
   ]
  },
  {
   "cell_type": "code",
   "execution_count": 53,
   "metadata": {},
   "outputs": [
    {
     "data": {
      "text/plain": [
       "0"
      ]
     },
     "execution_count": 53,
     "metadata": {},
     "output_type": "execute_result"
    }
   ],
   "source": [
    "# 행당 Null값 2개 이상인 애들 확인\n",
    "(dropout_.isnull().sum(axis=1) == 2).sum()"
   ]
  },
  {
   "cell_type": "code",
   "execution_count": 59,
   "id": "58e34a1a",
   "metadata": {
    "scrolled": true
   },
   "outputs": [
    {
     "data": {
      "text/plain": [
       "0"
      ]
     },
     "execution_count": 59,
     "metadata": {},
     "output_type": "execute_result"
    }
   ],
   "source": [
    "# 행을 기준으로 모두 결측인 case 제거\n",
    "\n",
    "# 모든 행이 Null인 경우, 즉 행을 기준으로 Null 값이 Column 수와 같으면 제거\n",
    "(dropout.isnull().sum(axis=1) >= 30).sum()\n",
    "\n",
    "# 발견되지 않음 "
   ]
  },
  {
   "cell_type": "code",
   "execution_count": null,
   "id": "399f631b",
   "metadata": {},
   "outputs": [],
   "source": [
    "# 약 4천개의 행중에서 3000개 이상 결측인 컬럼 제거 -> \"Education\" 컬럼 제거 됨\n",
    "\n",
    "dropout.dropna(thresh=3000, axis=1, inplace=True)"
   ]
  },
  {
   "cell_type": "code",
   "execution_count": null,
   "id": "faf2b5f9",
   "metadata": {},
   "outputs": [],
   "source": [
    "dropout.info()"
   ]
  },
  {
   "cell_type": "markdown",
   "id": "035c9fe4",
   "metadata": {},
   "source": [
    "## * 결측치 특정값 대치(imputation)\n",
    "\n",
    "1. 최빈값 : 범주형 변수의 경우 (가장 비율이 높은 범주로 대치 가능)\n",
    "\n",
    "2. 중앙값 : 연속형 변수의 경우 중앙값으로 대치 가능\n",
    "\n",
    "3. 평균 : 연속형 변수의 경우 평균값으로 대치 가능\n",
    "\n",
    "4. 임의 지정 : 사용자가 원하는 수치로 대치 가능"
   ]
  },
  {
   "cell_type": "markdown",
   "id": "a57abcf7",
   "metadata": {},
   "source": [
    "### 특정값 대치 version 1 -> fillna() 함수 사용"
   ]
  },
  {
   "cell_type": "markdown",
   "id": "2c621765",
   "metadata": {},
   "source": [
    "#### 타입별 컬럼 리스트 재정의\n",
    "- 1. float64 타입에 해당하는 컬럼 리스트 반환\n",
    "- 2. Object 타입에 해당하는 컬럼 리스트 반환"
   ]
  },
  {
   "cell_type": "code",
   "execution_count": null,
   "id": "225bd5cb",
   "metadata": {},
   "outputs": [],
   "source": [
    "dropout['ID'].dtype"
   ]
  },
  {
   "cell_type": "code",
   "execution_count": null,
   "id": "ccc37575",
   "metadata": {},
   "outputs": [],
   "source": [
    "# 각 타입별 컬럼 리스트를 딕셔너리 형태로 반환\n",
    "\n",
    "# ex) {'object' : ['col1', 'col2'...], 'float64' : ['col3', 'col4'...]}\n",
    "type_lst = dict({'Object': [], 'Float64' : []})\n",
    "o_lst = []\n",
    "f_lst = []\n",
    "\n",
    "for i in dropout:\n",
    "    if dropout[i].dtype == 'O':\n",
    "        o_lst.append(i)\n",
    "    else:\n",
    "        f_lst.append(i)\n",
    "\n",
    "type_lst['Object'] = o_lst\n",
    "type_lst['Float64'] = f_lst\n"
   ]
  },
  {
   "cell_type": "code",
   "execution_count": null,
   "id": "de12ab03",
   "metadata": {},
   "outputs": [],
   "source": []
  },
  {
   "cell_type": "code",
   "execution_count": null,
   "id": "e7a31b50",
   "metadata": {},
   "outputs": [],
   "source": [
    "# float64 타입에 해당하는 컬럼 리스트 반환\n",
    "pprint(type_lst['Float64'])\n",
    "\n",
    "# object 타입에 해당하는 컬럼 리스트 반환\n",
    "pprint(type_lst['Object'])"
   ]
  },
  {
   "cell_type": "markdown",
   "id": "73745949",
   "metadata": {},
   "source": [
    "### * float 타입 컬럼 결측치 대치"
   ]
  },
  {
   "cell_type": "markdown",
   "id": "5162a6cc",
   "metadata": {},
   "source": [
    "#### 1. float64 타입의 컬럼의 결측치를 모두 각 컬럼의 평균값으로 대치"
   ]
  },
  {
   "cell_type": "code",
   "execution_count": null,
   "id": "5a222819",
   "metadata": {},
   "outputs": [],
   "source": [
    "dropout[dropout.isna().any(axis=1)]"
   ]
  },
  {
   "cell_type": "code",
   "execution_count": null,
   "id": "21384c13",
   "metadata": {},
   "outputs": [],
   "source": [
    "dropout[type_lst['Float64']].fillna(dropout.mean)"
   ]
  },
  {
   "cell_type": "markdown",
   "id": "0dddf758",
   "metadata": {},
   "source": [
    "#### 2. float64 타입의 컬럼의 결측치를 모두 각 컬럼의 최대값으로 대치\n",
    "\n",
    "- idxmax() : 최대값을 가지는 인덱스 레이블을 출력\n",
    "- max() : 최대값 출력"
   ]
  },
  {
   "cell_type": "code",
   "execution_count": null,
   "id": "6dec1039",
   "metadata": {},
   "outputs": [],
   "source": [
    "print(dropout[type_lst['Float64']].idxmax())\n",
    "print(dropout[type_lst['Float64']].max())"
   ]
  },
  {
   "cell_type": "code",
   "execution_count": null,
   "id": "fd7d3f56",
   "metadata": {},
   "outputs": [],
   "source": [
    "dropout[type_lst['Float64']].fillna(max)"
   ]
  },
  {
   "cell_type": "markdown",
   "id": "651e357c",
   "metadata": {},
   "source": [
    "#### 3. float64 타입의 컬럼의 결측치를 모두 각 컬럼의 최소값으로 대치\n",
    "- idxmin() : 최소값을 가지는 인덱스 레이블을 출력\n",
    "- min() : 최소값을 출력"
   ]
  },
  {
   "cell_type": "code",
   "execution_count": null,
   "id": "17729d47",
   "metadata": {},
   "outputs": [],
   "source": [
    "print(dropout[type_lst['Float64']].idxmax())\n",
    "print(dropout[type_lst['Float64']].max())"
   ]
  },
  {
   "cell_type": "markdown",
   "id": "0d22365c",
   "metadata": {},
   "source": [
    "#### 4. float64 타입의 컬럼의 결측치를 모두 각 컬럼의 최빈값으로 대치 version 1 -> -> value_counts() + idxmax() 함수 사용"
   ]
  },
  {
   "cell_type": "code",
   "execution_count": null,
   "id": "7f1c2f53",
   "metadata": {},
   "outputs": [],
   "source": []
  },
  {
   "cell_type": "markdown",
   "id": "a1c51c74",
   "metadata": {},
   "source": [
    "#### 5. float64 타입의 컬럼의 결측치를 모두 각 컬럼의 최빈값으로 대치 version 2 -> mode() 함수 사용"
   ]
  },
  {
   "cell_type": "code",
   "execution_count": null,
   "id": "be79ebe0",
   "metadata": {},
   "outputs": [],
   "source": []
  },
  {
   "cell_type": "markdown",
   "id": "5db2e471",
   "metadata": {},
   "source": [
    "#### 6. float64 타입의 컬럼의 결측치를 모두 각 컬럼의 바로 위 값으로 대치 -> fillna(method = 'ffill')\n",
    "- 데이터 특성상 서로 이웃한 데이터끼리 유사성이 높을 수 있다고 간주될 때 사용"
   ]
  },
  {
   "cell_type": "code",
   "execution_count": null,
   "id": "1f1961fa",
   "metadata": {},
   "outputs": [],
   "source": []
  },
  {
   "cell_type": "markdown",
   "id": "44445a3d",
   "metadata": {},
   "source": [
    "#### 7. float64 타입의 컬럼의 결측치를 모두 각 컬럼의 바로 아래 값으로 대치 -> fillna(method = 'bfill')\n",
    "- 데이터 특성상 서로 이웃한 데이터끼리 유사성이 높을 수 있다고 간주될 때 사용"
   ]
  },
  {
   "cell_type": "code",
   "execution_count": null,
   "id": "6a63d941",
   "metadata": {},
   "outputs": [],
   "source": []
  },
  {
   "cell_type": "markdown",
   "id": "526e5542",
   "metadata": {},
   "source": [
    "#### 8. float 타입의 컬럼의 결측치를 분석가가 원하는 수치로 대치 가능 -> replace() 함수 사용\n",
    "- to_replace : 바꾸고 싶은 값\n",
    "- value : 바꾸고자 하는 값"
   ]
  },
  {
   "cell_type": "code",
   "execution_count": null,
   "id": "e1c3a2ea",
   "metadata": {},
   "outputs": [],
   "source": []
  },
  {
   "cell_type": "markdown",
   "id": "6f9b3b5c",
   "metadata": {},
   "source": [
    "#### 9. float 타입의 컬럼의 결측치를 성형적으로 같은 간격으로 처리 -> interpolate() 함수 사용 ### 시계열 데이터의 경우 사용 권장"
   ]
  },
  {
   "cell_type": "code",
   "execution_count": null,
   "id": "2c204f88",
   "metadata": {},
   "outputs": [],
   "source": []
  },
  {
   "cell_type": "markdown",
   "id": "b645989a",
   "metadata": {},
   "source": [
    "# ------------------------------------------------------------------------------------------------------------"
   ]
  },
  {
   "cell_type": "markdown",
   "id": "bb24c85f",
   "metadata": {},
   "source": [
    "### * object 타입 컬럼 결측치 대치"
   ]
  },
  {
   "cell_type": "markdown",
   "id": "d5de7e53",
   "metadata": {},
   "source": [
    "#### 1. object 타입의 컬럼의 결측치를 모두 각 컬럼의 최빈값으로 대치 version 1 -> value_counts() + idxmax() 함수 사용"
   ]
  },
  {
   "cell_type": "code",
   "execution_count": null,
   "id": "20757260",
   "metadata": {},
   "outputs": [],
   "source": []
  },
  {
   "cell_type": "markdown",
   "id": "5a92f4e6",
   "metadata": {},
   "source": [
    "#### 2. object 타입의 컬럼의 결측치를 모두 각 컬럼의 최빈값으로 대치 version 2 -> mode() 함수 사용"
   ]
  },
  {
   "cell_type": "code",
   "execution_count": null,
   "id": "335a8ae9",
   "metadata": {},
   "outputs": [],
   "source": []
  },
  {
   "cell_type": "markdown",
   "id": "38f1133c",
   "metadata": {},
   "source": [
    "#### 3. object 타입의 컬럼의 결측치를 모두 각 컬럼의 바로 위 값으로 대치 -> fillna(method = 'ffill')\n",
    "- 데이터 특성상 서로 이웃한 데이터끼리 유사성이 높을 수 있다고 간주될 때 사용"
   ]
  },
  {
   "cell_type": "code",
   "execution_count": null,
   "id": "790667e1",
   "metadata": {},
   "outputs": [],
   "source": []
  },
  {
   "cell_type": "markdown",
   "id": "85c2c664",
   "metadata": {},
   "source": [
    "#### 4. object 타입의 컬럼의 결측치를 모두 각 컬럼의 바로 아래 값으로 대치 -> fillna(method = 'bfill')\n",
    "- 데이터 특성상 서로 이웃한 데이터끼리 유사성이 높을 수 있다고 간주될 때 사용"
   ]
  },
  {
   "cell_type": "code",
   "execution_count": null,
   "id": "03abf5d3",
   "metadata": {},
   "outputs": [],
   "source": []
  },
  {
   "cell_type": "markdown",
   "id": "d98f63ff",
   "metadata": {},
   "source": [
    "#### 5. object 타입의 컬럼의 결측치를 분석가가 원하는 값으로 대치 가능 -> replace() 함수 사용"
   ]
  },
  {
   "cell_type": "code",
   "execution_count": null,
   "id": "ae36c953",
   "metadata": {},
   "outputs": [],
   "source": []
  },
  {
   "cell_type": "markdown",
   "id": "c24e2e6a",
   "metadata": {},
   "source": [
    "# ------------------------------------------------------------------------------------------------------------"
   ]
  },
  {
   "cell_type": "markdown",
   "id": "45f6e929",
   "metadata": {},
   "source": [
    "# 데이터 시각화"
   ]
  },
  {
   "cell_type": "markdown",
   "id": "ddce515e",
   "metadata": {},
   "source": [
    "### 시각화 라이브러리\n",
    "\n",
    "1. matplotlib\n",
    "2. seaborn\n",
    "3. plotly"
   ]
  },
  {
   "cell_type": "code",
   "execution_count": null,
   "id": "69129add",
   "metadata": {},
   "outputs": [],
   "source": [
    "import matplotlib.pyplot as plt\n",
    "import matplotlib\n",
    "# 그래프 타이틀 한글 출력\n",
    "matplotlib.rcParams['font.family'] ='Malgun Gothic'\n",
    "\n",
    "# 그래프 사이즈 지정\n",
    "plt.rcParams['figure.figsize'] = [12, 8]"
   ]
  },
  {
   "cell_type": "markdown",
   "id": "7938f842",
   "metadata": {},
   "source": [
    "# Matplotlib로 원 그래프 그리기\n",
    "- Target 학생 수 비율"
   ]
  },
  {
   "cell_type": "code",
   "execution_count": null,
   "id": "f20449cd",
   "metadata": {},
   "outputs": [],
   "source": [
    "# 그래프 그리기\n"
   ]
  },
  {
   "cell_type": "markdown",
   "id": "7c8db976",
   "metadata": {},
   "source": [
    "# plotly로 원 그래프 그리기\n",
    "- Target 학생 수 비율"
   ]
  },
  {
   "cell_type": "code",
   "execution_count": null,
   "id": "8641d658",
   "metadata": {},
   "outputs": [],
   "source": [
    "import plotly.offline\n",
    "import plotly.express as px\n",
    "import plotly.graph_objs as go"
   ]
  },
  {
   "cell_type": "code",
   "execution_count": null,
   "id": "47deb294",
   "metadata": {},
   "outputs": [],
   "source": [
    "# 그래프 그리기\n"
   ]
  },
  {
   "cell_type": "markdown",
   "id": "b59c1049",
   "metadata": {},
   "source": [
    "# Seaborn으로 막대그래프 그리기\n",
    "- Target별 성비"
   ]
  },
  {
   "cell_type": "code",
   "execution_count": null,
   "id": "61843920",
   "metadata": {},
   "outputs": [],
   "source": [
    "import seaborn as sns"
   ]
  },
  {
   "cell_type": "code",
   "execution_count": null,
   "id": "61ecc286",
   "metadata": {},
   "outputs": [],
   "source": [
    "# 그래프 그리기\n"
   ]
  },
  {
   "cell_type": "markdown",
   "id": "108bb578",
   "metadata": {},
   "source": [
    "# plotly로 막대그래프 그리기\n",
    "- Target별 성비"
   ]
  },
  {
   "cell_type": "code",
   "execution_count": null,
   "id": "dd21890b",
   "metadata": {},
   "outputs": [],
   "source": [
    "pivot_df = pd.DataFrame()"
   ]
  },
  {
   "cell_type": "code",
   "execution_count": null,
   "id": "373b284e",
   "metadata": {},
   "outputs": [],
   "source": [
    "# 그래프 그리기\n"
   ]
  },
  {
   "cell_type": "markdown",
   "id": "25dc92c1",
   "metadata": {},
   "source": [
    "## 결혼 상태에 따른 Target 변수 비율"
   ]
  },
  {
   "cell_type": "code",
   "execution_count": null,
   "id": "c21acb1e",
   "metadata": {},
   "outputs": [],
   "source": [
    "# 그래프 그리기\n"
   ]
  },
  {
   "cell_type": "markdown",
   "id": "ef1372a3",
   "metadata": {},
   "source": [
    "### 결혼 상태에 따른 Target 변수 비율 구하기 -> plotly 라이브러리 사용"
   ]
  },
  {
   "cell_type": "code",
   "execution_count": null,
   "id": "44a4c758",
   "metadata": {},
   "outputs": [],
   "source": [
    "def change_matrial_val(values):\n",
    "    if values == 1:\n",
    "        return 'Single'\n",
    "    elif values == 2:\n",
    "        return 'Married'\n",
    "    elif values == 3:\n",
    "        return 'Widower'\n",
    "    elif values == 4:\n",
    "        return 'Divorced'\n",
    "    elif values == 5:\n",
    "        return 'Facto Union'\n",
    "    elif values == 6:\n",
    "        return 'Legally Seperated'"
   ]
  },
  {
   "cell_type": "code",
   "execution_count": null,
   "id": "b2103492",
   "metadata": {},
   "outputs": [],
   "source": [
    "# 그래프 그리기\n"
   ]
  },
  {
   "cell_type": "markdown",
   "id": "cfc05cdc",
   "metadata": {},
   "source": [
    "## 전공에 따른 Target 비율"
   ]
  },
  {
   "cell_type": "code",
   "execution_count": null,
   "id": "408533b0",
   "metadata": {},
   "outputs": [],
   "source": [
    "course_remove = pd.DataFrame()\n",
    "\n",
    "\n",
    "course_remove = course_remove.rename(index={\n",
    "    1:'Biofuel Production Technologies',\n",
    "    2:'Animation and Multimedia Design',\n",
    "    3:'Social Service (Evening Attendance)',\n",
    "    4:'Agronomy',5:'Communication Design',\n",
    "    6:'Veterinary Nursing',\n",
    "    7:'Informatics Engineering',\n",
    "    8:'Equiniculture',\n",
    "    9:'Management',\n",
    "    10:'Social Service',\n",
    "    11:'Tourism',\n",
    "    12:'Nursing',\n",
    "    13:'Oral Hygiene',\n",
    "    14:'Advertising and Marketing Management',\n",
    "    15:'Journalism and Communication',\n",
    "    16:'Basic Education',\n",
    "    17:'Management (Evening Attendance)'})"
   ]
  },
  {
   "cell_type": "code",
   "execution_count": null,
   "id": "63b55e4a",
   "metadata": {},
   "outputs": [],
   "source": [
    "# 열을 기준으로 각 범주별 총합 계산\n",
    "\n",
    "\n",
    "# 총합을 기준으로 오름차순 정렬\n"
   ]
  },
  {
   "cell_type": "code",
   "execution_count": null,
   "id": "964fe4d0",
   "metadata": {},
   "outputs": [],
   "source": [
    "# 그래프 그리기\n"
   ]
  },
  {
   "cell_type": "markdown",
   "id": "0ff93ad7",
   "metadata": {},
   "source": [
    "### 전공에 따른 Target 비율 -> plotly 라이브러리 사용"
   ]
  },
  {
   "cell_type": "code",
   "execution_count": null,
   "id": "2d733e7d",
   "metadata": {
    "scrolled": true
   },
   "outputs": [],
   "source": [
    "course_df = pd.DataFrame()"
   ]
  },
  {
   "cell_type": "code",
   "execution_count": null,
   "id": "7ff2062e",
   "metadata": {},
   "outputs": [],
   "source": [
    "name_list = ['Biofuel Production Technologies',\n",
    "    'Animation and Multimedia Design',\n",
    "    'Social Service (Evening Attendance)',\n",
    "    'Agronomy',\n",
    "    'Communication Design',\n",
    "    'Veterinary Nursing',\n",
    "    'Informatics Engineering',\n",
    "    'Equiniculture',\n",
    "    'Management',\n",
    "    'Social Service',\n",
    "    'Tourism',\n",
    "    'Nursing',\n",
    "    'Oral Hygiene',\n",
    "    'Advertising and Marketing Management',\n",
    "    'Journalism and Communication',\n",
    "    'Basic Education',\n",
    "    'Management (Evening Attendance)']"
   ]
  },
  {
   "cell_type": "code",
   "execution_count": null,
   "id": "b8a75d4c",
   "metadata": {},
   "outputs": [],
   "source": [
    "# 그래프 그리기\n"
   ]
  },
  {
   "cell_type": "markdown",
   "id": "dbb4a83b",
   "metadata": {},
   "source": [
    "### 국적에 따른 Target 비율\n",
    "\n",
    "- 포르투칼인이 압도적으로 많아 예측률에 큰 영향은 못 줄 것으로 보임"
   ]
  },
  {
   "cell_type": "code",
   "execution_count": null,
   "id": "fd6e38a9",
   "metadata": {},
   "outputs": [],
   "source": [
    "nation_df = pd.DataFrame()"
   ]
  },
  {
   "cell_type": "code",
   "execution_count": null,
   "id": "3a07b541",
   "metadata": {},
   "outputs": [],
   "source": [
    "nation_df = nation_df.rename(index={1:'Portuguese',\n",
    "                                    2:'German',\n",
    "                                    3:'Spanish',\n",
    "                                    4:'Italian',\n",
    "                                    5:'Dutch',\n",
    "                                    6:'English',\n",
    "                                    7:'Lithuanian',\n",
    "                                    8:'Angolan',\n",
    "                                    9:'Cape Verdean',\n",
    "                                    10:'Guinean',\n",
    "                                    11:'Mozambican',\n",
    "                                    12:'Santomean',\n",
    "                                    13:'Turkish',\n",
    "                                    14:'Brazilian',\n",
    "                                    15:'Romanian',\n",
    "                                    16:'Moldova',\n",
    "                                    17:'Mexican',\n",
    "                                    18:'Ukrainian',\n",
    "                                    19:'Russian',\n",
    "                                    20:'Cuban', \n",
    "                                    21:'Colombian'})"
   ]
  },
  {
   "cell_type": "code",
   "execution_count": null,
   "id": "aa64ac09",
   "metadata": {},
   "outputs": [],
   "source": [
    "# 그래프 그리기\n"
   ]
  },
  {
   "cell_type": "markdown",
   "id": "a601d23e",
   "metadata": {},
   "source": [
    "### 국적에 따른 Target 비율 -> plotly 라이브러리 사용"
   ]
  },
  {
   "cell_type": "code",
   "execution_count": null,
   "id": "25270f48",
   "metadata": {},
   "outputs": [],
   "source": [
    "# 그래프 그리기\n"
   ]
  },
  {
   "cell_type": "markdown",
   "id": "219a0a6c",
   "metadata": {},
   "source": [
    "## 연령대 분포도 그리기"
   ]
  },
  {
   "cell_type": "code",
   "execution_count": null,
   "id": "cee2e393",
   "metadata": {},
   "outputs": [],
   "source": [
    "# 그래프 그리기\n"
   ]
  },
  {
   "cell_type": "markdown",
   "id": "f4c7bb5e",
   "metadata": {},
   "source": [
    "### 연령대 분포도 그리기 -> plotly 라이브러리 사용"
   ]
  },
  {
   "cell_type": "code",
   "execution_count": null,
   "id": "c3c9f7fb",
   "metadata": {},
   "outputs": [],
   "source": [
    "import plotly.figure_factory as ff"
   ]
  },
  {
   "cell_type": "code",
   "execution_count": null,
   "id": "fed151b6",
   "metadata": {},
   "outputs": [],
   "source": [
    "# 그래프 그리기\n"
   ]
  },
  {
   "cell_type": "markdown",
   "id": "be73e5bd",
   "metadata": {},
   "source": [
    "# ------------------------------------------------------------------------------------------------------------"
   ]
  },
  {
   "cell_type": "markdown",
   "id": "c4c8b6cc",
   "metadata": {},
   "source": [
    "# 히트맵 그리기 -> 변수 선택"
   ]
  },
  {
   "cell_type": "code",
   "execution_count": null,
   "id": "28a35743",
   "metadata": {},
   "outputs": [],
   "source": [
    "# 인구통계학 데이터\n",
    "\n",
    "demo_data = dropout_remove[[\"Marital status\", \"Nationality\", \"Displaced\", \"Gender\", \"Age at enrollment\", \"International\", \"Target\"]]\n",
    "\n",
    "# 사회-경제 데이터\n",
    "se_data = dropout_remove[[\"Mother's qualification\", \"Father's qualification\", \"Mother's occupation\", \"Father's occupation\", \"Educational special needs\", \"Debtor\", \"Tuition fees up to date\", \"Scholarship holder\", \"Target\"]]\n",
    "\n",
    "# 미시경제 데이터\n",
    "me_data = dropout_remove[['Unemployment rate', 'Inflation rate', 'GDP', 'Application mode', 'Application order', 'Course', 'Daytime/evening attendance', 'Previous qualification', 'Target']]\n",
    "\n",
    "# 학업 데이터\n",
    "academic_data = dropout_remove[['Curricular units 1st sem (credited)',\n",
    "       'Curricular units 1st sem (enrolled)',\n",
    "       'Curricular units 1st sem (evaluations)',\n",
    "       'Curricular units 1st sem (approved)',\n",
    "       'Curricular units 1st sem (grade)',\n",
    "       'Curricular units 1st sem (without evaluations)',\n",
    "       'Curricular units 2nd sem (credited)',\n",
    "       'Curricular units 2nd sem (enrolled)',\n",
    "       'Curricular units 2nd sem (evaluations)',\n",
    "       'Curricular units 2nd sem (approved)',\n",
    "       'Curricular units 2nd sem (grade)',\n",
    "       'Curricular units 2nd sem (without evaluations)', 'Target']]"
   ]
  },
  {
   "cell_type": "markdown",
   "id": "40ca2bc4",
   "metadata": {},
   "source": [
    "### 인구통계학 데이터 히트맵"
   ]
  },
  {
   "cell_type": "code",
   "execution_count": null,
   "id": "2d4753b3",
   "metadata": {},
   "outputs": [],
   "source": [
    "# 그래프 그리기\n"
   ]
  },
  {
   "cell_type": "markdown",
   "id": "76019f16",
   "metadata": {},
   "source": [
    "### 사회-경제 데이터 히트맵"
   ]
  },
  {
   "cell_type": "code",
   "execution_count": null,
   "id": "fd60488d",
   "metadata": {},
   "outputs": [],
   "source": [
    "# 그래프 그리기\n"
   ]
  },
  {
   "cell_type": "markdown",
   "id": "9c48e8a9",
   "metadata": {},
   "source": [
    "### 미시경제 데이터 히트맵"
   ]
  },
  {
   "cell_type": "code",
   "execution_count": null,
   "id": "d9ced300",
   "metadata": {},
   "outputs": [],
   "source": [
    "# 그래프 그리기\n"
   ]
  },
  {
   "cell_type": "markdown",
   "id": "42037858",
   "metadata": {},
   "source": [
    "### 학업 데이터 히트맵"
   ]
  },
  {
   "cell_type": "code",
   "execution_count": null,
   "id": "1e466472",
   "metadata": {},
   "outputs": [],
   "source": [
    "# 그래프 그리기\n"
   ]
  },
  {
   "cell_type": "markdown",
   "id": "bcc45d72",
   "metadata": {},
   "source": [
    "# 변수 선택\n",
    "\n",
    "- 중복성 제거와 과적합 방지를 위해 유사한 상관계수를 가진 변수들 제거"
   ]
  },
  {
   "cell_type": "code",
   "execution_count": null,
   "id": "8e75ba16",
   "metadata": {},
   "outputs": [],
   "source": [
    "# 삭제 필요한 컬럼 리스트\n"
   ]
  },
  {
   "cell_type": "markdown",
   "id": "21a9b0cd",
   "metadata": {},
   "source": [
    "# -------------------------------------------------------------------------------------------------------------"
   ]
  },
  {
   "cell_type": "markdown",
   "id": "5b3ecd77",
   "metadata": {},
   "source": [
    "# 데이터 처리\n",
    "\n",
    "1. 컬럼별 타입 확인\n",
    "- 문자형, 수치형 확인\n",
    "\n",
    "2. 컬럼별 결측치 확인\n",
    "- 컬럼별 결측치 비율 확인 후 제거 판별\n",
    "\n",
    "3. 결측치 대체 방법 확인\n",
    "- 문자형(빈도) / 수치형(평균, 최대/최소값, 최빈값 등)\n",
    "\n",
    "4. 결측치 대치 후 최종 확인\n",
    "- 결측치 유무 확인\n",
    "\n",
    "5. 변수 선택\n",
    "- 상관분석 등 기타 분석을 통해 변수 선택 및 제거 진행\n",
    "\n",
    "6. 최종 데이터 확인\n",
    "- 모델 학습 및 테스트를 위한 최종 데이터 확인"
   ]
  },
  {
   "cell_type": "markdown",
   "id": "e18dfaad",
   "metadata": {},
   "source": [
    "# -------------------------------------------------------------------------------------------------------------"
   ]
  },
  {
   "cell_type": "markdown",
   "id": "c5151b30",
   "metadata": {},
   "source": [
    "# Modeling"
   ]
  },
  {
   "cell_type": "markdown",
   "id": "4339a5be",
   "metadata": {},
   "source": [
    "### Label Encoding -> Categorical variable"
   ]
  },
  {
   "cell_type": "code",
   "execution_count": null,
   "id": "ca2b0bbb",
   "metadata": {},
   "outputs": [],
   "source": [
    "from sklearn.preprocessing import LabelEncoder\n",
    "from sklearn.tree import DecisionTreeClassifier\n",
    "from sklearn.model_selection import train_test_split\n",
    "\n",
    "from sklearn import preprocessing\n",
    "\n",
    "from sklearn.metrics import accuracy_score, precision_score, recall_score, f1_score, roc_auc_score, roc_curve, auc, classification_report\n",
    "\n",
    "import copy"
   ]
  },
  {
   "cell_type": "markdown",
   "id": "a9154318",
   "metadata": {},
   "source": [
    "### 범주형 변수 - Label Encoding"
   ]
  },
  {
   "cell_type": "code",
   "execution_count": null,
   "id": "d302de05",
   "metadata": {},
   "outputs": [],
   "source": []
  },
  {
   "cell_type": "markdown",
   "id": "6bff98cf",
   "metadata": {},
   "source": [
    "### target variable & input variable 나누기"
   ]
  },
  {
   "cell_type": "code",
   "execution_count": null,
   "id": "8fb4c2b3",
   "metadata": {},
   "outputs": [],
   "source": []
  },
  {
   "cell_type": "markdown",
   "id": "b821388e",
   "metadata": {},
   "source": [
    "### Feature Scaling"
   ]
  },
  {
   "cell_type": "code",
   "execution_count": null,
   "id": "35c82e78",
   "metadata": {},
   "outputs": [],
   "source": []
  },
  {
   "cell_type": "markdown",
   "id": "46875572",
   "metadata": {},
   "source": [
    "### Split train / test dataset"
   ]
  },
  {
   "cell_type": "code",
   "execution_count": null,
   "id": "bf629fc6",
   "metadata": {},
   "outputs": [],
   "source": []
  },
  {
   "cell_type": "markdown",
   "id": "efa58541",
   "metadata": {},
   "source": [
    "### Build Model"
   ]
  },
  {
   "cell_type": "code",
   "execution_count": null,
   "id": "af0d87e1",
   "metadata": {},
   "outputs": [],
   "source": [
    "# 모델 불러오기, 정의\n",
    "\n",
    "\n",
    "# 학습 데이터로 모델(Decision Tree) 학습\n",
    "\n",
    "\n",
    "# 학습된 모델로 test 결과값 출력\n"
   ]
  },
  {
   "cell_type": "markdown",
   "id": "abc10ffa",
   "metadata": {},
   "source": [
    "### 예측 결과 확인 (모델 성능 평가)"
   ]
  },
  {
   "cell_type": "markdown",
   "id": "6debce55",
   "metadata": {},
   "source": [
    "### * average 옵션\n",
    "\n",
    "1. micro : 전체 평균\n",
    "2. macro : 라벨 별 각 합의 평균\n",
    "3. None : 각 라벨별 평균"
   ]
  },
  {
   "cell_type": "markdown",
   "id": "c274a4cc",
   "metadata": {},
   "source": [
    "### Accuracy, Precision, Recall 계산"
   ]
  },
  {
   "cell_type": "code",
   "execution_count": null,
   "id": "5eeea95a",
   "metadata": {},
   "outputs": [],
   "source": []
  },
  {
   "cell_type": "markdown",
   "id": "1c8249d1",
   "metadata": {},
   "source": [
    "### Roc 커브 그리기"
   ]
  },
  {
   "cell_type": "code",
   "execution_count": null,
   "id": "9f12e4e5",
   "metadata": {},
   "outputs": [],
   "source": []
  }
 ],
 "metadata": {
  "kernelspec": {
   "display_name": "Python 3",
   "language": "python",
   "name": "python3"
  },
  "language_info": {
   "codemirror_mode": {
    "name": "ipython",
    "version": 3
   },
   "file_extension": ".py",
   "mimetype": "text/x-python",
   "name": "python",
   "nbconvert_exporter": "python",
   "pygments_lexer": "ipython3",
   "version": "3.11.3"
  }
 },
 "nbformat": 4,
 "nbformat_minor": 5
}
