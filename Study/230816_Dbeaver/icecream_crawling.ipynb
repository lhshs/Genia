{
 "cells": [
  {
   "cell_type": "code",
   "execution_count": 2,
   "id": "ab5d834e",
   "metadata": {},
   "outputs": [],
   "source": [
    "# 패키지 불러오기\n",
    "from selenium import webdriver\n",
    "import pandas as pd\n",
    "import time\n",
    "from selenium.webdriver.common.by import By"
   ]
  },
  {
   "cell_type": "code",
   "execution_count": 3,
   "id": "f3df192b",
   "metadata": {},
   "outputs": [],
   "source": [
    "driver = webdriver.Edge()\n",
    "\n",
    "# 검색어 입력 및 검색\n",
    "review_search_url = \"https://teacher.i-scream.co.kr/help/afterword/list.do?sso=ok\"\n",
    "\n",
    "driver.get(review_search_url)"
   ]
  },
  {
   "cell_type": "code",
   "execution_count": 19,
   "id": "ab9aa087",
   "metadata": {},
   "outputs": [],
   "source": [
    "list1 = []\n",
    "\n",
    "while 1:\n",
    "    try:\n",
    "        for j in range(3, 13): # 한 페이지 넘어갈 때 10개씩 있음(1번은 이전10페이지로)\n",
    "            driver.find_element(by='xpath',value = f'//*[@id=\"content\"]/div[3]/table/tbody/tr[1]/td[3]/a').click() # 연수후기 페이지 클릭\n",
    "\n",
    "            name = driver.find_element(by='xpath',value = f'//*[@id=\"bbs_wrap\"]/div/dl[2]/dd/a').text # 연수명\n",
    "            title = driver.find_element(by='xpath',value = f'//*[@id=\"bbs_wrap\"]/div/dl[1]/dd').text # 연수후기 제목\n",
    "            el_rated = driver.find_element(by='xpath',value = f'//*[@id=\"bbs_wrap\"]/div/dl[3]/dd[1]/span/span')\n",
    "            rated = el_rated.get_attribute('class')  # 별점\n",
    "            review = driver.find_element(by='xpath',value = f'//*[@id=\"bbs_wrap\"]/div/div[1]').text # 내용\n",
    "            classified = driver.find_element(by='xpath',value = f'//*[@id=\"bbs_wrap\"]/div/dl[3]/dd[2]').text  # 분류\n",
    "            date = driver.find_element(by='xpath',value = f'//*[@id=\"bbs_wrap\"]/div/dl[4]/dd[2]').text  # 날짜\n",
    "\n",
    "            list1.append([name, title, rated, review, classified, date])\n",
    "            time.sleep(0.1)\n",
    "            driver.find_element(by='xpath',value = f'//*[@id=\"btn-list\"]').click() # 목록으로 돌아가기\n",
    "            time.sleep(0.2)\n",
    "            driver.find_element(by='xpath',value = f'//*[@id=\"paging\"]/ul/li[{j}]/a').click() # 페이지 넘기기\n",
    "        \n",
    "    except:\n",
    "        break\n",
    "\n",
    "df = pd.DataFrame(list1)\n",
    "df = df.rename(columns = {0: 'class', 1: 'title', 2: 'rated', 3: 'comment', 4: 'classified', 5: 'date'})"
   ]
  },
  {
   "cell_type": "code",
   "execution_count": 20,
   "id": "91f5cc4a",
   "metadata": {},
   "outputs": [],
   "source": []
  },
  {
   "cell_type": "code",
   "execution_count": 4,
   "id": "987eeb69",
   "metadata": {},
   "outputs": [],
   "source": [
    "driver.quit()"
   ]
  }
 ],
 "metadata": {
  "kernelspec": {
   "display_name": "Python 3 (ipykernel)",
   "language": "python",
   "name": "python3"
  },
  "language_info": {
   "codemirror_mode": {
    "name": "ipython",
    "version": 3
   },
   "file_extension": ".py",
   "mimetype": "text/x-python",
   "name": "python",
   "nbconvert_exporter": "python",
   "pygments_lexer": "ipython3",
   "version": "3.11.3"
  }
 },
 "nbformat": 4,
 "nbformat_minor": 5
}
