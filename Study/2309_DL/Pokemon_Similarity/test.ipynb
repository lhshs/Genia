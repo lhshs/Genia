{
 "cells": [
  {
   "cell_type": "markdown",
   "metadata": {},
   "source": [
    "model"
   ]
  },
  {
   "cell_type": "code",
   "execution_count": 1,
   "metadata": {},
   "outputs": [],
   "source": [
    "from tensorflow.keras.applications import VGG16\n",
    "from tensorflow.keras.models import Model\n",
    "\n",
    "# Load pre-trained VGG16 model\n",
    "base_model = VGG16(weights='imagenet')\n",
    "model = Model(inputs=base_model.input, outputs=base_model.get_layer('fc2').output)"
   ]
  },
  {
   "cell_type": "markdown",
   "metadata": {},
   "source": [
    "data locate"
   ]
  },
  {
   "cell_type": "code",
   "execution_count": 14,
   "metadata": {},
   "outputs": [],
   "source": [
    "import os\n",
    "\n",
    "root_dir = \"./data/images/\"\n",
    "files =  os.path.join(root_dir)\n",
    "File_names = os.listdir(files)\n",
    "\n",
    "image_paths = []\n",
    "images = []\n",
    "for i in File_names:\n",
    "    image_paths.append(root_dir + i)\n",
    "    images.append(root_dir + i) # 최종 이미지 출력용 list"
   ]
  },
  {
   "cell_type": "markdown",
   "metadata": {},
   "source": [
    "extract_features"
   ]
  },
  {
   "cell_type": "code",
   "execution_count": 3,
   "metadata": {},
   "outputs": [],
   "source": [
    "from tensorflow.keras.preprocessing import image\n",
    "from tensorflow.keras.applications.vgg16 import preprocess_input\n",
    "import numpy as np\n",
    "\n",
    "def extract_features(image_path, model):\n",
    "    '''\n",
    "    Input\n",
    "        1) image_path\n",
    "        2) model\n",
    "    Result\n",
    "        image_path에 있는 image 파일을 vgg16 모형에 맞게 변환\n",
    "    '''\n",
    "    img = image.load_img(image_path, target_size=(224, 224))\n",
    "    img = image.img_to_array(img)\n",
    "    img = np.expand_dims(img, axis=0)\n",
    "    img = preprocess_input(img)\n",
    "    features = model.predict(img, verbose=-1)\n",
    "    return features"
   ]
  },
  {
   "cell_type": "code",
   "execution_count": 29,
   "metadata": {},
   "outputs": [
    {
     "data": {
      "image/png": "[encoded data removed]",
      "text/plain": [
       "<PIL.Image.Image image mode=RGB size=120x120>"
      ]
     },
     "metadata": {},
     "output_type": "display_data"
    }
   ],
   "source": [
    "display((image_path))"
   ]
  },
  {
   "cell_type": "code",
   "execution_count": 4,
   "metadata": {},
   "outputs": [
    {
     "name": "stdout",
     "output_type": "stream",
     "text": [
      "<<<  Start Extract Image Feature  >>>\n"
     ]
    },
    {
     "name": "stderr",
     "output_type": "stream",
     "text": [
      "c:\\Users\\hslio\\.conda\\envs\\lhs\\Lib\\site-packages\\PIL\\Image.py:996: UserWarning: Palette images with Transparency expressed in bytes should be converted to RGBA images\n",
      "  warnings.warn(\n"
     ]
    },
    {
     "name": "stdout",
     "output_type": "stream",
     "text": [
      "Extract 5 / 809 ..ing\n",
      "Extract 10 / 809 ..ing\n",
      "Extract 15 / 809 ..ing\n",
      "Extract 20 / 809 ..ing\n",
      "Extract 25 / 809 ..ing\n",
      "Extract 30 / 809 ..ing\n",
      "Extract 35 / 809 ..ing\n",
      "Extract 40 / 809 ..ing\n",
      "Extract 45 / 809 ..ing\n",
      "Extract 50 / 809 ..ing\n",
      "Extract 55 / 809 ..ing\n",
      "Extract 60 / 809 ..ing\n",
      "Extract 65 / 809 ..ing\n",
      "Extract 70 / 809 ..ing\n",
      "Extract 75 / 809 ..ing\n",
      "Extract 80 / 809 ..ing\n",
      "Extract 85 / 809 ..ing\n",
      "Extract 90 / 809 ..ing\n",
      "Extract 95 / 809 ..ing\n",
      "Extract 100 / 809 ..ing\n",
      "Extract 105 / 809 ..ing\n",
      "Extract 110 / 809 ..ing\n",
      "Extract 115 / 809 ..ing\n",
      "Extract 120 / 809 ..ing\n",
      "Extract 125 / 809 ..ing\n",
      "Extract 130 / 809 ..ing\n",
      "Extract 135 / 809 ..ing\n",
      "Extract 140 / 809 ..ing\n",
      "Extract 145 / 809 ..ing\n",
      "Extract 150 / 809 ..ing\n",
      "Extract 155 / 809 ..ing\n",
      "Extract 160 / 809 ..ing\n",
      "Extract 165 / 809 ..ing\n",
      "Extract 170 / 809 ..ing\n",
      "Extract 175 / 809 ..ing\n",
      "Extract 180 / 809 ..ing\n",
      "Extract 185 / 809 ..ing\n",
      "Extract 190 / 809 ..ing\n",
      "Extract 195 / 809 ..ing\n",
      "Extract 200 / 809 ..ing\n",
      "Extract 205 / 809 ..ing\n",
      "Extract 210 / 809 ..ing\n",
      "Extract 215 / 809 ..ing\n",
      "Extract 220 / 809 ..ing\n",
      "Extract 225 / 809 ..ing\n",
      "Extract 230 / 809 ..ing\n",
      "Extract 235 / 809 ..ing\n",
      "Extract 240 / 809 ..ing\n",
      "Extract 245 / 809 ..ing\n",
      "Extract 250 / 809 ..ing\n",
      "Extract 255 / 809 ..ing\n",
      "Extract 260 / 809 ..ing\n",
      "Extract 265 / 809 ..ing\n",
      "Extract 270 / 809 ..ing\n",
      "Extract 275 / 809 ..ing\n",
      "Extract 280 / 809 ..ing\n",
      "Extract 285 / 809 ..ing\n",
      "Extract 290 / 809 ..ing\n",
      "Extract 295 / 809 ..ing\n",
      "Extract 300 / 809 ..ing\n",
      "Extract 305 / 809 ..ing\n",
      "Extract 310 / 809 ..ing\n",
      "Extract 315 / 809 ..ing\n",
      "Extract 320 / 809 ..ing\n",
      "Extract 325 / 809 ..ing\n",
      "Extract 330 / 809 ..ing\n",
      "Extract 335 / 809 ..ing\n",
      "Extract 340 / 809 ..ing\n",
      "Extract 345 / 809 ..ing\n",
      "Extract 350 / 809 ..ing\n",
      "Extract 355 / 809 ..ing\n",
      "Extract 360 / 809 ..ing\n",
      "Extract 365 / 809 ..ing\n",
      "Extract 370 / 809 ..ing\n",
      "Extract 375 / 809 ..ing\n",
      "Extract 380 / 809 ..ing\n",
      "Extract 385 / 809 ..ing\n",
      "Extract 390 / 809 ..ing\n",
      "Extract 395 / 809 ..ing\n",
      "Extract 400 / 809 ..ing\n",
      "Extract 405 / 809 ..ing\n",
      "Extract 410 / 809 ..ing\n",
      "Extract 415 / 809 ..ing\n",
      "Extract 420 / 809 ..ing\n",
      "Extract 425 / 809 ..ing\n",
      "Extract 430 / 809 ..ing\n",
      "Extract 435 / 809 ..ing\n",
      "Extract 440 / 809 ..ing\n",
      "Extract 445 / 809 ..ing\n",
      "Extract 450 / 809 ..ing\n",
      "Extract 455 / 809 ..ing\n",
      "Extract 460 / 809 ..ing\n",
      "Extract 465 / 809 ..ing\n",
      "Extract 470 / 809 ..ing\n",
      "Extract 475 / 809 ..ing\n",
      "Extract 480 / 809 ..ing\n",
      "Extract 485 / 809 ..ing\n",
      "Extract 490 / 809 ..ing\n",
      "Extract 495 / 809 ..ing\n",
      "Extract 500 / 809 ..ing\n",
      "Extract 505 / 809 ..ing\n",
      "Extract 510 / 809 ..ing\n",
      "Extract 515 / 809 ..ing\n",
      "Extract 520 / 809 ..ing\n",
      "Extract 525 / 809 ..ing\n",
      "Extract 530 / 809 ..ing\n",
      "Extract 535 / 809 ..ing\n",
      "Extract 540 / 809 ..ing\n",
      "Extract 545 / 809 ..ing\n",
      "Extract 550 / 809 ..ing\n",
      "Extract 555 / 809 ..ing\n",
      "Extract 560 / 809 ..ing\n",
      "Extract 565 / 809 ..ing\n",
      "Extract 570 / 809 ..ing\n",
      "Extract 575 / 809 ..ing\n",
      "Extract 580 / 809 ..ing\n",
      "Extract 585 / 809 ..ing\n",
      "Extract 590 / 809 ..ing\n",
      "Extract 595 / 809 ..ing\n",
      "Extract 600 / 809 ..ing\n",
      "Extract 605 / 809 ..ing\n",
      "Extract 610 / 809 ..ing\n",
      "Extract 615 / 809 ..ing\n",
      "Extract 620 / 809 ..ing\n",
      "Extract 625 / 809 ..ing\n",
      "Extract 630 / 809 ..ing\n",
      "Extract 635 / 809 ..ing\n",
      "Extract 640 / 809 ..ing\n",
      "Extract 645 / 809 ..ing\n",
      "Extract 650 / 809 ..ing\n",
      "Extract 655 / 809 ..ing\n",
      "Extract 660 / 809 ..ing\n",
      "Extract 665 / 809 ..ing\n",
      "Extract 670 / 809 ..ing\n",
      "Extract 675 / 809 ..ing\n",
      "Extract 680 / 809 ..ing\n",
      "Extract 685 / 809 ..ing\n",
      "Extract 690 / 809 ..ing\n",
      "Extract 695 / 809 ..ing\n",
      "Extract 700 / 809 ..ing\n",
      "Extract 705 / 809 ..ing\n",
      "Extract 710 / 809 ..ing\n",
      "Extract 715 / 809 ..ing\n",
      "Extract 720 / 809 ..ing\n",
      "Extract 725 / 809 ..ing\n",
      "Extract 730 / 809 ..ing\n",
      "Extract 735 / 809 ..ing\n",
      "Extract 740 / 809 ..ing\n",
      "Extract 745 / 809 ..ing\n",
      "Extract 750 / 809 ..ing\n",
      "Extract 755 / 809 ..ing\n",
      "Extract 760 / 809 ..ing\n",
      "Extract 765 / 809 ..ing\n",
      "Extract 770 / 809 ..ing\n",
      "Extract 775 / 809 ..ing\n",
      "Extract 780 / 809 ..ing\n",
      "Extract 785 / 809 ..ing\n",
      "Extract 790 / 809 ..ing\n",
      "Extract 795 / 809 ..ing\n",
      "Extract 800 / 809 ..ing\n",
      "Extract 805 / 809 ..ing\n",
      "🥕 FINISH 🥕\n"
     ]
    }
   ],
   "source": [
    "image_features = {}\n",
    "print('<<<  Start Extract Image Feature  >>>')\n",
    "for _idx, image_path in enumerate(image_paths):\n",
    "    features = extract_features(image_path, model)\n",
    "    image_features[image_path] = features\n",
    "    if (_idx+1) % 5 == 0:\n",
    "        print(f'Extract {_idx+1} / {len(image_paths)} ..ing')\n",
    "print('🥕 FINISH 🥕')"
   ]
  },
  {
   "cell_type": "markdown",
   "metadata": {},
   "source": [
    "Cosine_Similarity"
   ]
  },
  {
   "cell_type": "code",
   "execution_count": 58,
   "metadata": {},
   "outputs": [
    {
     "name": "stdout",
     "output_type": "stream",
     "text": [
      "Similarity between\u001b[91m slakoth \u001b[0mand\u001b[94m slaking \u001b[0m: 63.11%\n"
     ]
    },
    {
     "data": {
      "image/png": "[encoded data removed]",
      "text/plain": [
       "<Figure size 500x500 with 2 Axes>"
      ]
     },
     "metadata": {},
     "output_type": "display_data"
    }
   ],
   "source": [
    "from sklearn.metrics.pairwise import cosine_similarity\n",
    "from PIL import Image\n",
    "import matplotlib.pyplot as plt\n",
    "import warnings\n",
    "warnings.filterwarnings('ignore')\n",
    "\n",
    "# input\n",
    "# a = 'slaking'\n",
    "# b = 'slakoth'\n",
    "a = str(input())\n",
    "b = str(input())\n",
    "# confirm\n",
    "confirm_name = [x.split('/')[-1][:-4] for x in list(image_features.keys())]\n",
    "\n",
    "if (a in confirm_name) and (b in confirm_name):\n",
    "    a_index = confirm_name.index(a)\n",
    "    b_index = confirm_name.index(b)\n",
    "    image1_features = list(image_features.values())[a_index]\n",
    "    image2_features = list(image_features.values())[b_index]\n",
    "    similarity = cosine_similarity(image1_features, image2_features)[0][0]\n",
    "    similarity = str(round((similarity * 100), 2)) + '%'\n",
    "    print(f\"Similarity between\\33[91m {a} \\033[0mand\\33[94m {b} \\033[0m: {similarity}\")\n",
    "    # show image\n",
    "    plt.figure(figsize=(5,5))\n",
    "    plt.subplot(121)\n",
    "    plt.imshow(image.load_img(images[a_index]))\n",
    "    plt.yticks([])\n",
    "    plt.xticks([])\n",
    "    plt.subplot(122)\n",
    "    plt.imshow(image.load_img(images[b_index]))\n",
    "    plt.yticks([])\n",
    "    plt.xticks([])\n",
    "else:\n",
    "    print(' ❗목록에 없는 포켓몬 입니다❗')\n",
    "    print('🎈포켓몬의 이름만 입력해주세요🎈')"
   ]
  },
  {
   "cell_type": "code",
   "execution_count": null,
   "metadata": {},
   "outputs": [],
   "source": []
  },
  {
   "cell_type": "code",
   "execution_count": null,
   "metadata": {},
   "outputs": [],
   "source": []
  }
 ],
 "metadata": {
  "kernelspec": {
   "display_name": "lhs",
   "language": "python",
   "name": "python3"
  },
  "language_info": {
   "codemirror_mode": {
    "name": "ipython",
    "version": 3
   },
   "file_extension": ".py",
   "mimetype": "text/x-python",
   "name": "python",
   "nbconvert_exporter": "python",
   "pygments_lexer": "ipython3",
   "version": "3.11.3"
  },
  "orig_nbformat": 4
 },
 "nbformat": 4,
 "nbformat_minor": 2
}
