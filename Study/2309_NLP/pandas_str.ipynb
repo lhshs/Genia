{
 "cells": [
  {
   "cell_type": "code",
   "execution_count": 4,
   "metadata": {},
   "outputs": [],
   "source": [
    "import pandas as pd"
   ]
  },
  {
   "cell_type": "code",
   "execution_count": 9,
   "metadata": {},
   "outputs": [
    {
     "name": "stderr",
     "output_type": "stream",
     "text": [
      "C:\\Users\\hslio\\AppData\\Local\\Temp\\ipykernel_4616\\3385243617.py:1: DtypeWarning: Columns (5,6,18) have mixed types. Specify dtype option on import or set low_memory=False.\n",
      "  df = pd.read_csv('./data/경기도.txt', sep='|')\n"
     ]
    },
    {
     "data": {
      "text/html": [
       "<div>\n",
       "<style scoped>\n",
       "    .dataframe tbody tr th:only-of-type {\n",
       "        vertical-align: middle;\n",
       "    }\n",
       "\n",
       "    .dataframe tbody tr th {\n",
       "        vertical-align: top;\n",
       "    }\n",
       "\n",
       "    .dataframe thead th {\n",
       "        text-align: right;\n",
       "    }\n",
       "</style>\n",
       "<table border=\"1\" class=\"dataframe\">\n",
       "  <thead>\n",
       "    <tr style=\"text-align: right;\">\n",
       "      <th></th>\n",
       "      <th>우편번호</th>\n",
       "      <th>시도</th>\n",
       "      <th>시도영문</th>\n",
       "      <th>시군구</th>\n",
       "      <th>시군구영문</th>\n",
       "      <th>읍면</th>\n",
       "      <th>읍면영문</th>\n",
       "      <th>도로명코드</th>\n",
       "      <th>도로명</th>\n",
       "      <th>도로명영문</th>\n",
       "      <th>...</th>\n",
       "      <th>법정동코드</th>\n",
       "      <th>법정동명</th>\n",
       "      <th>리명</th>\n",
       "      <th>행정동명</th>\n",
       "      <th>산여부</th>\n",
       "      <th>지번본번</th>\n",
       "      <th>읍면동일련번호</th>\n",
       "      <th>지번부번</th>\n",
       "      <th>구우편번호</th>\n",
       "      <th>우편번호일련번호</th>\n",
       "    </tr>\n",
       "  </thead>\n",
       "  <tbody>\n",
       "    <tr>\n",
       "      <th>0</th>\n",
       "      <td>12410</td>\n",
       "      <td>경기도</td>\n",
       "      <td>Gyeonggi-do</td>\n",
       "      <td>가평군</td>\n",
       "      <td>Gapyeong-gun</td>\n",
       "      <td>가평읍</td>\n",
       "      <td>Gapyeong-eup</td>\n",
       "      <td>418204448035</td>\n",
       "      <td>능모루길</td>\n",
       "      <td>Neungmoru-gil</td>\n",
       "      <td>...</td>\n",
       "      <td>4182025030</td>\n",
       "      <td>NaN</td>\n",
       "      <td>개곡리</td>\n",
       "      <td>가평읍</td>\n",
       "      <td>0</td>\n",
       "      <td>1111</td>\n",
       "      <td>1</td>\n",
       "      <td>8</td>\n",
       "      <td>NaN</td>\n",
       "      <td>NaN</td>\n",
       "    </tr>\n",
       "    <tr>\n",
       "      <th>1</th>\n",
       "      <td>12410</td>\n",
       "      <td>경기도</td>\n",
       "      <td>Gyeonggi-do</td>\n",
       "      <td>가평군</td>\n",
       "      <td>Gapyeong-gun</td>\n",
       "      <td>가평읍</td>\n",
       "      <td>Gapyeong-eup</td>\n",
       "      <td>418204448042</td>\n",
       "      <td>당목가일길</td>\n",
       "      <td>Dangmokgail-gil</td>\n",
       "      <td>...</td>\n",
       "      <td>4182025030</td>\n",
       "      <td>NaN</td>\n",
       "      <td>개곡리</td>\n",
       "      <td>가평읍</td>\n",
       "      <td>0</td>\n",
       "      <td>604</td>\n",
       "      <td>1</td>\n",
       "      <td>5</td>\n",
       "      <td>NaN</td>\n",
       "      <td>NaN</td>\n",
       "    </tr>\n",
       "    <tr>\n",
       "      <th>2</th>\n",
       "      <td>12410</td>\n",
       "      <td>경기도</td>\n",
       "      <td>Gyeonggi-do</td>\n",
       "      <td>가평군</td>\n",
       "      <td>Gapyeong-gun</td>\n",
       "      <td>가평읍</td>\n",
       "      <td>Gapyeong-eup</td>\n",
       "      <td>418204448042</td>\n",
       "      <td>당목가일길</td>\n",
       "      <td>Dangmokgail-gil</td>\n",
       "      <td>...</td>\n",
       "      <td>4182025030</td>\n",
       "      <td>NaN</td>\n",
       "      <td>개곡리</td>\n",
       "      <td>가평읍</td>\n",
       "      <td>0</td>\n",
       "      <td>380</td>\n",
       "      <td>1</td>\n",
       "      <td>6</td>\n",
       "      <td>NaN</td>\n",
       "      <td>NaN</td>\n",
       "    </tr>\n",
       "    <tr>\n",
       "      <th>3</th>\n",
       "      <td>12410</td>\n",
       "      <td>경기도</td>\n",
       "      <td>Gyeonggi-do</td>\n",
       "      <td>가평군</td>\n",
       "      <td>Gapyeong-gun</td>\n",
       "      <td>가평읍</td>\n",
       "      <td>Gapyeong-eup</td>\n",
       "      <td>418204448042</td>\n",
       "      <td>당목가일길</td>\n",
       "      <td>Dangmokgail-gil</td>\n",
       "      <td>...</td>\n",
       "      <td>4182025030</td>\n",
       "      <td>NaN</td>\n",
       "      <td>개곡리</td>\n",
       "      <td>가평읍</td>\n",
       "      <td>0</td>\n",
       "      <td>836</td>\n",
       "      <td>1</td>\n",
       "      <td>3</td>\n",
       "      <td>NaN</td>\n",
       "      <td>NaN</td>\n",
       "    </tr>\n",
       "    <tr>\n",
       "      <th>4</th>\n",
       "      <td>12410</td>\n",
       "      <td>경기도</td>\n",
       "      <td>Gyeonggi-do</td>\n",
       "      <td>가평군</td>\n",
       "      <td>Gapyeong-gun</td>\n",
       "      <td>가평읍</td>\n",
       "      <td>Gapyeong-eup</td>\n",
       "      <td>418204448042</td>\n",
       "      <td>당목가일길</td>\n",
       "      <td>Dangmokgail-gil</td>\n",
       "      <td>...</td>\n",
       "      <td>4182025030</td>\n",
       "      <td>NaN</td>\n",
       "      <td>개곡리</td>\n",
       "      <td>가평읍</td>\n",
       "      <td>0</td>\n",
       "      <td>186</td>\n",
       "      <td>1</td>\n",
       "      <td>0</td>\n",
       "      <td>NaN</td>\n",
       "      <td>NaN</td>\n",
       "    </tr>\n",
       "  </tbody>\n",
       "</table>\n",
       "<p>5 rows × 26 columns</p>\n",
       "</div>"
      ],
      "text/plain": [
       "    우편번호   시도         시도영문  시군구         시군구영문   읍면          읍면영문  \\\n",
       "0  12410  경기도  Gyeonggi-do  가평군  Gapyeong-gun  가평읍  Gapyeong-eup   \n",
       "1  12410  경기도  Gyeonggi-do  가평군  Gapyeong-gun  가평읍  Gapyeong-eup   \n",
       "2  12410  경기도  Gyeonggi-do  가평군  Gapyeong-gun  가평읍  Gapyeong-eup   \n",
       "3  12410  경기도  Gyeonggi-do  가평군  Gapyeong-gun  가평읍  Gapyeong-eup   \n",
       "4  12410  경기도  Gyeonggi-do  가평군  Gapyeong-gun  가평읍  Gapyeong-eup   \n",
       "\n",
       "          도로명코드    도로명            도로명영문  ...       법정동코드  법정동명   리명 행정동명  산여부  \\\n",
       "0  418204448035   능모루길    Neungmoru-gil  ...  4182025030   NaN  개곡리  가평읍    0   \n",
       "1  418204448042  당목가일길  Dangmokgail-gil  ...  4182025030   NaN  개곡리  가평읍    0   \n",
       "2  418204448042  당목가일길  Dangmokgail-gil  ...  4182025030   NaN  개곡리  가평읍    0   \n",
       "3  418204448042  당목가일길  Dangmokgail-gil  ...  4182025030   NaN  개곡리  가평읍    0   \n",
       "4  418204448042  당목가일길  Dangmokgail-gil  ...  4182025030   NaN  개곡리  가평읍    0   \n",
       "\n",
       "   지번본번  읍면동일련번호 지번부번 구우편번호 우편번호일련번호  \n",
       "0  1111        1    8   NaN      NaN  \n",
       "1   604        1    5   NaN      NaN  \n",
       "2   380        1    6   NaN      NaN  \n",
       "3   836        1    3   NaN      NaN  \n",
       "4   186        1    0   NaN      NaN  \n",
       "\n",
       "[5 rows x 26 columns]"
      ]
     },
     "execution_count": 9,
     "metadata": {},
     "output_type": "execute_result"
    }
   ],
   "source": [
    "df = pd.read_csv('./data/경기도.txt', sep='|')\n",
    "df.head()"
   ]
  },
  {
   "cell_type": "code",
   "execution_count": 10,
   "metadata": {},
   "outputs": [
    {
     "data": {
      "text/plain": [
       "Index(['우편번호', '시도', '시도영문', '시군구', '시군구영문', '읍면', '읍면영문', '도로명코드', '도로명',\n",
       "       '도로명영문', '지하여부', '건물번호본번', '건물번호부번', '건물관리번호', '다량배달처명', '시군구용건물명',\n",
       "       '법정동코드', '법정동명', '리명', '행정동명', '산여부', '지번본번', '읍면동일련번호', '지번부번',\n",
       "       '구우편번호', '우편번호일련번호'],\n",
       "      dtype='object')"
      ]
     },
     "execution_count": 10,
     "metadata": {},
     "output_type": "execute_result"
    }
   ],
   "source": [
    "df.columns"
   ]
  },
  {
   "cell_type": "code",
   "execution_count": 14,
   "metadata": {},
   "outputs": [
    {
     "name": "stdout",
     "output_type": "stream",
     "text": [
      "['경기도']\n",
      "['가평군' '고양시 덕양구' '고양시 일산동구' '고양시 일산서구' '과천시' '광명시' '광주시' '구리시' '군포시' '김포시'\n",
      " '남양주시' '동두천시' '부천시' '성남시 분당구' '성남시 수정구' '성남시 중원구' '수원시 권선구' '수원시 영통구'\n",
      " '수원시 장안구' '수원시 팔달구' '시흥시' '안산시 단원구' '안산시 상록구' '안성시' '안양시 동안구' '안양시 만안구'\n",
      " '양주시' '양평군' '여주시' '연천군' '오산시' '용인시 기흥구' '용인시 수지구' '용인시 처인구' '의왕시' '의정부시'\n",
      " '이천시' '파주시' '평택시' '포천시' '하남시' '화성시']\n"
     ]
    },
    {
     "data": {
      "text/plain": [
       "0          경기도_가평군\n",
       "1          경기도_가평군\n",
       "2          경기도_가평군\n",
       "3          경기도_가평군\n",
       "4          경기도_가평군\n",
       "            ...   \n",
       "1020764    경기도_화성시\n",
       "1020765    경기도_화성시\n",
       "1020766    경기도_화성시\n",
       "1020767    경기도_화성시\n",
       "1020768    경기도_화성시\n",
       "Name: 시도_시군구, Length: 1020769, dtype: object"
      ]
     },
     "execution_count": 14,
     "metadata": {},
     "output_type": "execute_result"
    }
   ],
   "source": [
    "print(df['시도'].unique())\n",
    "print(df['시군구'].unique())\n",
    "\n",
    "df['시도_시군구'] = df['시도'].str.cat(df['시군구'], sep='_')\n",
    "df['시도_시군구']"
   ]
  },
  {
   "cell_type": "markdown",
   "metadata": {},
   "source": [
    "## 네이버 평점 데이터"
   ]
  },
  {
   "cell_type": "code",
   "execution_count": 20,
   "metadata": {},
   "outputs": [
    {
     "data": {
      "text/html": [
       "<div>\n",
       "<style scoped>\n",
       "    .dataframe tbody tr th:only-of-type {\n",
       "        vertical-align: middle;\n",
       "    }\n",
       "\n",
       "    .dataframe tbody tr th {\n",
       "        vertical-align: top;\n",
       "    }\n",
       "\n",
       "    .dataframe thead th {\n",
       "        text-align: right;\n",
       "    }\n",
       "</style>\n",
       "<table border=\"1\" class=\"dataframe\">\n",
       "  <thead>\n",
       "    <tr style=\"text-align: right;\">\n",
       "      <th></th>\n",
       "      <th>id</th>\n",
       "      <th>document</th>\n",
       "      <th>label</th>\n",
       "    </tr>\n",
       "  </thead>\n",
       "  <tbody>\n",
       "    <tr>\n",
       "      <th>0</th>\n",
       "      <td>9976970</td>\n",
       "      <td>아 더빙.. 진짜 짜증나네요 목소리</td>\n",
       "      <td>0</td>\n",
       "    </tr>\n",
       "    <tr>\n",
       "      <th>1</th>\n",
       "      <td>3819312</td>\n",
       "      <td>흠...포스터보고 초딩영화줄....오버연기조차 가볍지 않구나</td>\n",
       "      <td>1</td>\n",
       "    </tr>\n",
       "    <tr>\n",
       "      <th>2</th>\n",
       "      <td>10265843</td>\n",
       "      <td>너무재밓었다그래서보는것을추천한다</td>\n",
       "      <td>0</td>\n",
       "    </tr>\n",
       "    <tr>\n",
       "      <th>3</th>\n",
       "      <td>9045019</td>\n",
       "      <td>교도소 이야기구먼 ..솔직히 재미는 없다..평점 조정</td>\n",
       "      <td>0</td>\n",
       "    </tr>\n",
       "    <tr>\n",
       "      <th>4</th>\n",
       "      <td>6483659</td>\n",
       "      <td>사이몬페그의 익살스런 연기가 돋보였던 영화!스파이더맨에서 늙어보이기만 했던 커스틴 ...</td>\n",
       "      <td>1</td>\n",
       "    </tr>\n",
       "    <tr>\n",
       "      <th>...</th>\n",
       "      <td>...</td>\n",
       "      <td>...</td>\n",
       "      <td>...</td>\n",
       "    </tr>\n",
       "    <tr>\n",
       "      <th>149995</th>\n",
       "      <td>6222902</td>\n",
       "      <td>인간이 문제지.. 소는 뭔죄인가..</td>\n",
       "      <td>0</td>\n",
       "    </tr>\n",
       "    <tr>\n",
       "      <th>149996</th>\n",
       "      <td>8549745</td>\n",
       "      <td>평점이 너무 낮아서...</td>\n",
       "      <td>1</td>\n",
       "    </tr>\n",
       "    <tr>\n",
       "      <th>149997</th>\n",
       "      <td>9311800</td>\n",
       "      <td>이게 뭐요? 한국인은 거들먹거리고 필리핀 혼혈은 착하다?</td>\n",
       "      <td>0</td>\n",
       "    </tr>\n",
       "    <tr>\n",
       "      <th>149998</th>\n",
       "      <td>2376369</td>\n",
       "      <td>청춘 영화의 최고봉.방황과 우울했던 날들의 자화상</td>\n",
       "      <td>1</td>\n",
       "    </tr>\n",
       "    <tr>\n",
       "      <th>149999</th>\n",
       "      <td>9619869</td>\n",
       "      <td>한국 영화 최초로 수간하는 내용이 담긴 영화</td>\n",
       "      <td>0</td>\n",
       "    </tr>\n",
       "  </tbody>\n",
       "</table>\n",
       "<p>150000 rows × 3 columns</p>\n",
       "</div>"
      ],
      "text/plain": [
       "              id                                           document  label\n",
       "0        9976970                                아 더빙.. 진짜 짜증나네요 목소리      0\n",
       "1        3819312                  흠...포스터보고 초딩영화줄....오버연기조차 가볍지 않구나      1\n",
       "2       10265843                                  너무재밓었다그래서보는것을추천한다      0\n",
       "3        9045019                      교도소 이야기구먼 ..솔직히 재미는 없다..평점 조정      0\n",
       "4        6483659  사이몬페그의 익살스런 연기가 돋보였던 영화!스파이더맨에서 늙어보이기만 했던 커스틴 ...      1\n",
       "...          ...                                                ...    ...\n",
       "149995   6222902                                인간이 문제지.. 소는 뭔죄인가..      0\n",
       "149996   8549745                                      평점이 너무 낮아서...      1\n",
       "149997   9311800                    이게 뭐요? 한국인은 거들먹거리고 필리핀 혼혈은 착하다?      0\n",
       "149998   2376369                        청춘 영화의 최고봉.방황과 우울했던 날들의 자화상      1\n",
       "149999   9619869                           한국 영화 최초로 수간하는 내용이 담긴 영화      0\n",
       "\n",
       "[150000 rows x 3 columns]"
      ]
     },
     "execution_count": 20,
     "metadata": {},
     "output_type": "execute_result"
    }
   ],
   "source": [
    "train_data = pd.read_csv(\"https://raw.githubusercontent.com/e9t/nsmc/master/ratings_train.txt\", sep='\\t', encoding='utf-8')\n",
    "train_data"
   ]
  },
  {
   "cell_type": "code",
   "execution_count": 45,
   "metadata": {},
   "outputs": [
    {
     "data": {
      "text/plain": [
       "0         b'\\xec\\x95\\x84 \\xeb\\x8d\\x94\\xeb\\xb9\\x99.. \\xec...\n",
       "1         b'\\xed\\x9d\\xa0...\\xed\\x8f\\xac\\xec\\x8a\\xa4\\xed\\...\n",
       "2         b'\\xeb\\x84\\x88\\xeb\\xac\\xb4\\xec\\x9e\\xac\\xeb\\xb0...\n",
       "3         b'\\xea\\xb5\\x90\\xeb\\x8f\\x84\\xec\\x86\\x8c \\xec\\x9...\n",
       "4         b'\\xec\\x82\\xac\\xec\\x9d\\xb4\\xeb\\xaa\\xac\\xed\\x8e...\n",
       "                                ...                        \n",
       "149995    b'\\xec\\x9d\\xb8\\xea\\xb0\\x84\\xec\\x9d\\xb4 \\xeb\\xa...\n",
       "149996    b'\\xed\\x8f\\x89\\xec\\xa0\\x90\\xec\\x9d\\xb4 \\xeb\\x8...\n",
       "149997    b'\\xec\\x9d\\xb4\\xea\\xb2\\x8c \\xeb\\xad\\x90\\xec\\x9...\n",
       "149998    b'\\xec\\xb2\\xad\\xec\\xb6\\x98 \\xec\\x98\\x81\\xed\\x9...\n",
       "149999    b'\\xed\\x95\\x9c\\xea\\xb5\\xad \\xec\\x98\\x81\\xed\\x9...\n",
       "Name: document, Length: 150000, dtype: object"
      ]
     },
     "execution_count": 45,
     "metadata": {},
     "output_type": "execute_result"
    }
   ],
   "source": [
    "train_data['document'].str.encode(encoding='utf-8')"
   ]
  },
  {
   "cell_type": "code",
   "execution_count": 31,
   "metadata": {},
   "outputs": [
    {
     "data": {
      "text/plain": [
       "0         False\n",
       "1         False\n",
       "2          True\n",
       "3         False\n",
       "4         False\n",
       "          ...  \n",
       "149995    False\n",
       "149996    False\n",
       "149997    False\n",
       "149998    False\n",
       "149999    False\n",
       "Name: document, Length: 150000, dtype: object"
      ]
     },
     "execution_count": 31,
     "metadata": {},
     "output_type": "execute_result"
    }
   ],
   "source": [
    "train_data['document'] = train_data['document'].str.strip()\n",
    "train_data['document'].str.contains('추천')"
   ]
  },
  {
   "cell_type": "code",
   "execution_count": 36,
   "metadata": {},
   "outputs": [
    {
     "data": {
      "text/plain": [
       "0         []\n",
       "1         []\n",
       "2         []\n",
       "3         []\n",
       "4         []\n",
       "          ..\n",
       "149995    []\n",
       "149996    []\n",
       "149997    []\n",
       "149998    []\n",
       "149999    []\n",
       "Name: document, Length: 150000, dtype: object"
      ]
     },
     "execution_count": 36,
     "metadata": {},
     "output_type": "execute_result"
    }
   ],
   "source": [
    "tmp_series = train_data['document'].str.findall('([a-zA-Z]+)')\n",
    "tmp_series"
   ]
  },
  {
   "cell_type": "code",
   "execution_count": 40,
   "metadata": {},
   "outputs": [
    {
     "data": {
      "text/plain": [
       "0         False\n",
       "1         False\n",
       "2         False\n",
       "3         False\n",
       "4         False\n",
       "          ...  \n",
       "149995    False\n",
       "149996    False\n",
       "149997    False\n",
       "149998    False\n",
       "149999    False\n",
       "Name: document, Length: 150000, dtype: bool"
      ]
     },
     "execution_count": 40,
     "metadata": {},
     "output_type": "execute_result"
    }
   ],
   "source": [
    "tmp_series.isnull()"
   ]
  }
 ],
 "metadata": {
  "kernelspec": {
   "display_name": "lhs_3.10",
   "language": "python",
   "name": "python3"
  },
  "language_info": {
   "codemirror_mode": {
    "name": "ipython",
    "version": 3
   },
   "file_extension": ".py",
   "mimetype": "text/x-python",
   "name": "python",
   "nbconvert_exporter": "python",
   "pygments_lexer": "ipython3",
   "version": "3.10.13"
  },
  "orig_nbformat": 4
 },
 "nbformat": 4,
 "nbformat_minor": 2
}
