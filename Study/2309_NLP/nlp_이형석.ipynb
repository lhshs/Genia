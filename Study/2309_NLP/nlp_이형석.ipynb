{
 "cells": [
  {
   "cell_type": "markdown",
   "metadata": {},
   "source": [
    "## 자연어 처리 과제입니다\n",
    "\n",
    "파일명 제출 : nlp_{이름}.ipynb  \n",
    "제출기한일 : 2023.10.10  \n",
    "제출 이메일 : bluelemonsky7@gmail.com  \n",
    "분석 대상 데이터 : 네이버 평점 test 데이터\n",
    "\n",
    "평가 관점\n",
    "1. 코드를 작성하여 error 없이 진행해야 함\n",
    "2. 각종 모델을 비교하거나 선택한 이유 등을 작성\n",
    "3. train : test 비율은 7:3으로 함\n",
    "4. 최종 평가에서 train 데이터에 대한 정확도 90 이상, test 데이터에 대한 정확도는 85 이상을 목표로 함\n",
    "5. 모델 평가에서 고정된 결과가 나오도록 하세요 (random seed 설정)"
   ]
  },
  {
   "cell_type": "markdown",
   "metadata": {},
   "source": [
    "Part 1 . 분석 환경에 대한 정보를 보여주세요\n",
    "\n",
    "1. python 버전 3.10.13\n",
    "2. 주용 사용 패키지 버전 정보 \n"
   ]
  },
  {
   "cell_type": "markdown",
   "metadata": {},
   "source": [
    "Part 2. 분석 데이터를 로드하세요\n",
    "\n",
    "1. 판다스로 데이터를 read 하세요"
   ]
  },
  {
   "cell_type": "code",
   "execution_count": null,
   "metadata": {},
   "outputs": [],
   "source": []
  },
  {
   "cell_type": "markdown",
   "metadata": {},
   "source": [
    "Part 3. 텍스트 데이터를 EDA하세요\n",
    "\n",
    "1. 통계적으로 텍스트를 확인해 보세요\n",
    "2. 시각화 해보세요\n",
    "3. 불용어(stop words)를 찾아보세요\n",
    "4. 기타 여러 방법으로 EDA를 해보세요"
   ]
  },
  {
   "cell_type": "code",
   "execution_count": null,
   "metadata": {},
   "outputs": [],
   "source": []
  },
  {
   "cell_type": "markdown",
   "metadata": {},
   "source": [
    "Part 4. 텍스트 데이터를 임베딩 하세요\n",
    "\n",
    "1. 텍스트 토크나이즈를 해보세요\n",
    "2. 텍스트를 벡터화 하세요\n",
    "    - one-hot, count, tf-idf"
   ]
  },
  {
   "cell_type": "code",
   "execution_count": null,
   "metadata": {},
   "outputs": [],
   "source": []
  },
  {
   "cell_type": "markdown",
   "metadata": {},
   "source": [
    "Part 5. 분류 모델을 훈련하고 적용해 보세요"
   ]
  },
  {
   "cell_type": "code",
   "execution_count": null,
   "metadata": {},
   "outputs": [],
   "source": []
  },
  {
   "cell_type": "markdown",
   "metadata": {},
   "source": [
    "Part 6. 모델을 평가하세요\n",
    "- XAI"
   ]
  },
  {
   "cell_type": "code",
   "execution_count": null,
   "metadata": {},
   "outputs": [],
   "source": []
  }
 ],
 "metadata": {
  "kernelspec": {
   "display_name": "Python 3",
   "language": "python",
   "name": "python3"
  },
  "language_info": {
   "codemirror_mode": {
    "name": "ipython",
    "version": 3
   },
   "file_extension": ".py",
   "mimetype": "text/x-python",
   "name": "python",
   "nbconvert_exporter": "python",
   "pygments_lexer": "ipython3",
   "version": "3.10.13"
  },
  "orig_nbformat": 4
 },
 "nbformat": 4,
 "nbformat_minor": 2
}
