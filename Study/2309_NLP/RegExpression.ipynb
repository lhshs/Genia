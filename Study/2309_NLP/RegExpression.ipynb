{
 "cells": [
  {
   "cell_type": "code",
   "execution_count": 1,
   "metadata": {},
   "outputs": [],
   "source": [
    "import re"
   ]
  },
  {
   "cell_type": "markdown",
   "metadata": {},
   "source": [
    "### 정규표현식 \n",
    "\n",
    "- 메타 문자\n",
    "- 선택 패턴\n",
    "- 수량 한정자\n",
    "- 그룹"
   ]
  },
  {
   "cell_type": "markdown",
   "metadata": {},
   "source": [
    "'.' 문자 : 모든 문자 1개"
   ]
  },
  {
   "cell_type": "code",
   "execution_count": 3,
   "metadata": {},
   "outputs": [],
   "source": [
    "r = re.compile(\"a.c\")"
   ]
  },
  {
   "cell_type": "code",
   "execution_count": 15,
   "metadata": {},
   "outputs": [
    {
     "name": "stdout",
     "output_type": "stream",
     "text": [
      "<re.Match object; span=(0, 3), match='abc'> <class 're.Match'>\n"
     ]
    }
   ],
   "source": [
    "rs = r.search(\"abc\")\n",
    "print(rs, type(rs))"
   ]
  },
  {
   "cell_type": "markdown",
   "metadata": {},
   "source": [
    "x? : 존재 여부를 표현하며, x 문자가 존재할 수도 존재하지 않을 수도 있음을 의미"
   ]
  },
  {
   "cell_type": "code",
   "execution_count": 22,
   "metadata": {},
   "outputs": [
    {
     "data": {
      "text/plain": [
       "<re.Match object; span=(0, 3), match='abc'>"
      ]
     },
     "execution_count": 22,
     "metadata": {},
     "output_type": "execute_result"
    }
   ],
   "source": [
    "r = re.compile(\"ab?c\")\n",
    "r.search(\"abc\")"
   ]
  },
  {
   "cell_type": "code",
   "execution_count": 23,
   "metadata": {},
   "outputs": [
    {
     "name": "stdout",
     "output_type": "stream",
     "text": [
      "패턴 : x.y 매칭 문자열 리스트 : {'xay'}\n",
      "패턴 : x.* 매칭 문자열 리스트 : {'xaabbbbs', 'xay', 'xy', 'xaby', 'x', 'xaaay', 'xaaaay'}\n",
      "패턴 : x.+ 매칭 문자열 리스트 : {'xaabbbbs', 'xay', 'xy', 'xaby', 'xaaay', 'xaaaay'}\n",
      "패턴 : x.?y 매칭 문자열 리스트 : {'xy', 'xay'}\n",
      "패턴 : x.{3}y 매칭 문자열 리스트 : {'xaaay'}\n",
      "패턴 : x.{3,}y 매칭 문자열 리스트 : {'xaaay', 'xaaaay'}\n",
      "패턴 : x.{,2}y 매칭 문자열 리스트 : {'xy', 'xay', 'xaby'}\n",
      "패턴 : x.{3,4}y 매칭 문자열 리스트 : {'xaaay', 'xaaaay'}\n"
     ]
    }
   ],
   "source": [
    "string = '''xy\n",
    "            x\\ny\n",
    "            xay\n",
    "            xaby\n",
    "            xaaay\n",
    "            xaaaay\n",
    "            xaabbbbs'''\n",
    " \n",
    "pattern_list = ['x.y', 'x.*', 'x.+', 'x.?y', 'x.{3}y', 'x.{3,}y', 'x.{,2}y' , 'x.{3,4}y']\n",
    "for pattern in pattern_list:\n",
    "    match_string_list = re.findall(pattern, string)\n",
    "    if len(match_string_list) > 0: ##  \n",
    "        print('패턴 :', pattern, '매칭 문자열 리스트 :', set(match_string_list)) ## 매칭되는 문자열 출력\n",
    "    else:\n",
    "        print('패턴 :', pattern,'No Matched')"
   ]
  },
  {
   "cell_type": "markdown",
   "metadata": {},
   "source": [
    "### re.match()와 re.search()의 차이\n",
    "\n",
    "- re.search() : 정규 표현식 전체에 대해 문자열이 매치하는지 확인\n",
    "- re.match() : 문자열의 첫 부분부터 정규표현식과 매치하는지 확인\n",
    "    - group : 매치된 문자열 return\n",
    "    - start : 매치된 문자열의 시작 위치\n",
    "    - end : 매치된 문자열의 끝 위치\n",
    "    - span : 매치된 문자열의 (시작, 끝)에 해당하는 튜플 return"
   ]
  },
  {
   "cell_type": "code",
   "execution_count": 36,
   "metadata": {},
   "outputs": [
    {
     "name": "stdout",
     "output_type": "stream",
     "text": [
      "<re.Match object; span=(0, 3), match='kkk'>\n",
      "<re.Match object; span=(0, 3), match='kkk'>\n"
     ]
    }
   ],
   "source": [
    "r = re.compile(\"k{3}\")\n",
    "print(r.search(\"kkkabc\", 0))\n",
    "print(r.match(\"kkkabc\"))"
   ]
  }
 ],
 "metadata": {
  "kernelspec": {
   "display_name": "lhs_3.10",
   "language": "python",
   "name": "python3"
  },
  "language_info": {
   "codemirror_mode": {
    "name": "ipython",
    "version": 3
   },
   "file_extension": ".py",
   "mimetype": "text/x-python",
   "name": "python",
   "nbconvert_exporter": "python",
   "pygments_lexer": "ipython3",
   "version": "3.10.13"
  },
  "orig_nbformat": 4
 },
 "nbformat": 4,
 "nbformat_minor": 2
}
